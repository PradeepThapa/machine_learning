{
 "cells": [
  {
   "cell_type": "markdown",
   "metadata": {
    "colab_type": "text",
    "id": "74dkCyjsNE7_"
   },
   "source": [
    "#**SIT 720 - Machine Learning**\n",
    "\n",
    "Lecturer: Chandan Karmakar | karmakar@deakin.edu.au\n",
    "\n",
    "School of Information Technology,\n",
    "<br/>Deakin University, VIC 3125, Australia."
   ]
  },
  {
   "cell_type": "markdown",
   "metadata": {
    "colab_type": "text",
    "id": "gQhIyRIHNIhu"
   },
   "source": [
    "#**Assessment Task 3 (40 marks)**\n",
    "\n",
    "##Submission Instruction\n",
    "1.  Student should insert Python code or text responses into the cell followed by the question.\n",
    "\n",
    "2.  For answers regarding discussion or explanation, **maximum five sentences are suggested**.\n",
    "\n",
    "3.  Rename this notebook file appending your student ID. For example, for student ID 1234, the submitted file name should be A3_1234.ipynb.\n",
    "\n",
    "4.  Insert your student ID and name in the following cell."
   ]
  },
  {
   "cell_type": "code",
   "execution_count": 1,
   "metadata": {
    "colab": {},
    "colab_type": "code",
    "id": "gdZPzuPLNM5f"
   },
   "outputs": [],
   "source": [
    "# Student ID: 218191552\n",
    "\n",
    "# Student name: Pradeep Thapa"
   ]
  },
  {
   "cell_type": "markdown",
   "metadata": {
    "colab_type": "text",
    "id": "8Bb-CS27NWdS"
   },
   "source": [
    "## Background\n",
    "\n",
    "Environment and its changes are the most complex system. It is unarguably accepted that the temperature changes are greately affected by various environmental factors. Many of them are positively related to the  change, whereas, some have negative correlation. In this assesment task, you will analyse relationship among various environmental factors, which affect temperature.\n",
    "\n",
    "##The dataset\n",
    "\n",
    "**Dataset file name:** weather_dataset.csv\n",
    "\n",
    "**Dataset description:** The dataset contains total 10 features. Each row contains an hourly record of weather status and the data was recorded for the time period between 2006 and 2016.\n",
    "\n",
    "**Features and labels:** \n",
    "\n",
    "1.   recording_date_time (date_time): Date and time the data was recorded\n",
    "2.   precip_type (string): Precipitation status, blank (no value) indicates unknown status\n",
    "3.   temperature (float): Temperature in degree Celsius\n",
    "4.   apparent_temperature (float): Feel like temperature in degree Celsius\n",
    "5.   humidity (float): Percentage amount of water vapour in the air \n",
    "6.   wind_speed (float): Speed of the wind in km per hour\n",
    "7.   wind_bearing (int): The direction of wind in degree in geo-polar co-ordinate. Value 0 means perfect east, 90 means perfect north, 180 and 270 means west and south respectively.\n",
    "8.   visibility (float): Distance in km that is visible in naked eyes.\n",
    "9.   cloud_cover (float): The fraction of the sky obscured by clouds. The value is 1 if the observed area is fully cloudy, 0 if no clouds and other fractional value indicates the portion of the area covered by clouds.\n",
    "10.   pressure (float): Air pressure or atmospheric in milibars\n"
   ]
  },
  {
   "cell_type": "markdown",
   "metadata": {
    "colab_type": "text",
    "id": "TkUeSXbIODoE"
   },
   "source": [
    "##**Part 1: Linear Regression:**  **(25 marks)**\n",
    "\n",
    "\n",
    "1.   Load the dataset and split the data for training and testing - consider the data of last 2 years (2015 and 2016) for testing. Now exclude recording_date_time column from both training and test sets. Display the shape of training and test sets. **(3 marks)**"
   ]
  },
  {
   "cell_type": "code",
   "execution_count": 2,
   "metadata": {
    "colab": {},
    "colab_type": "code",
    "id": "KugpF4o5OKHD"
   },
   "outputs": [],
   "source": [
    "# imports\n",
    "import pandas as pd\n",
    "import numpy as np\n",
    "import matplotlib.pyplot as plt\n",
    "import seaborn as sns\n",
    "from sklearn.utils import shuffle\n",
    "from sklearn.linear_model import LinearRegression\n",
    "from sklearn.linear_model import LogisticRegression\n",
    "from sklearn.linear_model import Ridge\n",
    "from sklearn.linear_model import Lasso\n",
    "from sklearn.linear_model import ElasticNet\n",
    "from sklearn.metrics import mean_absolute_error, classification_report, confusion_matrix, ConfusionMatrixDisplay, accuracy_score\n",
    "from sklearn.model_selection import train_test_split\n",
    "from sklearn.preprocessing import StandardScaler\n",
    "from sklearn.preprocessing import LabelEncoder\n",
    "from sklearn.pipeline import Pipeline\n",
    "from sklearn.compose import ColumnTransformer\n",
    "from sklearn.model_selection import GridSearchCV\n",
    "from matplotlib import pyplot as plt"
   ]
  },
  {
   "cell_type": "code",
   "execution_count": 3,
   "metadata": {},
   "outputs": [
    {
     "data": {
      "text/html": [
       "<div>\n",
       "<style scoped>\n",
       "    .dataframe tbody tr th:only-of-type {\n",
       "        vertical-align: middle;\n",
       "    }\n",
       "\n",
       "    .dataframe tbody tr th {\n",
       "        vertical-align: top;\n",
       "    }\n",
       "\n",
       "    .dataframe thead th {\n",
       "        text-align: right;\n",
       "    }\n",
       "</style>\n",
       "<table border=\"1\" class=\"dataframe\">\n",
       "  <thead>\n",
       "    <tr style=\"text-align: right;\">\n",
       "      <th></th>\n",
       "      <th>recording_date_time</th>\n",
       "      <th>precip_type</th>\n",
       "      <th>temperature</th>\n",
       "      <th>apparent_temperature</th>\n",
       "      <th>humidity</th>\n",
       "      <th>wind_speed</th>\n",
       "      <th>wind_bearing</th>\n",
       "      <th>visibility</th>\n",
       "      <th>cloud_cover</th>\n",
       "      <th>pressure</th>\n",
       "    </tr>\n",
       "  </thead>\n",
       "  <tbody>\n",
       "    <tr>\n",
       "      <th>0</th>\n",
       "      <td>2006-04-01 00:00:00.000 +0200</td>\n",
       "      <td>rain</td>\n",
       "      <td>9.47</td>\n",
       "      <td>7.39</td>\n",
       "      <td>0.89</td>\n",
       "      <td>14.12</td>\n",
       "      <td>251</td>\n",
       "      <td>15.83</td>\n",
       "      <td>0</td>\n",
       "      <td>1015.13</td>\n",
       "    </tr>\n",
       "    <tr>\n",
       "      <th>1</th>\n",
       "      <td>2006-04-01 01:00:00.000 +0200</td>\n",
       "      <td>rain</td>\n",
       "      <td>9.36</td>\n",
       "      <td>7.23</td>\n",
       "      <td>0.86</td>\n",
       "      <td>14.26</td>\n",
       "      <td>259</td>\n",
       "      <td>15.83</td>\n",
       "      <td>0</td>\n",
       "      <td>1015.63</td>\n",
       "    </tr>\n",
       "    <tr>\n",
       "      <th>2</th>\n",
       "      <td>2006-04-01 02:00:00.000 +0200</td>\n",
       "      <td>rain</td>\n",
       "      <td>9.38</td>\n",
       "      <td>9.38</td>\n",
       "      <td>0.89</td>\n",
       "      <td>3.93</td>\n",
       "      <td>204</td>\n",
       "      <td>14.96</td>\n",
       "      <td>0</td>\n",
       "      <td>1015.94</td>\n",
       "    </tr>\n",
       "    <tr>\n",
       "      <th>3</th>\n",
       "      <td>2006-04-01 03:00:00.000 +0200</td>\n",
       "      <td>rain</td>\n",
       "      <td>8.29</td>\n",
       "      <td>5.94</td>\n",
       "      <td>0.83</td>\n",
       "      <td>14.10</td>\n",
       "      <td>269</td>\n",
       "      <td>15.83</td>\n",
       "      <td>0</td>\n",
       "      <td>1016.41</td>\n",
       "    </tr>\n",
       "    <tr>\n",
       "      <th>4</th>\n",
       "      <td>2006-04-01 04:00:00.000 +0200</td>\n",
       "      <td>rain</td>\n",
       "      <td>8.76</td>\n",
       "      <td>6.98</td>\n",
       "      <td>0.83</td>\n",
       "      <td>11.04</td>\n",
       "      <td>259</td>\n",
       "      <td>15.83</td>\n",
       "      <td>0</td>\n",
       "      <td>1016.51</td>\n",
       "    </tr>\n",
       "    <tr>\n",
       "      <th>...</th>\n",
       "      <td>...</td>\n",
       "      <td>...</td>\n",
       "      <td>...</td>\n",
       "      <td>...</td>\n",
       "      <td>...</td>\n",
       "      <td>...</td>\n",
       "      <td>...</td>\n",
       "      <td>...</td>\n",
       "      <td>...</td>\n",
       "      <td>...</td>\n",
       "    </tr>\n",
       "    <tr>\n",
       "      <th>96448</th>\n",
       "      <td>2016-09-09 19:00:00.000 +0200</td>\n",
       "      <td>rain</td>\n",
       "      <td>26.02</td>\n",
       "      <td>26.02</td>\n",
       "      <td>0.43</td>\n",
       "      <td>11.00</td>\n",
       "      <td>31</td>\n",
       "      <td>16.10</td>\n",
       "      <td>0</td>\n",
       "      <td>1014.36</td>\n",
       "    </tr>\n",
       "    <tr>\n",
       "      <th>96449</th>\n",
       "      <td>2016-09-09 20:00:00.000 +0200</td>\n",
       "      <td>rain</td>\n",
       "      <td>24.58</td>\n",
       "      <td>24.58</td>\n",
       "      <td>0.48</td>\n",
       "      <td>10.09</td>\n",
       "      <td>20</td>\n",
       "      <td>15.55</td>\n",
       "      <td>0</td>\n",
       "      <td>1015.16</td>\n",
       "    </tr>\n",
       "    <tr>\n",
       "      <th>96450</th>\n",
       "      <td>2016-09-09 21:00:00.000 +0200</td>\n",
       "      <td>rain</td>\n",
       "      <td>22.04</td>\n",
       "      <td>22.04</td>\n",
       "      <td>0.56</td>\n",
       "      <td>8.98</td>\n",
       "      <td>30</td>\n",
       "      <td>16.10</td>\n",
       "      <td>0</td>\n",
       "      <td>1015.66</td>\n",
       "    </tr>\n",
       "    <tr>\n",
       "      <th>96451</th>\n",
       "      <td>2016-09-09 22:00:00.000 +0200</td>\n",
       "      <td>rain</td>\n",
       "      <td>21.52</td>\n",
       "      <td>21.52</td>\n",
       "      <td>0.60</td>\n",
       "      <td>10.53</td>\n",
       "      <td>20</td>\n",
       "      <td>16.10</td>\n",
       "      <td>0</td>\n",
       "      <td>1015.95</td>\n",
       "    </tr>\n",
       "    <tr>\n",
       "      <th>96452</th>\n",
       "      <td>2016-09-09 23:00:00.000 +0200</td>\n",
       "      <td>rain</td>\n",
       "      <td>20.44</td>\n",
       "      <td>20.44</td>\n",
       "      <td>0.61</td>\n",
       "      <td>5.88</td>\n",
       "      <td>39</td>\n",
       "      <td>15.52</td>\n",
       "      <td>0</td>\n",
       "      <td>1016.16</td>\n",
       "    </tr>\n",
       "  </tbody>\n",
       "</table>\n",
       "<p>96453 rows × 10 columns</p>\n",
       "</div>"
      ],
      "text/plain": [
       "                 recording_date_time precip_type  temperature  \\\n",
       "0      2006-04-01 00:00:00.000 +0200        rain         9.47   \n",
       "1      2006-04-01 01:00:00.000 +0200        rain         9.36   \n",
       "2      2006-04-01 02:00:00.000 +0200        rain         9.38   \n",
       "3      2006-04-01 03:00:00.000 +0200        rain         8.29   \n",
       "4      2006-04-01 04:00:00.000 +0200        rain         8.76   \n",
       "...                              ...         ...          ...   \n",
       "96448  2016-09-09 19:00:00.000 +0200        rain        26.02   \n",
       "96449  2016-09-09 20:00:00.000 +0200        rain        24.58   \n",
       "96450  2016-09-09 21:00:00.000 +0200        rain        22.04   \n",
       "96451  2016-09-09 22:00:00.000 +0200        rain        21.52   \n",
       "96452  2016-09-09 23:00:00.000 +0200        rain        20.44   \n",
       "\n",
       "       apparent_temperature  humidity  wind_speed  wind_bearing  visibility  \\\n",
       "0                      7.39      0.89       14.12           251       15.83   \n",
       "1                      7.23      0.86       14.26           259       15.83   \n",
       "2                      9.38      0.89        3.93           204       14.96   \n",
       "3                      5.94      0.83       14.10           269       15.83   \n",
       "4                      6.98      0.83       11.04           259       15.83   \n",
       "...                     ...       ...         ...           ...         ...   \n",
       "96448                 26.02      0.43       11.00            31       16.10   \n",
       "96449                 24.58      0.48       10.09            20       15.55   \n",
       "96450                 22.04      0.56        8.98            30       16.10   \n",
       "96451                 21.52      0.60       10.53            20       16.10   \n",
       "96452                 20.44      0.61        5.88            39       15.52   \n",
       "\n",
       "       cloud_cover  pressure  \n",
       "0                0   1015.13  \n",
       "1                0   1015.63  \n",
       "2                0   1015.94  \n",
       "3                0   1016.41  \n",
       "4                0   1016.51  \n",
       "...            ...       ...  \n",
       "96448            0   1014.36  \n",
       "96449            0   1015.16  \n",
       "96450            0   1015.66  \n",
       "96451            0   1015.95  \n",
       "96452            0   1016.16  \n",
       "\n",
       "[96453 rows x 10 columns]"
      ]
     },
     "execution_count": 3,
     "metadata": {},
     "output_type": "execute_result"
    }
   ],
   "source": [
    "# load dataset\n",
    "weather_df = pd.read_csv('weather_dataset.csv')\n",
    "\n",
    "# print dataset\n",
    "weather_df"
   ]
  },
  {
   "cell_type": "code",
   "execution_count": 4,
   "metadata": {},
   "outputs": [
    {
     "name": "stdout",
     "output_type": "stream",
     "text": [
      "There are 0 missing values in the dataset.\n"
     ]
    }
   ],
   "source": [
    "# check missing values\n",
    "print(f'There are {np.sum(weather_df.isnull().sum())} missing values in the dataset.')"
   ]
  },
  {
   "cell_type": "code",
   "execution_count": 5,
   "metadata": {
    "pycharm": {
     "name": "#%%\n"
    }
   },
   "outputs": [],
   "source": [
    "# copy main dataframe\n",
    "df = weather_df.copy()\n",
    "\n",
    "# make date column\n",
    "df['date'] =  df['recording_date_time'].str.slice(start=0, stop=10, step=1)"
   ]
  },
  {
   "cell_type": "code",
   "execution_count": 6,
   "metadata": {
    "pycharm": {
     "name": "#%%\n"
    }
   },
   "outputs": [],
   "source": [
    "# convert to date format\n",
    "df['date'] = pd.to_datetime(df['date'], format=\"%Y/%m/%d\", errors='raise')"
   ]
  },
  {
   "cell_type": "markdown",
   "metadata": {
    "pycharm": {
     "name": "#%% md\n"
    }
   },
   "source": [
    "**Pre-Processing categorical columns**\n",
    " - Feature column precip_type is categorical so we need to convert to numerical values.\n",
    " - Assume there is no order (not ordinal) in precip_type, we need to one hot encode the values."
   ]
  },
  {
   "cell_type": "code",
   "execution_count": 7,
   "metadata": {
    "pycharm": {
     "name": "#%%\n"
    }
   },
   "outputs": [],
   "source": [
    "# use pd.concat to join the new columns with your original dataframe\n",
    "df = pd.concat([df,pd.get_dummies(df['precip_type'], prefix='precip_type')],axis=1)\n",
    "\n",
    "# drop original column\n",
    "df.drop(['precip_type'],axis=1, inplace=True)"
   ]
  },
  {
   "cell_type": "markdown",
   "metadata": {
    "pycharm": {
     "name": "#%% md\n"
    }
   },
   "source": [
    "**Drop column**<br>\n",
    "- Column 'cloud_cover' has same value (0) across all rows so it can be dropped."
   ]
  },
  {
   "cell_type": "code",
   "execution_count": 8,
   "metadata": {
    "pycharm": {
     "name": "#%%\n"
    }
   },
   "outputs": [
    {
     "data": {
      "text/html": [
       "<div>\n",
       "<style scoped>\n",
       "    .dataframe tbody tr th:only-of-type {\n",
       "        vertical-align: middle;\n",
       "    }\n",
       "\n",
       "    .dataframe tbody tr th {\n",
       "        vertical-align: top;\n",
       "    }\n",
       "\n",
       "    .dataframe thead th {\n",
       "        text-align: right;\n",
       "    }\n",
       "</style>\n",
       "<table border=\"1\" class=\"dataframe\">\n",
       "  <thead>\n",
       "    <tr style=\"text-align: right;\">\n",
       "      <th></th>\n",
       "      <th>recording_date_time</th>\n",
       "      <th>temperature</th>\n",
       "      <th>apparent_temperature</th>\n",
       "      <th>humidity</th>\n",
       "      <th>wind_speed</th>\n",
       "      <th>wind_bearing</th>\n",
       "      <th>visibility</th>\n",
       "      <th>pressure</th>\n",
       "      <th>date</th>\n",
       "      <th>precip_type_rain</th>\n",
       "      <th>precip_type_snow</th>\n",
       "    </tr>\n",
       "  </thead>\n",
       "  <tbody>\n",
       "    <tr>\n",
       "      <th>0</th>\n",
       "      <td>2006-04-01 00:00:00.000 +0200</td>\n",
       "      <td>9.47</td>\n",
       "      <td>7.39</td>\n",
       "      <td>0.89</td>\n",
       "      <td>14.12</td>\n",
       "      <td>251</td>\n",
       "      <td>15.83</td>\n",
       "      <td>1015.13</td>\n",
       "      <td>2006-04-01</td>\n",
       "      <td>1</td>\n",
       "      <td>0</td>\n",
       "    </tr>\n",
       "    <tr>\n",
       "      <th>1</th>\n",
       "      <td>2006-04-01 01:00:00.000 +0200</td>\n",
       "      <td>9.36</td>\n",
       "      <td>7.23</td>\n",
       "      <td>0.86</td>\n",
       "      <td>14.26</td>\n",
       "      <td>259</td>\n",
       "      <td>15.83</td>\n",
       "      <td>1015.63</td>\n",
       "      <td>2006-04-01</td>\n",
       "      <td>1</td>\n",
       "      <td>0</td>\n",
       "    </tr>\n",
       "    <tr>\n",
       "      <th>2</th>\n",
       "      <td>2006-04-01 02:00:00.000 +0200</td>\n",
       "      <td>9.38</td>\n",
       "      <td>9.38</td>\n",
       "      <td>0.89</td>\n",
       "      <td>3.93</td>\n",
       "      <td>204</td>\n",
       "      <td>14.96</td>\n",
       "      <td>1015.94</td>\n",
       "      <td>2006-04-01</td>\n",
       "      <td>1</td>\n",
       "      <td>0</td>\n",
       "    </tr>\n",
       "    <tr>\n",
       "      <th>3</th>\n",
       "      <td>2006-04-01 03:00:00.000 +0200</td>\n",
       "      <td>8.29</td>\n",
       "      <td>5.94</td>\n",
       "      <td>0.83</td>\n",
       "      <td>14.10</td>\n",
       "      <td>269</td>\n",
       "      <td>15.83</td>\n",
       "      <td>1016.41</td>\n",
       "      <td>2006-04-01</td>\n",
       "      <td>1</td>\n",
       "      <td>0</td>\n",
       "    </tr>\n",
       "    <tr>\n",
       "      <th>4</th>\n",
       "      <td>2006-04-01 04:00:00.000 +0200</td>\n",
       "      <td>8.76</td>\n",
       "      <td>6.98</td>\n",
       "      <td>0.83</td>\n",
       "      <td>11.04</td>\n",
       "      <td>259</td>\n",
       "      <td>15.83</td>\n",
       "      <td>1016.51</td>\n",
       "      <td>2006-04-01</td>\n",
       "      <td>1</td>\n",
       "      <td>0</td>\n",
       "    </tr>\n",
       "    <tr>\n",
       "      <th>...</th>\n",
       "      <td>...</td>\n",
       "      <td>...</td>\n",
       "      <td>...</td>\n",
       "      <td>...</td>\n",
       "      <td>...</td>\n",
       "      <td>...</td>\n",
       "      <td>...</td>\n",
       "      <td>...</td>\n",
       "      <td>...</td>\n",
       "      <td>...</td>\n",
       "      <td>...</td>\n",
       "    </tr>\n",
       "    <tr>\n",
       "      <th>96448</th>\n",
       "      <td>2016-09-09 19:00:00.000 +0200</td>\n",
       "      <td>26.02</td>\n",
       "      <td>26.02</td>\n",
       "      <td>0.43</td>\n",
       "      <td>11.00</td>\n",
       "      <td>31</td>\n",
       "      <td>16.10</td>\n",
       "      <td>1014.36</td>\n",
       "      <td>2016-09-09</td>\n",
       "      <td>1</td>\n",
       "      <td>0</td>\n",
       "    </tr>\n",
       "    <tr>\n",
       "      <th>96449</th>\n",
       "      <td>2016-09-09 20:00:00.000 +0200</td>\n",
       "      <td>24.58</td>\n",
       "      <td>24.58</td>\n",
       "      <td>0.48</td>\n",
       "      <td>10.09</td>\n",
       "      <td>20</td>\n",
       "      <td>15.55</td>\n",
       "      <td>1015.16</td>\n",
       "      <td>2016-09-09</td>\n",
       "      <td>1</td>\n",
       "      <td>0</td>\n",
       "    </tr>\n",
       "    <tr>\n",
       "      <th>96450</th>\n",
       "      <td>2016-09-09 21:00:00.000 +0200</td>\n",
       "      <td>22.04</td>\n",
       "      <td>22.04</td>\n",
       "      <td>0.56</td>\n",
       "      <td>8.98</td>\n",
       "      <td>30</td>\n",
       "      <td>16.10</td>\n",
       "      <td>1015.66</td>\n",
       "      <td>2016-09-09</td>\n",
       "      <td>1</td>\n",
       "      <td>0</td>\n",
       "    </tr>\n",
       "    <tr>\n",
       "      <th>96451</th>\n",
       "      <td>2016-09-09 22:00:00.000 +0200</td>\n",
       "      <td>21.52</td>\n",
       "      <td>21.52</td>\n",
       "      <td>0.60</td>\n",
       "      <td>10.53</td>\n",
       "      <td>20</td>\n",
       "      <td>16.10</td>\n",
       "      <td>1015.95</td>\n",
       "      <td>2016-09-09</td>\n",
       "      <td>1</td>\n",
       "      <td>0</td>\n",
       "    </tr>\n",
       "    <tr>\n",
       "      <th>96452</th>\n",
       "      <td>2016-09-09 23:00:00.000 +0200</td>\n",
       "      <td>20.44</td>\n",
       "      <td>20.44</td>\n",
       "      <td>0.61</td>\n",
       "      <td>5.88</td>\n",
       "      <td>39</td>\n",
       "      <td>15.52</td>\n",
       "      <td>1016.16</td>\n",
       "      <td>2016-09-09</td>\n",
       "      <td>1</td>\n",
       "      <td>0</td>\n",
       "    </tr>\n",
       "  </tbody>\n",
       "</table>\n",
       "<p>96453 rows × 11 columns</p>\n",
       "</div>"
      ],
      "text/plain": [
       "                 recording_date_time  temperature  apparent_temperature  \\\n",
       "0      2006-04-01 00:00:00.000 +0200         9.47                  7.39   \n",
       "1      2006-04-01 01:00:00.000 +0200         9.36                  7.23   \n",
       "2      2006-04-01 02:00:00.000 +0200         9.38                  9.38   \n",
       "3      2006-04-01 03:00:00.000 +0200         8.29                  5.94   \n",
       "4      2006-04-01 04:00:00.000 +0200         8.76                  6.98   \n",
       "...                              ...          ...                   ...   \n",
       "96448  2016-09-09 19:00:00.000 +0200        26.02                 26.02   \n",
       "96449  2016-09-09 20:00:00.000 +0200        24.58                 24.58   \n",
       "96450  2016-09-09 21:00:00.000 +0200        22.04                 22.04   \n",
       "96451  2016-09-09 22:00:00.000 +0200        21.52                 21.52   \n",
       "96452  2016-09-09 23:00:00.000 +0200        20.44                 20.44   \n",
       "\n",
       "       humidity  wind_speed  wind_bearing  visibility  pressure       date  \\\n",
       "0          0.89       14.12           251       15.83   1015.13 2006-04-01   \n",
       "1          0.86       14.26           259       15.83   1015.63 2006-04-01   \n",
       "2          0.89        3.93           204       14.96   1015.94 2006-04-01   \n",
       "3          0.83       14.10           269       15.83   1016.41 2006-04-01   \n",
       "4          0.83       11.04           259       15.83   1016.51 2006-04-01   \n",
       "...         ...         ...           ...         ...       ...        ...   \n",
       "96448      0.43       11.00            31       16.10   1014.36 2016-09-09   \n",
       "96449      0.48       10.09            20       15.55   1015.16 2016-09-09   \n",
       "96450      0.56        8.98            30       16.10   1015.66 2016-09-09   \n",
       "96451      0.60       10.53            20       16.10   1015.95 2016-09-09   \n",
       "96452      0.61        5.88            39       15.52   1016.16 2016-09-09   \n",
       "\n",
       "       precip_type_rain  precip_type_snow  \n",
       "0                     1                 0  \n",
       "1                     1                 0  \n",
       "2                     1                 0  \n",
       "3                     1                 0  \n",
       "4                     1                 0  \n",
       "...                 ...               ...  \n",
       "96448                 1                 0  \n",
       "96449                 1                 0  \n",
       "96450                 1                 0  \n",
       "96451                 1                 0  \n",
       "96452                 1                 0  \n",
       "\n",
       "[96453 rows x 11 columns]"
      ]
     },
     "execution_count": 8,
     "metadata": {},
     "output_type": "execute_result"
    }
   ],
   "source": [
    "# unique values on cloud_cover column\n",
    "df['cloud_cover'].unique() # returns [0]\n",
    "\n",
    "# drop cloud_cover column\n",
    "df.drop(['cloud_cover'],axis=1, inplace=True)\n",
    "\n",
    "df"
   ]
  },
  {
   "cell_type": "code",
   "execution_count": 9,
   "metadata": {
    "pycharm": {
     "name": "#%%\n"
    }
   },
   "outputs": [],
   "source": [
    "# split train test data\n",
    "train_ds = df[pd.to_datetime(df.date) < '2015-01-01'] # before 2015\n",
    "test_ds = df[pd.to_datetime(df.date) >= '2015-01-01']\n",
    "\n",
    "# shuffle the training data\n",
    "train_ds = shuffle(train_ds, random_state=0)"
   ]
  },
  {
   "cell_type": "code",
   "execution_count": 10,
   "metadata": {
    "pycharm": {
     "name": "#%%\n"
    }
   },
   "outputs": [
    {
     "name": "stdout",
     "output_type": "stream",
     "text": [
      "The shape of training is (78909, 9)\n",
      "The shape of testing is (17544, 9)\n"
     ]
    }
   ],
   "source": [
    "# exclude recording_date_time column from both training and test sets\n",
    "del train_ds['date']\n",
    "del test_ds ['date']\n",
    "del train_ds['recording_date_time']\n",
    "del test_ds['recording_date_time']\n",
    "\n",
    "# Display the shape of training and test sets\n",
    "train_shape = train_ds.shape\n",
    "test_shape = test_ds.shape\n",
    "\n",
    "print(f'The shape of training is {train_shape}')\n",
    "print(f'The shape of testing is {test_shape}')"
   ]
  },
  {
   "cell_type": "markdown",
   "metadata": {
    "colab_type": "text",
    "id": "tir1JyxlOVQf",
    "pycharm": {
     "name": "#%% md\n"
    }
   },
   "source": [
    "2.  Consider the 'temperature' as the target. List the insignificant features for predicting temperature, if any. Explain your findings. **(5 marks)**\n",
    "<br/><font color='green'>**[Hint for students: See the \"7.3 Relevance and Covariance among features or variables\" for more information.]** <font/>"
   ]
  },
  {
   "cell_type": "code",
   "execution_count": 11,
   "metadata": {
    "pycharm": {
     "name": "#%%\n"
    }
   },
   "outputs": [],
   "source": [
    "# consider temperature as the target\n",
    "x_train = train_ds.drop(columns=['temperature'])\n",
    "y_train = train_ds['temperature']\n",
    "\n",
    "x_test = test_ds.drop(columns=['temperature'])\n",
    "y_test = test_ds['temperature']"
   ]
  },
  {
   "cell_type": "code",
   "execution_count": 12,
   "metadata": {
    "colab": {},
    "colab_type": "code",
    "id": "hMLc-93uOMhY",
    "pycharm": {
     "name": "#%%\n"
    }
   },
   "outputs": [
    {
     "data": {
      "image/png": "[encoded data removed]",
      "text/plain": [
       "<Figure size 864x720 with 2 Axes>"
      ]
     },
     "metadata": {
      "needs_background": "light"
     },
     "output_type": "display_data"
    }
   ],
   "source": [
    "# Using Pearson Correlation\n",
    "plt.figure(figsize=(12,10))\n",
    "cor = train_ds.corr()\n",
    "sns.heatmap(cor, annot=True, cmap=plt.cm.Reds)\n",
    "plt.show()"
   ]
  },
  {
   "cell_type": "markdown",
   "metadata": {
    "pycharm": {
     "name": "#%% md\n"
    }
   },
   "source": [
    "**Assumption**\n",
    "- Select features which has correlation of above 0.5 (taking absolute value) with the output variable temperature.\n",
    "It is important to take absolute values as negative correlation value impacts the model as well. In other words,\n",
    "if feature has higher the negative correlation then if it goes downward, the target would go upwards. Similarly, if it has positive, it is vice-versa."
   ]
  },
  {
   "cell_type": "code",
   "execution_count": 13,
   "metadata": {
    "pycharm": {
     "name": "#%%\n"
    }
   },
   "outputs": [
    {
     "data": {
      "text/plain": [
       "temperature             1.000000\n",
       "apparent_temperature    0.992413\n",
       "humidity                0.631635\n",
       "precip_type_rain        0.578395\n",
       "precip_type_snow        0.578395\n",
       "Name: temperature, dtype: float64"
      ]
     },
     "execution_count": 13,
     "metadata": {},
     "output_type": "execute_result"
    }
   ],
   "source": [
    "# Correlation with temperature\n",
    "target = abs(cor[\"temperature\"])\n",
    "relevant_features = target[target>0.5]\n",
    "relevant_features"
   ]
  },
  {
   "cell_type": "markdown",
   "metadata": {
    "pycharm": {
     "name": "#%% md\n"
    }
   },
   "source": [
    "**Insignificant features for predicting temperature:**\n",
    "- wind_speed\n",
    "- wind_bearing\n",
    "- visibility\n",
    "- pressure\n",
    "\n",
    "**Findings**\n",
    "\n",
    "\n",
    "I found that the temperature, apparent_temperature, humidity and precip_type features are highly\n",
    "correlated to temperature. These features either positively or negatively highly correlated as I took the absolute\n",
    "value to get the highest impacting features for the target variable. Absolute value makes the correlation between 0-1 where 0 is independent\n",
    "feature and 1 is highly correlated feature (can be both negative or positive).\n",
    "Feature 'temperature' is highly correlated to itself which is\n",
    "an obvious. Similarly, apparent_temperature highly impacts the temperature. I used the threshold of 0.5 to limit the features.\n",
    "The other finding is that not all features contribute equally to the target output. Some features are highly\n",
    "correlated and some are not at all.\n",
    "\n",
    "Features such as wind_speed, wind-bearing, visibility and pressure are not highly correlated to temperature. They are below\n",
    "the threshold of 0.5 correlation value."
   ]
  },
  {
   "cell_type": "markdown",
   "metadata": {
    "colab_type": "text",
    "id": "_mC_pm60V4VB",
    "pycharm": {
     "name": "#%% md\n"
    }
   },
   "source": [
    "3.  Now create a linear model considering the 'temperature' as the target variable and other columns as features (you can optionally remove non-contributing features). Show the test performance (as Mean Absolute Error, MAE) of the model. **(5 marks)**"
   ]
  },
  {
   "cell_type": "code",
   "execution_count": 14,
   "metadata": {
    "colab": {},
    "colab_type": "code",
    "id": "wUIhRhssWq8h",
    "pycharm": {
     "name": "#%%\n"
    }
   },
   "outputs": [
    {
     "name": "stdout",
     "output_type": "stream",
     "text": [
      "The MAE of the model on test data is 0.7635 \n"
     ]
    }
   ],
   "source": [
    "# copy x_train and x_test\n",
    "train_x = x_train.copy()\n",
    "test_x = x_test.copy()\n",
    "\n",
    "# important features\n",
    "important_features = ['apparent_temperature', 'humidity', 'precip_type_rain', 'precip_type_snow']\n",
    "\n",
    "# numerical features\n",
    "numerical_col = ['apparent_temperature', 'humidity']\n",
    "\n",
    "# column transformer\n",
    "numerical_transform = ColumnTransformer([\n",
    "    ('standard_scaler', StandardScaler(), numerical_col)\n",
    "], remainder='passthrough')\n",
    "\n",
    "# select important features only\n",
    "train_x = train_x[important_features]\n",
    "test_x = test_x[important_features]\n",
    "\n",
    "# build linear regression model\n",
    "lr = LinearRegression()\n",
    "\n",
    "# make a pipeline\n",
    "lr_pipeline = Pipeline([\n",
    "    ('standard_scaling', numerical_transform),\n",
    "    ('linear_regression', lr)\n",
    "])\n",
    "\n",
    "# train\n",
    "lr_pipeline.fit(train_x, y_train)\n",
    "\n",
    "# predict\n",
    "y_pred = lr_pipeline.predict(test_x)\n",
    "\n",
    "# evaluate\n",
    "lr_mae = mean_absolute_error(y_test, y_pred)\n",
    "\n",
    "# print\n",
    "print(f'The MAE of the model on test data is {lr_mae:.4f} ')"
   ]
  },
  {
   "cell_type": "markdown",
   "metadata": {
    "colab": {},
    "colab_type": "code",
    "id": "7GpmkeRLOOkM",
    "pycharm": {
     "name": "#%% md\n"
    }
   },
   "source": [
    "4. Find the feature which shows maximum correlation with \"pressure\". Create a linear regression model to predict temperature using these two features ('pressure' and the one which shows maximum correlation). Compare the performance of this simplified model with the model developed in the previous question (Q-3). Explain the performance variation, if any. **(6 marks)**"
   ]
  },
  {
   "cell_type": "code",
   "execution_count": 15,
   "metadata": {
    "colab_type": "text",
    "id": "uJZCDkQcH_k6",
    "pycharm": {
     "name": "#%%\n"
    }
   },
   "outputs": [
    {
     "data": {
      "text/plain": [
       "humidity                0.005328\n",
       "apparent_temperature    0.005677\n",
       "temperature             0.010480\n",
       "wind_bearing            0.010980\n",
       "precip_type_rain        0.018172\n",
       "precip_type_snow        0.018172\n",
       "wind_speed              0.046858\n",
       "visibility              0.051819\n",
       "pressure                1.000000\n",
       "Name: pressure, dtype: float64"
      ]
     },
     "execution_count": 15,
     "metadata": {},
     "output_type": "execute_result"
    }
   ],
   "source": [
    "# Correlation with pressure\n",
    "pressure_target = abs(cor[\"pressure\"])\n",
    "pressure_target.sort_values()"
   ]
  },
  {
   "cell_type": "code",
   "execution_count": 16,
   "metadata": {
    "pycharm": {
     "name": "#%%\n"
    }
   },
   "outputs": [
    {
     "name": "stdout",
     "output_type": "stream",
     "text": [
      "The MAE using feature pressure and visibility is 6.499.\n"
     ]
    }
   ],
   "source": [
    "# copy x_train and y_train\n",
    "train_x_ = x_train.copy()\n",
    "test_x_ = x_test.copy()\n",
    "\n",
    "# new features\n",
    "new_features = ['pressure', 'visibility']\n",
    "\n",
    "# select features\n",
    "train_x_ = train_x_[new_features]\n",
    "test_x_ = test_x_[new_features]\n",
    "\n",
    "# create model\n",
    "lr_ = LinearRegression()\n",
    "\n",
    "# make pipeline with scaling\n",
    "lr_pipeline_ = Pipeline([\n",
    "    ('scaler', StandardScaler()),\n",
    "    ('linear_regression', lr_)\n",
    "])\n",
    "lr_pipeline_.fit(train_x_, y_train) # fit the training data\n",
    "\n",
    "# make prediction\n",
    "y_pred_ = lr_pipeline_.predict(test_x_)\n",
    "\n",
    "# evaluate\n",
    "mae = mean_absolute_error(y_test, y_pred_)\n",
    "\n",
    "# print\n",
    "print(f'The MAE using feature pressure and visibility is {mae:.3f}.')"
   ]
  },
  {
   "cell_type": "markdown",
   "metadata": {
    "pycharm": {
     "name": "#%% md\n"
    }
   },
   "source": [
    "**Performance Variation**\n",
    "> The Mean Absolute Error (MAE) for the previously developed model is 0.7635 and for the new simplified model is 6.499. As we can see that the MAE for the simplified model is much higher than the prevously developed model.\n",
    "This is because the previous model used more features and highly correlated features to our target 'temperature'. However, for the simplified model, we used two features and correlated to 'pressure' feature which is not our target feature."
   ]
  },
  {
   "cell_type": "markdown",
   "metadata": {
    "colab_type": "text",
    "id": "7DrSojxhXpwL",
    "pycharm": {
     "name": "#%% md\n"
    }
   },
   "source": [
    "5. Apportion the complete dataset into training and test sets, with an 40-60 split. **(6 marks)**\n",
    "\n",
    "  (a)  Train a linear regression model without considering overfitting scenario and report the test performance. \n",
    "  \n",
    "  (b) Create an optimal regularised linear regression model and report the test performance.\n",
    "  \n",
    "  (c) Explain the reason behind the performance variation, if any.\n"
   ]
  },
  {
   "cell_type": "code",
   "execution_count": 17,
   "metadata": {
    "colab_type": "text",
    "id": "_eGL6Jz_KJdH",
    "pycharm": {
     "name": "#%%\n"
    }
   },
   "outputs": [],
   "source": [
    "'''\n",
    ":var df, dataframe from above\n",
    "'''\n",
    "\n",
    "# drop 'recording_date_time' and 'date' from the table\n",
    "del df['recording_date_time']\n",
    "del df['date']\n",
    "\n",
    "# split featurs and labels\n",
    "X = df.drop(columns=['temperature'])\n",
    "y = df['temperature']"
   ]
  },
  {
   "cell_type": "code",
   "execution_count": 18,
   "metadata": {
    "pycharm": {
     "name": "#%%\n"
    }
   },
   "outputs": [
    {
     "data": {
      "text/plain": [
       "((38581, 8), (38581,), (57872, 8), (57872,))"
      ]
     },
     "execution_count": 18,
     "metadata": {},
     "output_type": "execute_result"
    }
   ],
   "source": [
    "'''\n",
    "Assumption:\n",
    " - \"Complete dataset into training and test sets, with an 40-60 split\" refers to 40% training and 60% testing data split.\n",
    "'''\n",
    "# train test split\n",
    "train_featues, test_features, train_labels, test_labels = train_test_split(\n",
    "    X, y, test_size=0.6, random_state=100, shuffle=True\n",
    ")\n",
    "train_featues.shape, train_labels.shape, test_features.shape, test_labels.shape"
   ]
  },
  {
   "cell_type": "code",
   "execution_count": 19,
   "metadata": {
    "pycharm": {
     "name": "#%%\n"
    }
   },
   "outputs": [
    {
     "name": "stdout",
     "output_type": "stream",
     "text": [
      "The MAE is 0.7401\n"
     ]
    }
   ],
   "source": [
    "# build model\n",
    "l_reg = LinearRegression()\n",
    "\n",
    "# numerical columns\n",
    "numerical_cols = ['apparent_temperature', 'humidity', 'wind_speed', 'wind_bearing', 'visibility', 'pressure']\n",
    "\n",
    "# column transformer\n",
    "num_transform = ColumnTransformer([\n",
    "    ('scaler', StandardScaler(), numerical_cols)\n",
    "], remainder='passthrough')\n",
    "\n",
    "# build pipeline\n",
    "l_reg_pipeline = Pipeline([\n",
    "    ('scaler', num_transform),\n",
    "    ('linear_reg', l_reg)\n",
    "])\n",
    "\n",
    "# train with training data\n",
    "l_reg_pipeline.fit(train_featues, train_labels) \n",
    "\n",
    "# predict\n",
    "y_hat = l_reg_pipeline.predict(test_features)\n",
    "\n",
    "# evaluate\n",
    "l_reg_mae = mean_absolute_error(y_hat, test_labels)\n",
    "\n",
    "# print MAE\n",
    "print(f'The MAE is {l_reg_mae:.4f}')"
   ]
  },
  {
   "cell_type": "markdown",
   "metadata": {
    "pycharm": {
     "name": "#%% md\n"
    }
   },
   "source": [
    "I am using **Lasso Regression** as it uses shrinkage. This regularization helps to select variables as we have high levels of multicollinearity. All of these features do not contribute to target feature as we have seen Pearson's correlation heatmap. This technique can shrink coefficient to 0 of features which do not contribute to make prediction.\n",
    "Also, we have not done any feature selection for this data so this regularization can automate the feature selection process."
   ]
  },
  {
   "cell_type": "code",
   "execution_count": 20,
   "metadata": {
    "pycharm": {
     "name": "#%%\n"
    }
   },
   "outputs": [
    {
     "name": "stdout",
     "output_type": "stream",
     "text": [
      "Fitting 3 folds for each of 7 candidates, totalling 21 fits\n"
     ]
    },
    {
     "name": "stderr",
     "output_type": "stream",
     "text": [
      "[Parallel(n_jobs=-1)]: Using backend LokyBackend with 8 concurrent workers.\n"
     ]
    },
    {
     "name": "stdout",
     "output_type": "stream",
     "text": [
      "Best Param: {'lr_reg__alpha': 0.01}\n",
      "Best Score: -0.7439951795836595\n"
     ]
    },
    {
     "name": "stderr",
     "output_type": "stream",
     "text": [
      "[Parallel(n_jobs=-1)]: Done  21 out of  21 | elapsed:    2.2s finished\n"
     ]
    }
   ],
   "source": [
    "'''\n",
    "Create an optimal regularised linear regression model and report the test performance.\n",
    "'''\n",
    "# alpha values to check\n",
    "params = {\n",
    "    'lr_reg__alpha': [0.01, 0.1, 0.2, 0.5, 0.7, 0.9, 1]\n",
    "}\n",
    "\n",
    "# numerical columns\n",
    "numerical_cols = ['apparent_temperature', 'humidity', 'wind_speed', 'wind_bearing', 'visibility', 'pressure']\n",
    "\n",
    "# column transformer\n",
    "num_transform = ColumnTransformer([\n",
    "    ('scaler', StandardScaler(), numerical_cols)\n",
    "], remainder='passthrough')\n",
    "\n",
    "# build model\n",
    "lr_reg = Lasso(random_state=33)\n",
    "\n",
    "# make pipeline\n",
    "lr_reg_pipeline = Pipeline([\n",
    "    ('scaler', num_transform),\n",
    "    ('lr_reg', lr_reg)\n",
    "])\n",
    "\n",
    "# grid search builder\n",
    "gridsearch = GridSearchCV(lr_reg_pipeline, param_grid=params, scoring='neg_mean_absolute_error', cv=3, n_jobs=-1, verbose=1)\n",
    "\n",
    "# train grid search\n",
    "gridsearch.fit(train_featues, train_labels)\n",
    "\n",
    "# get best params\n",
    "print(f'Best Param: {gridsearch.best_params_}')\n",
    "print(f'Best Score: {gridsearch.best_score_}')"
   ]
  },
  {
   "cell_type": "markdown",
   "metadata": {
    "pycharm": {
     "name": "#%% md\n"
    }
   },
   "source": [
    "Now we have found our best value for alpha using grid search. We can use this value to build a regularized regression model."
   ]
  },
  {
   "cell_type": "code",
   "execution_count": 21,
   "metadata": {
    "pycharm": {
     "name": "#%%\n"
    }
   },
   "outputs": [
    {
     "name": "stdout",
     "output_type": "stream",
     "text": [
      "The new MAE is 0.7397\n"
     ]
    }
   ],
   "source": [
    "# build model\n",
    "optimal_lr_reg = Lasso(alpha=0.01, random_state=33)\n",
    "\n",
    "# numerical columns\n",
    "numerical_cols = ['apparent_temperature', 'humidity', 'wind_speed', 'wind_bearing', 'visibility', 'pressure']\n",
    "\n",
    "# column transformer\n",
    "num_transform = ColumnTransformer([\n",
    "    ('scaler', StandardScaler(), numerical_cols)\n",
    "], remainder='passthrough')\n",
    "\n",
    "# make pipeline\n",
    "optimal_lr_reg_pipeline = Pipeline([\n",
    "    ('scaler', num_transform),\n",
    "    ('lr_reg', optimal_lr_reg)\n",
    "])\n",
    "\n",
    "# train grid search\n",
    "optimal_lr_reg_pipeline.fit(train_featues, train_labels)\n",
    "\n",
    "# predict\n",
    "y_hat = optimal_lr_reg_pipeline.predict(test_features)\n",
    "\n",
    "# evaluate\n",
    "lr_reg_mae = mean_absolute_error(y_hat, test_labels)\n",
    "\n",
    "# print MAE\n",
    "print(f'The new MAE is {lr_reg_mae:.4f}')"
   ]
  },
  {
   "cell_type": "code",
   "execution_count": 22,
   "metadata": {
    "pycharm": {
     "name": "#%%\n"
    }
   },
   "outputs": [
    {
     "name": "stdout",
     "output_type": "stream",
     "text": [
      "Lasso Coefficients:\n",
      "\n"
     ]
    },
    {
     "data": {
      "text/html": [
       "<div>\n",
       "<style scoped>\n",
       "    .dataframe tbody tr th:only-of-type {\n",
       "        vertical-align: middle;\n",
       "    }\n",
       "\n",
       "    .dataframe tbody tr th {\n",
       "        vertical-align: top;\n",
       "    }\n",
       "\n",
       "    .dataframe thead th {\n",
       "        text-align: right;\n",
       "    }\n",
       "</style>\n",
       "<table border=\"1\" class=\"dataframe\">\n",
       "  <thead>\n",
       "    <tr style=\"text-align: right;\">\n",
       "      <th></th>\n",
       "      <th>apparent_temperature</th>\n",
       "      <th>humidity</th>\n",
       "      <th>wind_speed</th>\n",
       "      <th>wind_bearing</th>\n",
       "      <th>visibility</th>\n",
       "      <th>pressure</th>\n",
       "      <th>precip_type_rain</th>\n",
       "      <th>precip_type_snow</th>\n",
       "    </tr>\n",
       "  </thead>\n",
       "  <tbody>\n",
       "    <tr>\n",
       "      <th>0</th>\n",
       "      <td>9.365466</td>\n",
       "      <td>-0.281275</td>\n",
       "      <td>0.545211</td>\n",
       "      <td>-0.032943</td>\n",
       "      <td>0.02696</td>\n",
       "      <td>-0.011902</td>\n",
       "      <td>-0.0</td>\n",
       "      <td>0.0</td>\n",
       "    </tr>\n",
       "  </tbody>\n",
       "</table>\n",
       "</div>"
      ],
      "text/plain": [
       "   apparent_temperature  humidity  wind_speed  wind_bearing  visibility  \\\n",
       "0              9.365466 -0.281275    0.545211     -0.032943     0.02696   \n",
       "\n",
       "   pressure  precip_type_rain  precip_type_snow  \n",
       "0 -0.011902              -0.0               0.0  "
      ]
     },
     "execution_count": 22,
     "metadata": {},
     "output_type": "execute_result"
    }
   ],
   "source": [
    "# get coefficient for each features\n",
    "lr_reg_coef = optimal_lr_reg_pipeline.steps[1][1].coef_ # lasso\n",
    "_lr_reg_coef = l_reg_pipeline.steps[1][1].coef_ # without regularized\n",
    "\n",
    "# put into the table\n",
    "columns = test_features.columns.to_list()\n",
    "\n",
    "# create dataframe\n",
    "print('Lasso Coefficients:\\n')\n",
    "lasso = pd.DataFrame(lr_reg_coef.reshape(1,8), columns=columns).head(1)\n",
    "lasso"
   ]
  },
  {
   "cell_type": "code",
   "execution_count": 23,
   "metadata": {
    "pycharm": {
     "name": "#%%\n"
    }
   },
   "outputs": [
    {
     "name": "stdout",
     "output_type": "stream",
     "text": [
      "Linear Regression Coefficients:\n",
      "\n"
     ]
    },
    {
     "data": {
      "text/html": [
       "<div>\n",
       "<style scoped>\n",
       "    .dataframe tbody tr th:only-of-type {\n",
       "        vertical-align: middle;\n",
       "    }\n",
       "\n",
       "    .dataframe tbody tr th {\n",
       "        vertical-align: top;\n",
       "    }\n",
       "\n",
       "    .dataframe thead th {\n",
       "        text-align: right;\n",
       "    }\n",
       "</style>\n",
       "<table border=\"1\" class=\"dataframe\">\n",
       "  <thead>\n",
       "    <tr style=\"text-align: right;\">\n",
       "      <th></th>\n",
       "      <th>apparent_temperature</th>\n",
       "      <th>humidity</th>\n",
       "      <th>wind_speed</th>\n",
       "      <th>wind_bearing</th>\n",
       "      <th>visibility</th>\n",
       "      <th>pressure</th>\n",
       "      <th>precip_type_rain</th>\n",
       "      <th>precip_type_snow</th>\n",
       "    </tr>\n",
       "  </thead>\n",
       "  <tbody>\n",
       "    <tr>\n",
       "      <th>0</th>\n",
       "      <td>9.382272</td>\n",
       "      <td>-0.278043</td>\n",
       "      <td>0.55769</td>\n",
       "      <td>-0.044766</td>\n",
       "      <td>0.03555</td>\n",
       "      <td>-0.022223</td>\n",
       "      <td>-0.019064</td>\n",
       "      <td>0.019064</td>\n",
       "    </tr>\n",
       "  </tbody>\n",
       "</table>\n",
       "</div>"
      ],
      "text/plain": [
       "   apparent_temperature  humidity  wind_speed  wind_bearing  visibility  \\\n",
       "0              9.382272 -0.278043     0.55769     -0.044766     0.03555   \n",
       "\n",
       "   pressure  precip_type_rain  precip_type_snow  \n",
       "0 -0.022223         -0.019064          0.019064  "
      ]
     },
     "execution_count": 23,
     "metadata": {},
     "output_type": "execute_result"
    }
   ],
   "source": [
    "print('Linear Regression Coefficients:\\n')\n",
    "without_lasso = pd.DataFrame(_lr_reg_coef.reshape(-1,8), columns=columns).head(1)\n",
    "without_lasso"
   ]
  },
  {
   "cell_type": "markdown",
   "metadata": {
    "pycharm": {
     "name": "#%% md\n"
    }
   },
   "source": [
    "**(c) Explain the reason behind the performance variation, if any.**\n",
    "\n",
    "The linear regression model without any regularization (penalty), MAE is 0.7401 and the model with Lasso regularization is 0.7397. As there is not much different in MAE, but the\n",
    "coefficients of features are different. As you can see above that the Lasso and Linear Regression coefficients are different for each features. These changes contribute to the performance variation in these two models.\n",
    "Similarly, Lasso can be used as a feature selection which shows in our coefficient values. For example, precip_type feature is set to 0 coefficient which tells us that it\n",
    "has no relationship between feature and target. However in our previous linear regression, we can see some coefficient value for precip_type.\n"
   ]
  },
  {
   "cell_type": "markdown",
   "metadata": {
    "colab_type": "text",
    "id": "iBRBSZiqKzLh",
    "pycharm": {
     "name": "#%% md\n"
    }
   },
   "source": [
    "##**Part 2: Logistic Regression:**  **(9 marks)**\n",
    "\n",
    "\n",
    "1.  Can the same target (temperature, mentioned in Part-1) be used for logistic regression? Why? **(2 marks)**"
   ]
  },
  {
   "cell_type": "markdown",
   "metadata": {
    "pycharm": {
     "name": "#%% md\n"
    }
   },
   "source": [
    "No, same target temperature can not be used for logistic regression because logistic regression models a relationship between\n",
    "predictor variables and categorical response variable. For example, we would use logistic regression\n",
    "to model the relationship between various type of temperature or range of temperature such as\n",
    "hot or not hot and greater than 40 degree celsius or not. Logistic regression helps us estimate a probability of falling into a certain level of the categorical response given a set of predictors."
   ]
  },
  {
   "cell_type": "markdown",
   "metadata": {
    "pycharm": {
     "name": "#%% md\n"
    }
   },
   "source": [
    "2.  Split the dataset as 70-30% for training and testing. Create a logistic regression model to predict the 'precip_type'. Report the prediction accuracy of your model whether the \"precip_type\" is \"rain\" or not (use decision threshold of 0.45). **(5 marks)**\n",
    "\n"
   ]
  },
  {
   "cell_type": "code",
   "execution_count": 24,
   "metadata": {
    "pycharm": {
     "name": "#%%\n"
    }
   },
   "outputs": [
    {
     "data": {
      "text/plain": [
       "((67517, 8), (28936, 8))"
      ]
     },
     "execution_count": 24,
     "metadata": {},
     "output_type": "execute_result"
    }
   ],
   "source": [
    "# copy dataframe\n",
    "new_df = weather_df.copy()\n",
    "\n",
    "# delete recording_date_time\n",
    "del new_df['recording_date_time']\n",
    "\n",
    "# drop cloud_cover column as it has same value across all rows (0)\n",
    "del new_df['cloud_cover']\n",
    "\n",
    "# convert categorical to numerical\n",
    "label_encoder = LabelEncoder()\n",
    "new_df['precip_type'] = label_encoder.fit_transform(new_df['precip_type'])\n",
    "\n",
    "# split dataset\n",
    "train_, test_ = train_test_split(\n",
    "    new_df,\n",
    "    test_size=0.3,\n",
    "    random_state=100,\n",
    "    shuffle=True\n",
    ")\n",
    "train_.shape, test_.shape"
   ]
  },
  {
   "cell_type": "code",
   "execution_count": 25,
   "metadata": {
    "pycharm": {
     "name": "#%%\n"
    }
   },
   "outputs": [],
   "source": [
    "# split into features and target\n",
    "_x_train = train_.drop(columns=['precip_type'])\n",
    "_y_train = train_['precip_type']\n",
    "\n",
    "_x_test = test_.drop(columns=['precip_type'])\n",
    "_y_test = test_['precip_type']"
   ]
  },
  {
   "cell_type": "code",
   "execution_count": 26,
   "metadata": {
    "pycharm": {
     "name": "#%%\n"
    }
   },
   "outputs": [
    {
     "name": "stdout",
     "output_type": "stream",
     "text": [
      "The accuracy with default threshold (0.5) is 98.37%.\n",
      "The accuracy with new threshold (0.45) is 98.38%.\n"
     ]
    }
   ],
   "source": [
    "# build logistic reg model\n",
    "log_reg = LogisticRegression(max_iter=100, random_state=100, n_jobs=-1)\n",
    "\n",
    "# build pipeline\n",
    "log_reg_pipeline = Pipeline([\n",
    "    ('scaler', StandardScaler()),\n",
    "    ('log_reg', log_reg)\n",
    "])\n",
    "\n",
    "# fit the training data\n",
    "log_reg_pipeline.fit(_x_train, _y_train)\n",
    "\n",
    "# predict\n",
    "_y = log_reg_pipeline.predict(_x_test)\n",
    "\n",
    "# evaluation\n",
    "acc = accuracy_score(_y_test, _y)\n",
    "print(f'The accuracy with default threshold (0.5) is {acc*100:.2f}%.')\n",
    "\n",
    "# threshold\n",
    "THRESHOLD = 0.45\n",
    "\n",
    "#  predict with threshold\n",
    "preds = np.where(log_reg_pipeline.predict_proba(_x_test)[:,1] > THRESHOLD, 1, 0)\n",
    "\n",
    "# evaluation\n",
    "thres_acc = accuracy_score(_y_test, preds)\n",
    "print(f'The accuracy with new threshold (0.45) is {thres_acc*100:.2f}%.')"
   ]
  },
  {
   "cell_type": "markdown",
   "metadata": {
    "pycharm": {
     "name": "#%% md\n"
    }
   },
   "source": [
    " 3.  Discuss the test performance using precision, recall and confusion matrix. **(2 marks)**"
   ]
  },
  {
   "cell_type": "code",
   "execution_count": 27,
   "metadata": {
    "pycharm": {
     "name": "#%%\n"
    }
   },
   "outputs": [
    {
     "name": "stdout",
     "output_type": "stream",
     "text": [
      "              precision    recall  f1-score   support\n",
      "\n",
      "           0       0.99      0.99      0.99     25659\n",
      "           1       0.92      0.93      0.93      3277\n",
      "\n",
      "    accuracy                           0.98     28936\n",
      "   macro avg       0.96      0.96      0.96     28936\n",
      "weighted avg       0.98      0.98      0.98     28936\n",
      "\n"
     ]
    }
   ],
   "source": [
    "# classification report\n",
    "print(classification_report(_y_test, preds))"
   ]
  },
  {
   "cell_type": "markdown",
   "metadata": {},
   "source": [
    "The model has 98% of accuracy.\n",
    "\n",
    "The overall *precision* of model is *98%* where class rain has 99% and snow has 92%. The precision gives the ratio of correct positive predictions to the total predicted positives (TP/(TP+FP)).\n",
    "\n",
    "The overall *recall* of model is *98%* as well where class rain has 99% and snow has 93%. The recall gives the ratio of correct positive predictions to the total positives examples (TP/(TP+FN))."
   ]
  },
  {
   "cell_type": "code",
   "execution_count": 30,
   "metadata": {
    "pycharm": {
     "name": "#%%\n"
    }
   },
   "outputs": [
    {
     "data": {
      "image/png": "[encoded data removed]",
      "text/plain": [
       "<Figure size 432x288 with 2 Axes>"
      ]
     },
     "metadata": {
      "needs_background": "light"
     },
     "output_type": "display_data"
    }
   ],
   "source": [
    "# confusion_matrix\n",
    "confusion_mtx = confusion_matrix(_y_test, preds)\n",
    "ConfusionMatrixDisplay(confusion_mtx, display_labels=['rain', 'snow']).plot(values_format='.0f')\n",
    "plt.title(\n",
    "    'Confusion Matrix', fontdict={'fontsize':17, 'fontweight':'bold', 'color':'darkred'}\n",
    ")\n",
    "plt.show()"
   ]
  },
  {
   "cell_type": "markdown",
   "metadata": {
    "pycharm": {
     "name": "#%% md\n"
    }
   },
   "source": [
    "A True Positive (TP) is an outcome where the model correctly predicts the positive class. From the confusion matrix, we can clearly see that 25405 samples were correctly identified as rain.\n",
    "\n",
    "Similarly, a True Negative (TN) is an outcome where the model correctly predicts the negative class. 3061 samples were correctly identified as snow.\n",
    "\n",
    "A False Positive (FP) is an outcome where the model incorrectly predicts the positive class. 254 samples were identified as false positive as snow instead of rain.\n",
    "\n",
    "And a False Negative (FN) is an outcome where the model incorrectly predicts the negative class. 216 samples were identified as false negative as those samples were snow but the model predicted rain."
   ]
  },
  {
   "cell_type": "markdown",
   "metadata": {},
   "source": [
    "##**Part 3: Objective function optimisation:**  **(6 marks)**"
   ]
  },
  {
   "cell_type": "markdown",
   "metadata": {
    "pycharm": {
     "name": "#%% md\n"
    }
   },
   "source": [
    "Let’s consider the line graphs shown below and answer the following questions [Hint: See weekly content 7.4-7.10],"
   ]
  },
  {
   "cell_type": "markdown",
   "metadata": {
    "pycharm": {
     "name": "#%% md\n"
    }
   },
   "source": [
    "<html>&nbsp;&nbsp;&nbsp;&nbsp;&nbsp;&nbsp;&nbsp;&nbsp;&nbsp;&nbsp;&nbsp;&nbsp;&nbsp;&nbsp;&nbsp;&nbsp;&nbsp;&nbsp;&nbsp;&nbsp;&nbsp;&nbsp;&nbsp;&nbsp;&nbsp;(a)&nbsp;&nbsp;&nbsp;&nbsp;&nbsp;&nbsp;&nbsp;&nbsp;&nbsp;&nbsp;&nbsp;&nbsp;&nbsp;&nbsp;&nbsp;&nbsp;&nbsp;&nbsp;&nbsp;&nbsp;&nbsp;&nbsp;&nbsp;&nbsp;&nbsp;&nbsp;&nbsp;&nbsp;&nbsp;&nbsp;&nbsp;&nbsp;&nbsp;&nbsp;&nbsp;&nbsp;&nbsp;&nbsp;&nbsp;&nbsp;&nbsp;&nbsp;&nbsp;&nbsp;&nbsp;&nbsp;&nbsp;&nbsp;&nbsp;&nbsp;&nbsp;&nbsp;&nbsp;&nbsp;&nbsp;&nbsp;&nbsp;&nbsp;&nbsp;&nbsp;(b)</html>\n",
    "\n",
    "![image.png](data:image/png;base64,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)\n",
    "\n",
    "\n"
   ]
  },
  {
   "cell_type": "markdown",
   "metadata": {
    "pycharm": {
     "name": "#%% md\n"
    }
   },
   "source": [
    "\n",
    "a.  Which of the above figures represents the convex objective function and why? (**1 marks**)\n",
    "\n",
    "* The figure (a) represents the convex objective function because convex function refers to\n",
    "function that is in the shape of U. Similarly, the local minimum is same as global minimum and it has one global minimum.\n",
    "\n",
    "\n",
    "b.  Which hyper-parameter can help to reach the convergence point and the impact of value selection? (**2 marks**)\n",
    "* Maximum number of iteration (max_iter) can help to reach the converge point because this hyperparameter is the  maximum number of iterations taken to converge.\n",
    "When the maximum number of iterations are not enough, it repeatedly overshoots the target and never gets converged to the minimum point. Also, the lower max_iter value can take longer to converge.\n",
    "Similarly, when the max_iter is higher, it will cause an increase in the loss as the parameter updates cause the loss to bounce around and even diverge from the minima.\n",
    "\n",
    "c.  How can we find the global minima for the objective function shown in Figure-b? _[N.B. Conceptual description will be accepted.]_ (**3 marks**)\n",
    "* Figure-b is a non-convex objective function. Non-convex objective function contains multiple local minima, saddle points, very flat regions and widely varying curvature which makes\n",
    "difficult to optimise.\n",
    "-  Techniques such as stochastic gradient descent (SGD), mini-batching, stochastic variance-reduced gradient (SVRG), and momentum\n",
    "can be used to solve non-convex function. To avoid bad local minimum, we can re-optimize the model with different\n",
    "initialization and/or add extra noise to gradients updates. Similarly, non-convex function has saddle points, to solve this issue\n",
    "we can find the Hassian and compute gradient descent direction. To avoid getting stuck\n",
    "in a region of low gradient magnitude, we can use batchnorm or use rectified linear unit (ReLU) as activation function. Again, we might\n",
    "take larger steps and we might diverge, we can use adaptive step size (learning rate). Also, hyperparameter setting may lead us to diverse so these setting needs to be optimised as well.\n",
    "Ref: https://mc.ai/non-convex-optimization-in-deep-learning/"
   ]
  }
 ],
 "metadata": {
  "colab": {
   "collapsed_sections": [],
   "name": "A3.ipynb",
   "provenance": []
  },
  "kernelspec": {
   "display_name": "Python 3",
   "language": "python",
   "name": "python3"
  },
  "language_info": {
   "codemirror_mode": {
    "name": "ipython",
    "version": 3
   },
   "file_extension": ".py",
   "mimetype": "text/x-python",
   "name": "python",
   "nbconvert_exporter": "python",
   "pygments_lexer": "ipython3",
   "version": "3.7.6"
  }
 },
 "nbformat": 4,
 "nbformat_minor": 4
}