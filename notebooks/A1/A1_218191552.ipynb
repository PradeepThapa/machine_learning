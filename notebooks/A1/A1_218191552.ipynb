{
 "nbformat": 4,
 "nbformat_minor": 0,
 "metadata": {
  "kernelspec": {
   "language": "python",
   "display_name": "Python 3",
   "name": "python3"
  },
  "language_info": {
   "pygments_lexer": "ipython3",
   "nbconvert_exporter": "python",
   "version": "3.6.4",
   "file_extension": ".py",
   "codemirror_mode": {
    "name": "ipython",
    "version": 3
   },
   "name": "python",
   "mimetype": "text/x-python"
  },
  "colab": {
   "name": "A1.ipynb",
   "provenance": [],
   "collapsed_sections": []
  }
 },
 "cells": [
  {
   "cell_type": "markdown",
   "metadata": {
    "id": "1cBt-DED-MC9",
    "colab_type": "text"
   },
   "source": [
    "#**SIT 720 - Machine Learning**\n",
    "\n",
    "Lecturer: Chandan Karmakar | karmakar@deakin.edu.au\n",
    "\n",
    "School of Information Technology,\n",
    "<br/>Deakin University, VIC 3125, Australia."
   ]
  },
  {
   "cell_type": "markdown",
   "metadata": {
    "id": "qSfW2iPaFFq5",
    "colab_type": "text"
   },
   "source": [
    "#**Assessment Task 1 (20 marks)**\n",
    "\n",
    "##**Submission Instruction**\n",
    "1.  Student should insert Python code or text responses into the cell followed by the question.\n",
    "\n",
    "2.  For answers regarding discussion or explanation, **maximum five sentences are suggested**.\n",
    "\n",
    "3.  Rename this notebook file appending your student ID. For example, for student ID 1234, the submitted file name should be A0_1234.ipynb.\n",
    "\n",
    "4.  Insert your student ID and name in the following cell."
   ]
  },
  {
   "cell_type": "code",
   "metadata": {
    "id": "45gFUaXcF8oG",
    "colab_type": "code",
    "colab": {}
   },
   "source": [
    "# Student ID: 218191552\n",
    "\n",
    "# Student name: Pradeep Thapa\n"
   ],
   "execution_count": 23,
   "outputs": []
  },
  {
   "cell_type": "markdown",
   "metadata": {
    "id": "JtEbRsB1_P_j",
    "colab_type": "text",
    "pycharm": {
     "name": "#%% md\n"
    }
   },
   "source": [
    "\n",
    "\n",
    "**Background**\n",
    "\n",
    "Selection of housing is always difficult for someone seeking for a suitable one as it includes various factors and preferences. People prefer to buy a house considering many criteria like- population, quality of life, financial capability, as well as social and natural environments around the housing block. In this assignment you will be helping people choosing suitable housing for them according to their needs.\n",
    "**Dataset**\n",
    "\n",
    "**Dataset file name:** housing_dataset.csv\n",
    "\n",
    "**Dataset description:** Dataset contains total 10 features (columns). It contains the location, housing age, population, number of families in a housing (block), number of rooms, average income of the families in that housing, ocean proximity and other informaiton. Each row indicates a record of a housing block containing the features mentioned earlier.\n",
    "\n",
    "**Features:** \n",
    "\n",
    "1.   latitude (float): Latitude of the location of a housing in conventional geospace\n",
    "2.   longitude (float): Longitude of the location of a housing in conventional geospace\n",
    "3.   housing_age (int): Age of the housing in year, the higher number indicates the older housing\n",
    "4.    total_rooms (int): Total number of rooms in a housing\n",
    "5.    total_bedrooms (int): Total number of bedrooms in a housing\n",
    "6.    population (int): Total population of a housing\n",
    "7.    families (int): Total number of families living in a housing\n",
    "8.    average_income (float): Average income of the member of a housing in a scale of Tousand Dollar Per Month\n",
    "9.    ocean_proximity (string): Describing how close the housing is to the ocean\n",
    "10.   house_value (int): Average individual house price of a housing in Dollers\n"
   ]
  },
  {
   "cell_type": "markdown",
   "metadata": {
    "id": "rQs2cqHo_7wC",
    "colab_type": "text"
   },
   "source": [
    "\n",
    "\n",
    "##**Part-1: Basic Calculations:**  *(8 marks: 8 questions x 1 marks each)*\n",
    "\n",
    "\n",
    "1.   Find the distances of the farthest and nearest housing blocks from the house block described in the first row of the dataset."
   ]
  },
  {
   "cell_type": "code",
   "metadata": {
    "id": "O0r1-UqH__3s",
    "colab_type": "code",
    "colab": {}
   },
   "source": [
    "# imports\n",
    "import pandas as pd\n",
    "import numpy as np\n",
    "from math import radians, cos, sin, asin, sqrt\n",
    "from matplotlib import pyplot as plt\n",
    "from sklearn.preprocessing import MinMaxScaler\n",
    "\n",
    "# load dataset\n",
    "df = pd.read_csv('housing_dataset.csv', header=0)\n",
    "# get first row from dataset\n",
    "row1 = df.iloc[0]\n",
    "\n",
    "# use haversine formula\n",
    "def distance(latitude2, longitute2):\n",
    "    '''\n",
    "    :param latitude2: latitude\n",
    "    :param longitute2: longitude\n",
    "    :return: distance in kms\n",
    "    '''\n",
    "    # get latitute and longitute from dataset for first row\n",
    "    latitude1 = row1.latitude\n",
    "    longitute1 = row1.longitude\n",
    "\n",
    "    # convert to radians\n",
    "    latitude1 = radians(latitude1)\n",
    "    latitude2 = radians(latitude2)\n",
    "    longitute1 = radians(longitute1)\n",
    "    longitute2 = radians(longitute2)\n",
    "\n",
    "    long_diff = longitute2 - longitute1\n",
    "    lat_diff = latitude2 - latitude1\n",
    "    x1 = sin(lat_diff / 2)**2 + cos(latitude1) * cos(latitude2) * sin(long_diff / 2)**2\n",
    "    x2 = (2 * asin(sqrt(x1))) * 6371 # 6371 is radius of earth\n",
    "    return x2\n",
    "# store distances\n",
    "unorder_distance = []\n",
    "for index, row in df.iterrows():\n",
    "    # ignore first row\n",
    "    if index > 0:\n",
    "        dis = distance(row['latitude'], row['longitude'])\n",
    "        unorder_distance.append(dis)\n",
    "# sort distances\n",
    "sorted_distance = sorted(unorder_distance)\n",
    "farthest_block = sorted_distance[len(sorted_distance)-1]\n",
    "nearest_block = sorted_distance[0]\n",
    "# print\n",
    "print(f'The distances of the farthest housing blocks from the house block described in the first row of the dataset is {farthest_block:.2f} kms.')\n",
    "print(f'The distances of the nearest housing blocks from the house block described in the first row of the dataset is {nearest_block*1000:.2f} meters.')"
   ],
   "execution_count": 43,
   "outputs": [
    {
     "name": "stdout",
     "output_type": "stream",
     "text": [
      "The distances of the farthest housing blocks from the house block described in the first row of the dataset is 896.28 kms.\n",
      "The distances of the nearest housing blocks from the house block described in the first row of the dataset is 877.66 meters.\n"
     ]
    }
   ]
  },
  {
   "cell_type": "markdown",
   "metadata": {
    "id": "CGNHL-MAACPJ",
    "colab_type": "text"
   },
   "source": [
    "2.   Calculate the average age of the house blocks near the ocean."
   ]
  },
  {
   "cell_type": "code",
   "metadata": {
    "id": "-PmJE7wPAHeQ",
    "colab_type": "code",
    "colab": {}
   },
   "source": [
    "'''\n",
    "Assumption:\n",
    "Average age is in integer as age can not be in decimal so I decided to ro\n",
    "'''\n",
    "# filter data by near the ocean\n",
    "near_ocean = df[df.ocean_proximity == 'NEAR OCEAN']\n",
    "# avg age\n",
    "avg_age = np.average(near_ocean.housing_age)\n",
    "print(f'Average age of the house blocks near the ocean is {round(avg_age)}')"
   ],
   "execution_count": 25,
   "outputs": [
    {
     "name": "stdout",
     "output_type": "stream",
     "text": [
      "Average age of the house blocks near the ocean is 29\n"
     ]
    }
   ]
  },
  {
   "cell_type": "markdown",
   "metadata": {
    "id": "7xx5_8BlASae",
    "colab_type": "text"
   },
   "source": [
    "3.   Find the income of the housing block with the most and least population density (per family)."
   ]
  },
  {
   "cell_type": "code",
   "metadata": {
    "id": "mC3E-Fq6AYTm",
    "colab_type": "code",
    "colab": {}
   },
   "source": [
    "'''\n",
    "Assumptions:\n",
    "The population density (per family) refers to total population over number of families in the block.\n",
    "The 'average_income' is per family.\n",
    "The 'average_income' is in 1000 which means it (average_income*1000)\n",
    "'''\n",
    "# copy dataframe\n",
    "df3 = df.copy()\n",
    "\n",
    "# find popuation desity (per family)\n",
    "df3['population_density'] = df3['population']/df3['families']\n",
    "\n",
    "# select most and least population density per family\n",
    "most_pop = df3[df3.population_density == np.max(df3['population_density'])]\n",
    "least_pop = df3[df3.population_density == np.min(df3['population_density'])]\n",
    "\n",
    "# total income in the housing block\n",
    "most_pop_avg = float(most_pop['average_income']) * (int) (most_pop['families'])\n",
    "least_pop_avg = float(least_pop['average_income']) * (int) (least_pop['families'])\n",
    "\n",
    "# print\n",
    "print(f'The income of the housing block with the most population density (per family) is ${(most_pop_avg*1000):.2f}')\n",
    "print(f'The income of the housing block with the least population density (per family) is ${(least_pop_avg*1000):.2f}')"
   ],
   "execution_count": 26,
   "outputs": [
    {
     "name": "stdout",
     "output_type": "stream",
     "text": [
      "The income of the housing block with the most population density (per family) is $61358.40\n",
      "The income of the housing block with the least population density (per family) is $100982.70\n"
     ]
    }
   ]
  },
  {
   "cell_type": "markdown",
   "metadata": {
    "id": "fvMmRTzpAd5J",
    "colab_type": "text"
   },
   "source": [
    "4.   Calculate the price difference between the latest and oldest housing block from the dataset."
   ]
  },
  {
   "cell_type": "code",
   "metadata": {
    "id": "4rKQUPpyAfWQ",
    "colab_type": "code",
    "colab": {}
   },
   "source": [
    "'''\n",
    "Assumption\n",
    "Lower the age, newer the housing block.\n",
    "'''\n",
    "# find oldest housing\n",
    "oldest_house = df[df.housing_age == np.max(df['housing_age'])]\n",
    "# find latest housing\n",
    "latest_house = df[df.housing_age == np.min(df['housing_age'])]\n",
    "\n",
    "# get average price\n",
    "average_oldest = np.average(oldest_house.house_value)\n",
    "average_newest = np.average(latest_house.house_value)\n",
    "\n",
    "# get price differenc\n",
    "price_diff = average_oldest - average_newest\n",
    "print('The price difference between the latest and oldest housing bock from the dataset is {:.2f}'.format(price_diff))\n",
    "\n",
    "print('\\nI used average house value for oldest and latest houses in the dataset'\n",
    "      'because average from the data tells us about the common values in the dataset.'\n",
    "      'In other word, average refers to the middle value in the data.')\n"
   ],
   "execution_count": 27,
   "outputs": [
    {
     "name": "stdout",
     "output_type": "stream",
     "text": [
      "The price difference between the latest and oldest housing bock from the dataset is 131120.87\n",
      "\n",
      "I used average house value for oldest and latest houses in the datasetbecause average from the data tells us about the common values in the dataset.In other word, average refers to the middle value in the data.\n"
     ]
    }
   ]
  },
  {
   "cell_type": "markdown",
   "metadata": {
    "id": "pZl4zZM9Akg-",
    "colab_type": "text"
   },
   "source": [
    "5.   Calculate the cheapest price per room from the dataset."
   ]
  },
  {
   "cell_type": "code",
   "metadata": {
    "id": "NgSh7WpaAlb1",
    "colab_type": "code",
    "colab": {}
   },
   "source": [
    "'''\n",
    "Assumptions\n",
    "Every room has same value (means house_value/total_rooms is single room price).\n",
    "The 'house_value' is the average value per family. So the total value of block is\n",
    "house_value*families.\n",
    "'''\n",
    "# price per room\n",
    "price_per_room = (df.house_value*df.families)/df.total_rooms\n",
    "cheapest_price = np.min(price_per_room)\n",
    "print('The cheapest price per room from the dataset is ${:.2f}'.format(cheapest_price))"
   ],
   "execution_count": 28,
   "outputs": [
    {
     "name": "stdout",
     "output_type": "stream",
     "text": [
      "The cheapest price per room from the dataset is $1127.35\n"
     ]
    }
   ]
  },
  {
   "cell_type": "markdown",
   "metadata": {
    "id": "YpRQNYwGAncM",
    "colab_type": "text"
   },
   "source": [
    "6.   Calculate the population density (per family) for the most and least wealthy housing blocks in the dataset."
   ]
  },
  {
   "cell_type": "code",
   "metadata": {
    "id": "RtKpkz57AqVl",
    "colab_type": "code",
    "colab": {}
   },
   "source": [
    "'''\n",
    "Assumption\n",
    "'average_income' is per family. so (average_income*families) is total income in a block.\n",
    "'''\n",
    "df_6 = df.copy()\n",
    "\n",
    "# population density per family\n",
    "df_6['total_income'] = (df_6['families']*df_6['average_income']) # total income of a block\n",
    "most_wealthy = df_6[df_6['total_income'] == np.max(df_6['total_income'])]['families']\n",
    "least_wealthy = df_6[df_6['total_income'] == np.min(df_6['total_income'])]['families']\n",
    "# print\n",
    "print(f'The population density (per family) for the most wealthy housing blocks is {most_wealthy.values[0]}')\n",
    "print(f'The population density (per family) for the least wealthy housing blocks is {least_wealthy.values[0]}')"
   ],
   "execution_count": 29,
   "outputs": [
    {
     "name": "stdout",
     "output_type": "stream",
     "text": [
      "The population density (per family) for the most wealthy housing blocks is 5189\n",
      "The population density (per family) for the least wealthy housing blocks is 3\n"
     ]
    }
   ]
  },
  {
   "cell_type": "markdown",
   "metadata": {
    "id": "nj1raWPgAsiy",
    "colab_type": "text"
   },
   "source": [
    "7.   Calculate and print the total housing blocks located in the same place."
   ]
  },
  {
   "cell_type": "code",
   "metadata": {
    "id": "AHI-K9m-AwDR",
    "colab_type": "code",
    "colab": {}
   },
   "source": [
    "'''\n",
    "Assumptions\n",
    "Housing blocks located in the same place have same longitude and latitude.\n",
    "'''\n",
    "\n",
    "# select location\n",
    "same_place = df[df[['longitude', 'latitude']].duplicated() == True]\n",
    "\n",
    "# count housing blocks\n",
    "blocks = same_place[['longitude', 'latitude']].drop_duplicates()\n",
    "total_blocks = len(blocks.index)\n",
    "print(f'The total housing blocks located in the same place is {total_blocks}')"
   ],
   "execution_count": 30,
   "outputs": [
    {
     "name": "stdout",
     "output_type": "stream",
     "text": [
      "The total housing blocks located in the same place is 4353\n"
     ]
    }
   ]
  },
  {
   "cell_type": "markdown",
   "metadata": {
    "id": "44Ak48NQA1G8",
    "colab_type": "text"
   },
   "source": [
    "8.   Calculate the price of expensive room grouped by ocean proximity."
   ]
  },
  {
   "cell_type": "code",
   "metadata": {
    "id": "wuMgmiElA2Eo",
    "colab_type": "code",
    "colab": {}
   },
   "source": [
    "'''\n",
    "Assumption\n",
    "The price of a room is house_value/total_rooms.\n",
    "All rooms have same price distribution.\n",
    "'''\n",
    "# price of expensive room\n",
    "df_temp = df.copy()\n",
    "df_temp['value_per_room'] = df_temp['house_value']/df_temp['total_rooms']\n",
    "rooms = df_temp.groupby(df_temp['ocean_proximity']) ['value_per_room'].max()\n",
    "rooms.sort_values(ascending=False) #sort values"
   ],
   "execution_count": 31,
   "outputs": [
    {
     "data": {
      "text/plain": "ocean_proximity\nINLAND        68750.000000\nNEAR BAY      62500.125000\nNEAR OCEAN    23333.333333\n<1H OCEAN     22500.000000\nISLAND          451.807229\nName: value_per_room, dtype: float64"
     },
     "execution_count": 31,
     "metadata": {},
     "output_type": "execute_result"
    }
   ]
  },
  {
   "cell_type": "markdown",
   "metadata": {
    "id": "DtPZm2IpA4_u",
    "colab_type": "text"
   },
   "source": [
    "##**Part-2: Visualization:**  *(6 marks: 3 question x 2 marks each)*\n",
    "\n",
    "\n",
    "1.   Draw the population scatter plot against housing age and another against ocean proximity. From the graph conclude an assumption."
   ]
  },
  {
   "cell_type": "code",
   "metadata": {
    "id": "iKJ8-NjgA9fE",
    "colab_type": "code",
    "colab": {}
   },
   "source": [
    "# select population, age and ocean proximity\n",
    "df_new = df[['population', 'housing_age', 'ocean_proximity']]\n",
    "\n",
    "# plot scatter graph\n",
    "plt.title(\"Scatter Plot\", fontsize=13, fontweight='bold')\n",
    "plt.xlabel('Ocean Proximity', fontsize=12, fontweight='bold')\n",
    "plt.ylabel('House Age', fontsize=12, fontweight='bold')\n",
    "plt.scatter(x=df_new['ocean_proximity'], y=df_new['housing_age'], c=df_new['population'], edgecolors='r')\n",
    "plt.show()\n",
    "'''\n",
    "From the scatter plot, we can conclude that the population of people living in\n",
    "Island ocean proximity is much lower in compared to other ocean proximity. In addtion,\n",
    "we an also say that the ocean proximity of near bay, <1H ocean, inland and near ocean\n",
    "is higly dense.\n",
    "'''"
   ],
   "execution_count": 32,
   "outputs": [
    {
     "data": {
      "text/plain": "<Figure size 432x288 with 1 Axes>",
      "image/png": "[encoded data removed]"
     },
     "metadata": {
      "needs_background": "light"
     },
     "output_type": "display_data"
    },
    {
     "data": {
      "text/plain": "'\\nFrom the scatter plot, we can conclude that the population of people living in\\nIsland ocean proximity is much lower in compared to other ocean proximity. In addtion,\\nwe an also say that the ocean proximity of near bay, <1H ocean, inland and near ocean\\nis higly dense.\\n'"
     },
     "execution_count": 32,
     "metadata": {},
     "output_type": "execute_result"
    }
   ]
  },
  {
   "cell_type": "markdown",
   "metadata": {
    "id": "WAm9CdIsA_yi",
    "colab_type": "text"
   },
   "source": [
    "2.  Draw a bar diagram of average values of all suitable columns. (excluding latitude, longitude and ocean proximity of course)."
   ]
  },
  {
   "cell_type": "code",
   "metadata": {
    "id": "RKwoOm5OBC6w",
    "colab_type": "code",
    "colab": {}
   },
   "source": [
    "'''\n",
    "Although this graph doesn't mean too much as every column have different\n",
    "scale which means some columns have higher range and some have lower.\n",
    "Other possible way to implement this would be after scaling.\n",
    "\n",
    "I have decided to include both diagrams as scaled data can show the data properly.\n",
    "'''\n",
    "# check missing values\n",
    "print(df.isna().sum())\n",
    "\n",
    "# copy dataframe\n",
    "clean_df = df.copy()\n",
    "\n",
    "# drop missing values\n",
    "clean_df.dropna(inplace=True)\n",
    "\n",
    "# select columns\n",
    "columns = ['housing_age','total_rooms', 'total_bedrooms', 'population', 'families', 'average_income', 'house_value']\n",
    "data = clean_df[columns].agg('mean')\n",
    "plt.title('Mean Bar Diagram', fontsize=15, fontweight='bold')\n",
    "data.plot(kind='barh', figsize=(12,8), color=['red', 'green', 'blue', 'pink'], fontsize=10)\n",
    "plt.xlabel(\"Value\", fontsize=12, fontweight='bold')\n",
    "plt.ylabel('Features', fontsize=12, fontweight='bold')\n",
    "plt.show()\n",
    "\n",
    "# scale the columns\n",
    "scaler = MinMaxScaler()\n",
    "clean_df = scaler.fit_transform(clean_df[columns])\n",
    "scaled_df = pd.DataFrame(clean_df, columns=columns)\n",
    "# scaled data plot\n",
    "data = scaled_df[columns].agg('mean')\n",
    "plt.title('Scaled Mean - Bar Diagram', fontsize=15, fontweight='bold')\n",
    "data.plot(kind='barh', figsize=(12,8), color=['red', 'green', 'blue', 'pink'], fontsize=10)\n",
    "plt.xlabel(\"Value\", fontsize=12, fontweight='bold')\n",
    "plt.ylabel('Features', fontsize=12, fontweight='bold')\n",
    "plt.xlim([0,1])\n",
    "plt.show()\n"
   ],
   "execution_count": 52,
   "outputs": [
    {
     "name": "stdout",
     "output_type": "stream",
     "text": [
      "longitude            0\n",
      "latitude             0\n",
      "housing_age          0\n",
      "total_rooms          0\n",
      "total_bedrooms     207\n",
      "population           0\n",
      "families             0\n",
      "average_income       0\n",
      "ocean_proximity      0\n",
      "house_value          0\n",
      "dtype: int64\n"
     ]
    },
    {
     "data": {
      "text/plain": "<Figure size 864x576 with 1 Axes>",
      "image/png": "[encoded data removed]"
     },
     "metadata": {
      "needs_background": "light"
     },
     "output_type": "display_data"
    },
    {
     "data": {
      "text/plain": "<Figure size 864x576 with 1 Axes>",
      "image/png": "[encoded data removed]"
     },
     "metadata": {
      "needs_background": "light"
     },
     "output_type": "display_data"
    }
   ]
  },
  {
   "cell_type": "markdown",
   "metadata": {
    "id": "EupiTHf8BEvA",
    "colab_type": "text"
   },
   "source": [
    "3.   Visualize the differences in housing prices from the average price of housing using a bar diagram."
   ]
  },
  {
   "cell_type": "code",
   "metadata": {
    "id": "j6tBhj2PBIZK",
    "colab_type": "code",
    "colab": {}
   },
   "source": [
    "'''\n",
    "For every house in the dataset would be way too much so I am dividing into\n",
    "different range and counting them.\n",
    "Also, the bar plot is sorted from highest difference to lowest.\n",
    "'''\n",
    "# copy dataframe\n",
    "df_3 = df.copy()\n",
    "# average housing value\n",
    "avg_price = np.average(df_3['house_value'])\n",
    "print(f'The average price is ${avg_price:.2f}')\n",
    "# price difference\n",
    "df_3['house_price'] = np.subtract(df_3['house_value'], avg_price)\n",
    "\n",
    "# difference in price category\n",
    "bin = [-200000, -100000, -10000, 0, 100000, 200000, 300000]\n",
    "# labels for barplot\n",
    "labels = ['(-200000)-(-100000)', '(-100000)-(-10000)', '(-10000)-0)', '0-100000', '100000-200000', '200000-300000']\n",
    "# create new column\n",
    "df_3['category'] = pd.cut(df_3['house_price'], bin, labels=labels)\n",
    "# count frequency\n",
    "freq_value = df_3['category'].value_counts().sort_values(ascending=True)\n",
    "# plot bar plot\n",
    "plt.title('Difference in housing price', fontsize=16, fontweight='bold', color='gray')\n",
    "plt.xlabel('No. of Houses', fontsize=14, fontweight='bold', color='tan')\n",
    "plt.ylabel('Price range ($)', fontsize=14, fontweight='bold', color='tan')\n",
    "freq_value.plot(kind='barh', figsize=(12,8))\n",
    "'''\n",
    "Explanation:\n",
    "The idea is to visualise the number of houses in range. The negative value refers\n",
    "to the less than the average house price and positive value refers to the above average price.\n",
    "'''"
   ],
   "execution_count": 34,
   "outputs": [
    {
     "name": "stdout",
     "output_type": "stream",
     "text": [
      "The average price is $206855.82\n"
     ]
    },
    {
     "data": {
      "text/plain": "'\\nExplanation:\\nThe idea is to visualise the number of houses in range. The negative value refers\\nto the less than the average house price and positive value refers to the above average price.\\n\\n'"
     },
     "execution_count": 34,
     "metadata": {},
     "output_type": "execute_result"
    },
    {
     "data": {
      "text/plain": "<Figure size 864x576 with 1 Axes>",
      "image/png": "[encoded data removed]"
     },
     "metadata": {
      "needs_background": "light"
     },
     "output_type": "display_data"
    }
   ]
  },
  {
   "cell_type": "markdown",
   "metadata": {
    "id": "FgBaJ0rWBKk-",
    "colab_type": "text"
   },
   "source": [
    "##**Part-3: File Management:**  *(6 marks: 2 question x 3 marks each)*\n",
    "\n",
    " \n",
    "\n",
    "1.   Save the details of all housing blocks in a csv file having houses near oceans and  lower than the average of the housing value."
   ]
  },
  {
   "cell_type": "code",
   "metadata": {
    "id": "c0BR_AMxBOu_",
    "colab_type": "code",
    "colab": {}
   },
   "source": [
    "# houses near oceans\n",
    "near_ocean = df[df['ocean_proximity'] == 'NEAR OCEAN']\n",
    "\n",
    "# average housing value\n",
    "avg_value = np.average(df['house_value'])\n",
    "\n",
    "# houses near oceans and  lower than the average\n",
    "housing_blocks = near_ocean[near_ocean['house_value'] < avg_value]\n",
    "\n",
    "# save to csv\n",
    "housing_blocks.to_csv('housing_blocks.csv', index=False)\n",
    "\n",
    "# success message\n",
    "print('File saved.')"
   ],
   "execution_count": 35,
   "outputs": [
    {
     "name": "stdout",
     "output_type": "stream",
     "text": [
      "File saved.\n"
     ]
    }
   ]
  },
  {
   "cell_type": "markdown",
   "metadata": {
    "id": "KDM2MY16-qHs",
    "colab_type": "text"
   },
   "source": [
    "\n",
    "\n",
    "\n",
    "\n",
    "\n",
    "2.   Create a new housing dataset (a csv file) having only the location, total rooms and housing price information.\n",
    "\n",
    "\n",
    "\n",
    "\n"
   ]
  },
  {
   "cell_type": "code",
   "metadata": {
    "id": "uwmK7HfYdzHd",
    "colab_type": "code",
    "colab": {}
   },
   "source": [
    "# select columns\n",
    "col = ['longitude', 'latitude', 'total_rooms', 'house_value']\n",
    "new_housing_dataset = df[col] #create dataframe from selected columns\n",
    "new_housing_dataset.to_csv('new_housing_dataset.csv', index=False) # save csv\n",
    "print('File sucessfully saved.') # success message"
   ],
   "execution_count": 36,
   "outputs": [
    {
     "name": "stdout",
     "output_type": "stream",
     "text": [
      "File sucessfully saved.\n"
     ]
    }
   ]
  }
 ]
}