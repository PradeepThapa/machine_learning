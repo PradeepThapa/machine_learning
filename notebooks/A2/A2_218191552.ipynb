{
 "cells": [
  {
   "cell_type": "markdown",
   "metadata": {
    "colab_type": "text",
    "id": "06bbe_5WGk3v"
   },
   "source": [
    "#**SIT 720 - Machine Learning**\n",
    "\n",
    "Lecturer: Chandan Karmakar | karmakar@deakin.edu.au\n",
    "\n",
    "School of Information Technology,\n",
    "<br/>Deakin University, VIC 3125, Australia."
   ]
  },
  {
   "cell_type": "markdown",
   "metadata": {
    "colab_type": "text",
    "id": "es6VJF6zGpZi"
   },
   "source": [
    "#**Assessment Task 2 (30 marks)**\n",
    "\n",
    "##**Submission Instruction**\n",
    "1.  Student should insert Python code or text responses into the cell followed by the question.\n",
    "\n",
    "2.  For answers regarding discussion or explanation, **maximum five sentences are suggested**.\n",
    "\n",
    "3.  Rename this notebook file appending your student ID. For example, for student ID 1234, the submitted file name should be A2_1234.ipynb.\n",
    "\n",
    "4.  Insert your student ID and name in the following cell."
   ]
  },
  {
   "cell_type": "code",
   "execution_count": 1,
   "metadata": {
    "colab": {},
    "colab_type": "code",
    "id": "IeD67KEpG8I6"
   },
   "outputs": [],
   "source": [
    "# Student ID: 218191552\n",
    "\n",
    "# Student name: Pradeep Thapa"
   ]
  },
  {
   "cell_type": "markdown",
   "metadata": {
    "colab_type": "text",
    "id": "oYFXM_D7HCHb"
   },
   "source": [
    "## Part 1: Clustering *(15 marks)*\n",
    "\n",
    "Let's assume you want to design an environment to predict a class/category from a dataset based on specific features of that class. However, all the features are not strong enough or in other words features not that much variance/uniqueness across the classes. So, you have to design a clustering model by answering the following questions:\n",
    "\n",
    "1. Download the attached clustering.csv file. Read the file and separate the class and feature matrix. __(2 marks)__"
   ]
  },
  {
   "cell_type": "code",
   "execution_count": 2,
   "metadata": {
    "colab": {},
    "colab_type": "code",
    "id": "crKN9O9jKi4w"
   },
   "outputs": [
    {
     "name": "stdout",
     "output_type": "stream",
     "text": [
      "Dataframe:\n",
      "    height  length   width    std    min    max  kurtosis  Class\n",
      "0   15.26   14.84  0.8710  5.763  3.312  2.221     5.220      0\n",
      "1   14.88   14.57  0.8811  5.554  3.333  1.018     4.956      0\n",
      "2   14.29   14.09  0.9050  5.291  3.337  2.699     4.825      0\n",
      "3   13.84   13.94  0.8955  5.324  3.379  2.259     4.805      0\n",
      "4   16.14   14.99  0.9034  5.658  3.562  1.355     5.175      0\n",
      "#########################################\n",
      "Features Matrix:\n",
      "      height  length   width    std    min    max  kurtosis\n",
      "0     15.26   14.84  0.8710  5.763  3.312  2.221     5.220\n",
      "1     14.88   14.57  0.8811  5.554  3.333  1.018     4.956\n",
      "2     14.29   14.09  0.9050  5.291  3.337  2.699     4.825\n",
      "3     13.84   13.94  0.8955  5.324  3.379  2.259     4.805\n",
      "4     16.14   14.99  0.9034  5.658  3.562  1.355     5.175\n",
      "..      ...     ...     ...    ...    ...    ...       ...\n",
      "205   12.19   13.20  0.8783  5.137  2.981  3.631     4.870\n",
      "206   11.23   12.88  0.8511  5.140  2.795  4.325     5.003\n",
      "207   13.20   13.66  0.8883  5.236  3.232  8.315     5.056\n",
      "208   11.84   13.21  0.8521  5.175  2.836  3.598     5.044\n",
      "209   12.30   13.34  0.8684  5.243  2.974  5.637     5.063\n",
      "\n",
      "[210 rows x 7 columns]\n",
      "#########################################\n",
      "Class Matrix:\n",
      " 0      0\n",
      "1      0\n",
      "2      0\n",
      "3      0\n",
      "4      0\n",
      "      ..\n",
      "205    2\n",
      "206    2\n",
      "207    2\n",
      "208    2\n",
      "209    2\n",
      "Name: Class, Length: 210, dtype: int64\n"
     ]
    }
   ],
   "source": [
    "# imports\n",
    "import pandas as pd\n",
    "import numpy as np\n",
    "import matplotlib.pyplot as plt\n",
    "from pyclustering.cluster.center_initializer import kmeans_plusplus_initializer\n",
    "from sklearn.cluster import KMeans\n",
    "from sklearn.decomposition import PCA\n",
    "from sklearn.preprocessing import MinMaxScaler\n",
    "from kneed import KneeLocator # used for finding the optimal value of k\n",
    "from sklearn import metrics\n",
    "from pyclustering.utils.metric import distance_metric, type_metric\n",
    "from sklearn.feature_selection import SelectKBest\n",
    "from sklearn.feature_selection import f_classif\n",
    "from sklearn.feature_selection import chi2\n",
    "from pyclustering.cluster.kmeans import kmeans\n",
    "# seed for reproducibility\n",
    "np.random.seed(3894)\n",
    "\n",
    "# read file\n",
    "df = pd.read_csv('clustering.csv')\n",
    "\n",
    "# features\n",
    "features = df.iloc[:, :7]\n",
    "\n",
    "# class\n",
    "target = df['Class']\n",
    "\n",
    "# print\n",
    "print('Dataframe:\\n', df.head())\n",
    "print('#########################################')\n",
    "print('Features Matrix:\\n',features)\n",
    "print('#########################################')\n",
    "print('Class Matrix:\\n', target)"
   ]
  },
  {
   "cell_type": "markdown",
   "metadata": {
    "colab_type": "text",
    "id": "3CYvoztIKjoq"
   },
   "source": [
    "2. Determine the number of clusters from the dataset. Is this same as the actual number of classes in the dataset? __(1 marks)__\n",
    "\n",
    "<!-- Choose the best three features using different selection criteria (ANOVA, Chi-squared) based on the purity score for the k-mean cluster (Euclidean distance matrix). Which one is good and why? __(5 marks)__ -->"
   ]
  },
  {
   "cell_type": "code",
   "execution_count": 3,
   "metadata": {
    "colab": {},
    "colab_type": "code",
    "id": "WFia7uNt5POP"
   },
   "outputs": [
    {
     "data": {
      "image/png": "[encoded data removed]",
      "text/plain": [
       "<Figure size 864x576 with 1 Axes>"
      ]
     },
     "metadata": {
      "needs_background": "light"
     },
     "output_type": "display_data"
    },
    {
     "name": "stdout",
     "output_type": "stream",
     "text": [
      "Optimal value of k is 3.\n",
      "There are 3 unique classes so the number of clusters from the dataset is same number as well.  \n"
     ]
    }
   ],
   "source": [
    "# check unique class\n",
    "unique = df['Class'].unique()\n",
    "\n",
    "# get column names for features\n",
    "cols = [i for i in features.columns]\n",
    "\n",
    "# feature scaling\n",
    "'''\n",
    "Important for distance based algorithms.\n",
    "Minmax scales the values for each numerical feature in the dataset\n",
    "so that the features have range between 0 and 1.\n",
    "'''\n",
    "def scale(features):\n",
    "    '''\n",
    "    :param features: features dataframe\n",
    "    :return: features: scaled features dataframe\n",
    "    '''\n",
    "    scaler = MinMaxScaler()\n",
    "    features = scaler.fit_transform(features)\n",
    "    return features\n",
    "\n",
    "# scale features\n",
    "scaled_features = scale(features)\n",
    "\n",
    "# convert back to dataframe\n",
    "features = pd.DataFrame(scaled_features, columns=cols)\n",
    "\n",
    "# store sum of squared distance\n",
    "sse = []\n",
    "\n",
    "# find the optimal K value\n",
    "for i in range(1, 21):\n",
    "    # initiate the kmeans\n",
    "    _kmeans = KMeans(n_clusters=i, init='random', n_init=10, max_iter=200, random_state=100)\n",
    "    _kmeans.fit(features)\n",
    "    sse.append(_kmeans.inertia_)\n",
    "\n",
    "# plot the elbow graph\n",
    "plt.figure(figsize=(12,8))\n",
    "plt.title('Elbow Plot', color='gray', fontsize=18, fontweight='bold')\n",
    "plt.plot(sse)\n",
    "plt.xlabel('No. of clusters', color='gray', fontsize=15, fontweight='bold')\n",
    "plt.ylabel('SSE', color='gray', fontsize=15, fontweight='bold')\n",
    "plt.xlim([1,21])\n",
    "plt.show()\n",
    "\n",
    "# find optimal value of k\n",
    "k = KneeLocator(range(1,21), sse, curve='convex', direction='decreasing')\n",
    "print(f'Optimal value of k is {k.elbow}.')\n",
    "\n",
    "print(f'There are {len(unique)} unique classes so the number of clusters from the dataset is same number as well.  ')"
   ]
  },
  {
   "cell_type": "markdown",
   "metadata": {
    "colab_type": "text",
    "id": "lomdzPf33Ga8"
   },
   "source": [
    "3. Perform K-Means clustering on the complete dataset and report purity score. __(2 marks)__ "
   ]
  },
  {
   "cell_type": "code",
   "execution_count": 4,
   "metadata": {
    "colab": {},
    "colab_type": "code",
    "id": "UaI08RF5KoPK"
   },
   "outputs": [
    {
     "name": "stdout",
     "output_type": "stream",
     "text": [
      "Purity score is 0.890\n"
     ]
    }
   ],
   "source": [
    "# perform 3-Means\n",
    "_kmeans = KMeans(n_clusters=3, init='random', n_init=10, max_iter=200, random_state=100)\n",
    "_kmeans.fit(features)\n",
    "cluster = _kmeans.labels_\n",
    "\n",
    "# purity evaluation\n",
    "def purity_score(target, cluster):\n",
    "    # compute confusion matrix\n",
    "    confusion_matrix = metrics.cluster.contingency_matrix(target, cluster)\n",
    "    # return purity\n",
    "    return np.sum(np.amax(confusion_matrix, axis=0)) / np.sum(confusion_matrix)\n",
    "\n",
    "print(f'Purity score is {purity_score(target, cluster):.3f}') # 3-decimal point"
   ]
  },
  {
   "cell_type": "markdown",
   "metadata": {
    "colab_type": "text",
    "id": "CsImMLOzK1dV"
   },
   "source": [
    "4. There are several distance metrics for  K-Means such as euclidean, squared euclidean, Manhattan, Chebyshev, Minkowski. [ __Hints:__ See the pyclustering library for python.]\n",
    "    - Your job is to compare the purity score of k-means clustering for different distance metrics. __(5 marks)__ \n",
    "    - Select the best distance metric and explain why this distance metric is best for the given dataset. __(2 marks)__ "
   ]
  },
  {
   "cell_type": "code",
   "execution_count": 5,
   "metadata": {
    "colab": {},
    "colab_type": "code",
    "id": "dBNLhGYRKo4a",
    "pycharm": {
     "name": "#%%\n"
    }
   },
   "outputs": [
    {
     "name": "stdout",
     "output_type": "stream",
     "text": [
      "The manhattan distance based Kmeans purity is 0.886\n"
     ]
    }
   ],
   "source": [
    "# Prepare initial centers using K-Means++ method.\n",
    "initial_centers = kmeans_plusplus_initializer(features, 3).initialize()\n",
    "\n",
    "# create metric that will be used for clustering\n",
    "manhattan_metric = distance_metric(type_metric.MANHATTAN)\n",
    "\n",
    "# create instance of K-Means using specific distance metric:\n",
    "kmeans_instance = kmeans(features, initial_centers, metric=manhattan_metric)\n",
    "\n",
    "# run cluster analysis and obtain results\n",
    "kmeans_instance.process()\n",
    "clusters = kmeans_instance.get_clusters()\n",
    "\n",
    "# initialize to store cluster labels\n",
    "cluster_label = np.zeros(len(features))\n",
    "\n",
    "# for cluster 0 replace with 0\n",
    "for cluster in clusters[0]:\n",
    "    cluster_label[cluster] = 0\n",
    "\n",
    "# for cluster 1 replace with 1\n",
    "for cluster in clusters[1]:\n",
    "    cluster_label[cluster] = 1\n",
    "\n",
    "# for cluster 2 replace with 2\n",
    "for cluster in clusters[2]:\n",
    "    cluster_label[cluster] = 2\n",
    "\n",
    "# calculate purity score\n",
    "manhattan_purity = purity_score(target, cluster_label)\n",
    "print(f'The manhattan distance based Kmeans purity is {manhattan_purity:.3f}')"
   ]
  },
  {
   "cell_type": "code",
   "execution_count": 6,
   "metadata": {
    "pycharm": {
     "name": "#%%\n"
    }
   },
   "outputs": [
    {
     "name": "stdout",
     "output_type": "stream",
     "text": [
      "The Euclidean Square distance based Kmeans purity is 0.895\n"
     ]
    }
   ],
   "source": [
    "# create metric that will be used for clustering\n",
    "euclidean_sqr_metric = distance_metric(type_metric.EUCLIDEAN_SQUARE)\n",
    "\n",
    "# create instance of K-Means using specific distance metric:\n",
    "kmeans_instance = kmeans(features, initial_centers, metric=euclidean_sqr_metric)\n",
    "\n",
    "# run cluster analysis and obtain results\n",
    "kmeans_instance.process()\n",
    "clusters = kmeans_instance.get_clusters()\n",
    "\n",
    "# initialize to store cluster labels\n",
    "cluster_label = np.zeros(len(features))\n",
    "\n",
    "# for cluster 0 replace with 0\n",
    "for cluster in clusters[0]:\n",
    "    cluster_label[cluster] = 0\n",
    "\n",
    "# for cluster 1 replace with 1\n",
    "for cluster in clusters[1]:\n",
    "    cluster_label[cluster] = 1\n",
    "\n",
    "# for cluster 2 replace with 2\n",
    "for cluster in clusters[2]:\n",
    "    cluster_label[cluster] = 2\n",
    "\n",
    "# calculate purity score\n",
    "euclidean_sqr_purity = purity_score(target, cluster_label)\n",
    "print(f'The Euclidean Square distance based Kmeans purity is {euclidean_sqr_purity:.3f}')"
   ]
  },
  {
   "cell_type": "code",
   "execution_count": 7,
   "metadata": {
    "pycharm": {
     "name": "#%%\n"
    }
   },
   "outputs": [
    {
     "name": "stdout",
     "output_type": "stream",
     "text": [
      "The Chbyshev distance based Kmeans purity is 0.919\n"
     ]
    }
   ],
   "source": [
    "# create metric that will be used for clustering\n",
    "chebyshev_metric = distance_metric(type_metric.CHEBYSHEV)\n",
    "\n",
    "# create instance of K-Means using specific distance metric:\n",
    "kmeans_instance = kmeans(features, initial_centers, metric=chebyshev_metric)\n",
    "\n",
    "# run cluster analysis and obtain results\n",
    "kmeans_instance.process()\n",
    "clusters = kmeans_instance.get_clusters()\n",
    "\n",
    "# initialize to store cluster labels\n",
    "cluster_label = np.zeros(len(features))\n",
    "\n",
    "# for cluster 0 replace with 0\n",
    "for cluster in clusters[0]:\n",
    "    cluster_label[cluster] = 0\n",
    "\n",
    "# for cluster 1 replace with 1\n",
    "for cluster in clusters[1]:\n",
    "    cluster_label[cluster] = 1\n",
    "\n",
    "# for cluster 2 replace with 2\n",
    "for cluster in clusters[2]:\n",
    "    cluster_label[cluster] = 2\n",
    "\n",
    "# calculate purity score\n",
    "chebyshev_purity = purity_score(target, cluster_label)\n",
    "print(f'The Chbyshev distance based Kmeans purity is {chebyshev_purity:.3f}')"
   ]
  },
  {
   "cell_type": "code",
   "execution_count": 8,
   "metadata": {
    "pycharm": {
     "name": "#%%\n"
    }
   },
   "outputs": [
    {
     "name": "stdout",
     "output_type": "stream",
     "text": [
      "The Minkowski distance based Kmeans purity is 0.890\n"
     ]
    }
   ],
   "source": [
    "# create metric that will be used for clustering\n",
    "minkowski_metric = distance_metric(type_metric.MINKOWSKI, degree=2)\n",
    "\n",
    "# create instance of K-Means using specific distance metric:\n",
    "kmeans_instance = kmeans(features, initial_centers, metric=minkowski_metric)\n",
    "\n",
    "# run cluster analysis and obtain results\n",
    "kmeans_instance.process()\n",
    "clusters = kmeans_instance.get_clusters()\n",
    "\n",
    "# initialize to store cluster labels\n",
    "cluster_label = np.zeros(len(features))\n",
    "\n",
    "# for cluster 0 replace with 0\n",
    "for cluster in clusters[0]:\n",
    "    cluster_label[cluster] = 0\n",
    "\n",
    "# for cluster 1 replace with 1\n",
    "for cluster in clusters[1]:\n",
    "    cluster_label[cluster] = 1\n",
    "\n",
    "# for cluster 2 replace with 2\n",
    "for cluster in clusters[2]:\n",
    "    cluster_label[cluster] = 2\n",
    "\n",
    "# calculate purity score\n",
    "minkowski_purity = purity_score(target, cluster_label)\n",
    "print(f'The Minkowski distance based Kmeans purity is {minkowski_purity:.3f}')"
   ]
  },
  {
   "cell_type": "markdown",
   "metadata": {
    "pycharm": {
     "name": "#%% md\n"
    }
   },
   "source": [
    "There are several distance metrics to measure the similarity or regularity among the data items.\n",
    "such distance metrics play vital role to identify in what manner the data are inter-related and\n",
    "how various data similar or dissimilar with each other. The goal of using distance metric is to\n",
    "get an appropriate distance/similarity based on the specific problem.\n",
    "* Euclidean distance computes the root of square difference between co-ordinates of pair of objects.\n",
    "* The Euclidean Squared distance metric uses the same equation as the Euclidean distance metric, but does not take the square root.\n",
    "* Manhattan distance computes the absolute differences between coordinates of pair of objects\n",
    "* Chebychev Distance is also known as maximum value distance and is computed as the absolute magnitude of the differences between coordinate of a pair of objects.\n",
    "* Minkowski Distance is the generalized form of Euclidean and Manhattan Distance.\n",
    "\n",
    "Purity Result:\n",
    "* Euclidean --> 88.6\n",
    "* Squared Eucliedean --> 89.5\n",
    "* Manhattan --> 88.1\n",
    "* Chbyshev --> 91.9\n",
    "* Minkowski --> 89.0\n",
    "\n",
    "As we can see that the Manhattan based Kmeans clustering had lowest purity. Similarly, Chbyshev distanced based Kmeans had highest purity score. Euclidean and Minkowski had a same score because Minkowski degee (p) is 2 which is same as Euclidean if we round the Euclidean distance. The centroids are randomly initialized which causes change in purity."
   ]
  },
  {
   "cell_type": "markdown",
   "metadata": {
    "pycharm": {
     "name": "#%% md\n"
    }
   },
   "source": [
    "<b>Euclidean distance</b> is the best metric for the given dataset because of the following reasons:\n",
    "<li>The dataset have features which are float and integer data types.\n",
    "<li>It calculates the distance between two real valued vectors.\n",
    "<li>Also this dataset has been normalised prior to calculating distance which converts all features to same scale.\n",
    "<li>Data points with high values of features are clustered together and lower values of features are clustered together.\n"
   ]
  },
  {
   "cell_type": "markdown",
   "metadata": {
    "colab_type": "text",
    "id": "xsG5SQti4b7E"
   },
   "source": [
    "5. Use selection criteria (ANOVA, Chi-squared) to select best three features and use them for K-Means clustering. Based on the purity score which feature set are you going to recommend and why? __(3 marks)__"
   ]
  },
  {
   "cell_type": "code",
   "execution_count": 9,
   "metadata": {
    "colab": {},
    "colab_type": "code",
    "id": "9lCTzujBKpL4"
   },
   "outputs": [
    {
     "name": "stdout",
     "output_type": "stream",
     "text": [
      "[[0.44098206 0.50206612 0.48610121]]\n",
      "The top 3 features using ANOVA are: height, length and min.\n",
      "Kmeans and Purity Score using ANOVA:\n",
      "Purity score is 0.848\n",
      "#########################################\n",
      "[[0.44098206 0.50206612 0.48610121]]\n",
      "The top 3 features using Chi-square are: height, length and min.\n",
      "Kmeans and Purity Score using Chi2:\n",
      "Purity score is 0.848\n",
      "#########################################\n",
      "Although both ANOVA and chi2 have same purity and exactly same top 3 features, I would recommend ANOVA because the features in the dataset are quantitative. Chi-Sqaure is based on the proportions of the two or more groups. Simply it deals with categorical variables (Nominal Scale). However, our dataset has numerical values which makes ANOVA a preferred choice.\n"
     ]
    }
   ],
   "source": [
    "# Kmeans and purity\n",
    "def kmeans_(features, target):\n",
    "    # perform 3-Means\n",
    "    kmeans = KMeans(n_clusters=3, init='random', n_init=10, max_iter=200, random_state=100)\n",
    "    kmeans.fit(features)\n",
    "    cluster = kmeans.labels_\n",
    "\n",
    "    # purity evaluation\n",
    "    def purity_score(target, cluster):\n",
    "        # compute confusion matrix\n",
    "        confusion_matrix = metrics.cluster.contingency_matrix(target, cluster)\n",
    "        # return purity\n",
    "        return np.sum(np.amax(confusion_matrix, axis=0)) / np.sum(confusion_matrix)\n",
    "\n",
    "    print(f'Purity score is {purity_score(target, cluster):.3f}')\n",
    "\n",
    "# ANOVA\n",
    "anova_selector = SelectKBest(f_classif, k=3)\n",
    "# Apply the SelectKBest object to the features and target\n",
    "top_3_features = anova_selector.fit_transform(features, target)\n",
    "print(top_3_features[0:1, :]) # check to see where values match to findout the column names\n",
    "print('The top 3 features using ANOVA are: height, length and min.')\n",
    "print('Kmeans and Purity Score using ANOVA:')\n",
    "kmeans_(top_3_features, target)\n",
    "\n",
    "print('#########################################')\n",
    "\n",
    "# chi2\n",
    "chi2_selector = SelectKBest(chi2, k=3)\n",
    "top3_chi2 = chi2_selector.fit_transform(features, target)\n",
    "print(top3_chi2[0:1, :]) # check to see where values match to findout the column names\n",
    "print('The top 3 features using Chi-square are: height, length and min.')\n",
    "print('Kmeans and Purity Score using Chi2:')\n",
    "kmeans_(top3_chi2, target)\n",
    "print('#########################################')\n",
    "\n",
    "print('Although both ANOVA and chi2 have same purity and exactly same top 3 features, '\n",
    "      'I would recommend ANOVA because the features in the dataset are quantitative. Chi-Sqaure is based on the proportions of the two or more groups. Simply it deals with categorical variables (Nominal Scale).',\n",
    "      'However, our dataset has numerical values which makes ANOVA a preferred choice.')"
   ]
  },
  {
   "cell_type": "markdown",
   "metadata": {
    "colab_type": "text",
    "id": "Key1p4RKLEW9"
   },
   "source": [
    "# Part-2 (Dimensionality Reduction using PCA/SVD) *(15 marks)*\n",
    "\n",
    "1. For the dataset (clustering.csv), perform PCA.\n",
    "    - plot the captured variance with respect to increasing latent dimensionality. __(2.5 marks)__\n",
    "  \n",
    "  What is the minimum dimension that captures:\n",
    "    - at least 89% variance? __(1.5 marks)__\n",
    "    - at least 99% variance? __(1 marks)__"
   ]
  },
  {
   "cell_type": "code",
   "execution_count": 10,
   "metadata": {
    "colab": {},
    "colab_type": "code",
    "id": "EkJU33yYKpen",
    "pycharm": {
     "is_executing": true
    }
   },
   "outputs": [
    {
     "name": "stdout",
     "output_type": "stream",
     "text": [
      "[7.89033617e-01 1.29094899e-01 6.86669794e-02 9.43131103e-03\n",
      " 2.73880652e-03 8.93295102e-04 1.41091525e-04]\n"
     ]
    },
    {
     "data": {
      "image/png": "[encoded data removed]",
      "text/plain": [
       "<Figure size 864x576 with 1 Axes>"
      ]
     },
     "metadata": {
      "needs_background": "light"
     },
     "output_type": "display_data"
    },
    {
     "name": "stdout",
     "output_type": "stream",
     "text": [
      "The minimum dimension that captures at least 89% variance is 2 dimensions.\n",
      "The minimum dimension that captures at least 99% variance is 4 dimensions.\n"
     ]
    }
   ],
   "source": [
    "# perform PCA\n",
    "pca = PCA(n_components=7)\n",
    "pca.fit(features, target)\n",
    "print(pca.explained_variance_ratio_)\n",
    "\n",
    "# plot no of components vs cumulative explained variance\n",
    "plt.figure(figsize=(12,8))\n",
    "plt.title('PCA - Variance vs Components', fontsize=18, fontweight='bold')\n",
    "plt.plot(np.cumsum(np.round(pca.explained_variance_ratio_, decimals=4)*100), marker='*', linestyle='--', color='r')\n",
    "plt.xlabel('number of components', fontsize=15, fontweight='bold')\n",
    "plt.ylabel('cumulative explained variance', fontsize=15, fontweight='bold')\n",
    "plt.show()\n",
    "\n",
    "# store variance and number of components\n",
    "all_variances = []\n",
    "variance_89 = [] # at least 89% variance\n",
    "variance_99 = [] # at least 99% variance\n",
    "\n",
    "# get variance\n",
    "cumulative_variance = np.cumsum(pca.explained_variance_ratio_)\n",
    "for component, variance in enumerate(cumulative_variance.tolist()):\n",
    "    all_variances.append((component+1, variance))\n",
    "    if variance >= 0.89:\n",
    "        variance_89.append((component+1, variance)) # +1 because first component is 0\n",
    "    if variance >=0.99:\n",
    "        variance_99.append((component+1, variance))\n",
    "    else:\n",
    "        continue\n",
    "\n",
    "'''\n",
    "Currently appending in order so not required.\n",
    "# sort stored variances\n",
    "variance_89.sort(key=lambda x:x[1], reverse=True)\n",
    "variance_99.sort(key=lambda x:x[1], reverse=True)'''\n",
    "\n",
    "# get number of min components for >89% variance\n",
    "print(f'The minimum dimension that captures at least 89% variance is {variance_89[0][0]} dimensions.')\n",
    "# get number of min components for >99% variance\n",
    "print(f'The minimum dimension that captures at least 99% variance is {variance_99[0][0]} dimensions.')"
   ]
  },
  {
   "cell_type": "markdown",
   "metadata": {
    "colab_type": "text",
    "id": "x9JPYP0vLKzp"
   },
   "source": [
    "2. Determine the purity of clusters formed by the number of principal components which captured 89% and 99% variances respectively. Plot a line graph of the purity scores against the captured variances. Discuss your findings. __(7 marks)__"
   ]
  },
  {
   "cell_type": "code",
   "execution_count": 11,
   "metadata": {
    "colab": {},
    "colab_type": "code",
    "id": "8_a-xp2PKpya",
    "pycharm": {
     "is_executing": true
    },
    "scrolled": false
   },
   "outputs": [
    {
     "name": "stdout",
     "output_type": "stream",
     "text": [
      "At least 89% Variance\n",
      "PCA dataframe for 2 components:\n",
      "     component_1  component_2\n",
      "0       0.075029     0.129691\n",
      "1      -0.024301     0.364120\n",
      "2      -0.149375     0.456497\n",
      "3      -0.180881     0.440557\n",
      "4       0.250589     0.441297\n",
      "..           ...          ...\n",
      "205    -0.533393     0.201720\n",
      "206    -0.703762    -0.059483\n",
      "207    -0.336222    -0.085931\n",
      "208    -0.606683    -0.014199\n",
      "209    -0.498803    -0.054545\n",
      "\n",
      "[210 rows x 2 columns]\n",
      "For cluster 1: Purity is 0.333\n",
      "For cluster 2: Purity is 0.657\n",
      "For cluster 3: Purity is 0.886\n",
      "For cluster 4: Purity is 0.876\n",
      "For cluster 5: Purity is 0.890\n",
      "For cluster 6: Purity is 0.890\n",
      "For cluster 7: Purity is 0.905\n",
      "For cluster 8: Purity is 0.924\n",
      "For cluster 9: Purity is 0.914\n",
      "For cluster 10: Purity is 0.919\n",
      "For cluster 11: Purity is 0.929\n",
      "For cluster 12: Purity is 0.929\n",
      "For cluster 13: Purity is 0.919\n",
      "For cluster 14: Purity is 0.914\n",
      "For cluster 15: Purity is 0.895\n",
      "For cluster 16: Purity is 0.910\n",
      "For cluster 17: Purity is 0.914\n",
      "For cluster 18: Purity is 0.914\n",
      "For cluster 19: Purity is 0.910\n",
      "For cluster 20: Purity is 0.910\n",
      "For cluster 21: Purity is 0.919\n",
      "For cluster 22: Purity is 0.924\n",
      "For cluster 23: Purity is 0.910\n",
      "For cluster 24: Purity is 0.919\n",
      "For cluster 25: Purity is 0.914\n",
      "For cluster 26: Purity is 0.919\n",
      "For cluster 27: Purity is 0.924\n",
      "For cluster 28: Purity is 0.929\n",
      "For cluster 29: Purity is 0.929\n",
      "For cluster 30: Purity is 0.929\n",
      "##################################\n",
      "At least 99% Variance\n",
      "PCA dataframe for 4 components:\n",
      "     component_1  component_2  component_3  component_4\n",
      "0       0.075029     0.129691    -0.156185     0.100179\n",
      "1      -0.024301     0.364120    -0.200702     0.102692\n",
      "2      -0.149375     0.456497     0.120260     0.024747\n",
      "3      -0.180881     0.440557     0.037781     0.050929\n",
      "4       0.250589     0.441297    -0.061098     0.031164\n",
      "..           ...          ...          ...          ...\n",
      "205    -0.533393     0.201720     0.071941    -0.036752\n",
      "206    -0.703762    -0.059483    -0.002891    -0.041707\n",
      "207    -0.336222    -0.085931     0.633605     0.013034\n",
      "208    -0.606683    -0.014199    -0.078921    -0.033402\n",
      "209    -0.498803    -0.054545     0.221835    -0.024676\n",
      "\n",
      "[210 rows x 4 columns]\n",
      "For cluster 1: Purity is 0.333\n",
      "For cluster 2: Purity is 0.657\n",
      "For cluster 3: Purity is 0.890\n",
      "For cluster 4: Purity is 0.881\n",
      "For cluster 5: Purity is 0.900\n",
      "For cluster 6: Purity is 0.886\n",
      "For cluster 7: Purity is 0.886\n",
      "For cluster 8: Purity is 0.881\n",
      "For cluster 9: Purity is 0.914\n",
      "For cluster 10: Purity is 0.910\n",
      "For cluster 11: Purity is 0.900\n",
      "For cluster 12: Purity is 0.919\n",
      "For cluster 13: Purity is 0.924\n",
      "For cluster 14: Purity is 0.905\n",
      "For cluster 15: Purity is 0.900\n",
      "For cluster 16: Purity is 0.910\n",
      "For cluster 17: Purity is 0.919\n",
      "For cluster 18: Purity is 0.900\n",
      "For cluster 19: Purity is 0.919\n",
      "For cluster 20: Purity is 0.929\n",
      "For cluster 21: Purity is 0.938\n",
      "For cluster 22: Purity is 0.938\n",
      "For cluster 23: Purity is 0.919\n",
      "For cluster 24: Purity is 0.919\n",
      "For cluster 25: Purity is 0.919\n",
      "For cluster 26: Purity is 0.919\n",
      "For cluster 27: Purity is 0.933\n",
      "For cluster 28: Purity is 0.929\n",
      "For cluster 29: Purity is 0.929\n",
      "For cluster 30: Purity is 0.924\n"
     ]
    },
    {
     "data": {
      "image/png": "[encoded data removed]",
      "text/plain": [
       "<Figure size 864x576 with 1 Axes>"
      ]
     },
     "metadata": {
      "needs_background": "light"
     },
     "output_type": "display_data"
    },
    {
     "data": {
      "image/png": "[encoded data removed]",
      "text/plain": [
       "<Figure size 864x576 with 1 Axes>"
      ]
     },
     "metadata": {
      "needs_background": "light"
     },
     "output_type": "display_data"
    }
   ],
   "source": [
    "'''\n",
    "Determine the purity of clusters formed by the number of principal components which captured 89% and 99% variances respectively.\n",
    "\n",
    "Assumptions:\n",
    "This number of components which captured 89% and 99% variances are the minimum dimension that captures at least that percentage of variance.\n",
    "Find the optimal value of K between 1-30\n",
    "'''\n",
    "# kmeans and purity function\n",
    "def kmeans_purity(features, target, n_component):\n",
    "    # perform pca\n",
    "    pca  = PCA(n_components=n_component)\n",
    "    pca = pca.fit_transform(features,target)\n",
    "    # name columns\n",
    "    cols = ['component_'+ str(i) for i in range(1, n_component+1)]\n",
    "    pca_data = pd.DataFrame(pca, columns=cols) # create dataframe from components\n",
    "    print(f'PCA dataframe for {n_component} components:\\n{pca_data}')\n",
    "\n",
    "    # store purity scores\n",
    "    purity_scores = []\n",
    "\n",
    "    # perform kmeans with cluster between 1 to 30\n",
    "    for i in range(1,31):\n",
    "        kmeans = KMeans(n_clusters=i, init='random', n_init=10, max_iter=300, random_state=100)\n",
    "        kmeans.fit(pca_data)\n",
    "        cluster = kmeans.labels_\n",
    "        # purity evaluation\n",
    "        def purity_score(target, cluster):\n",
    "            # compute confusion matrix\n",
    "            confusion_matrix = metrics.cluster.contingency_matrix(target, cluster)\n",
    "            # return purity\n",
    "            return np.sum(np.amax(confusion_matrix, axis=0)) / np.sum(confusion_matrix)\n",
    "        purity = purity_score(target, cluster)\n",
    "        purity_scores.append((i, purity))\n",
    "    return purity_scores\n",
    "\n",
    "print('At least 89% Variance')\n",
    "\n",
    "\n",
    "purity_scores_89 = kmeans_purity(features, target, variance_89[0][0])\n",
    "\n",
    "# print component and their purity score\n",
    "for n_cluster, purity in purity_scores_89:\n",
    "    print(f'For cluster {n_cluster}: Purity is {purity:.3f}')\n",
    "\n",
    "print('##################################')\n",
    "print('At least 99% Variance')\n",
    "purity_scores_99 = kmeans_purity(features, target, variance_99[0][0])\n",
    "\n",
    "# print component and their purity score\n",
    "for n_cluster, purity in purity_scores_99:\n",
    "    print(f'For cluster {n_cluster}: Purity is {purity:.3f}')\n",
    "\n",
    "\n",
    "# plot graph for variance of at least 89%\n",
    "plt.figure(figsize=(12,8))\n",
    "plt.title('Purity Score against the No. of Clusters(>=89%)', fontsize=18, fontweight='bold')\n",
    "plt.xlabel('No. of Clusters', fontsize=15, fontweight='bold')\n",
    "plt.ylabel('Purity', fontsize=15, fontweight='bold')\n",
    "plt.plot([i[0] for i in purity_scores_89], [i[1] for i in purity_scores_89], marker='+', color='g', label='Variance >= 89')\n",
    "plt.ylim([0,1])\n",
    "plt.legend()\n",
    "plt.show()\n",
    "\n",
    "\n",
    "# plot graph for variance of at least 99%\n",
    "plt.figure(figsize=(12,8))\n",
    "plt.title('Purity Score against the No. of Clusters (>=99%)', fontsize=18, fontweight='bold')\n",
    "plt.xlabel('No. of Clusters', fontsize=15, fontweight='bold')\n",
    "plt.ylabel('Purity', fontsize=15, fontweight='bold')\n",
    "plt.plot([i[0] for i in purity_scores_99], [i[1] for i in purity_scores_99], marker='*', color='b', label='Variance >= 99', linestyle='--')\n",
    "plt.ylim([0,1])\n",
    "plt.legend()\n",
    "plt.show()"
   ]
  },
  {
   "cell_type": "markdown",
   "metadata": {},
   "source": [
    "**Observation**<br>\n",
    " we can see that K=3 seems to be optimal purity value for both 89% and 99% variance so we can use k=3 as optimal to use for k-means clustering.\n",
    " There is significant increase in purity until 3 clusters and then it starts to fall down or stay stationary and does not reflect significant increase in purity score."
   ]
  },
  {
   "cell_type": "code",
   "execution_count": 12,
   "metadata": {
    "pycharm": {
     "is_executing": true,
     "name": "#%%\n"
    }
   },
   "outputs": [
    {
     "name": "stdout",
     "output_type": "stream",
     "text": [
      "(Variance, Purity_score) --> [(0.7890336169668163, 0.861904761904762), (0.9181285163980158, 0.8857142857142857), (0.9867954958234737, 0.8857142857142857), (0.9962268068537803, 0.8904761904761904), (0.998965613372981, 0.8904761904761904), (0.9998589084748079, 0.8904761904761904), (0.9999999999999999, 0.8904761904761904)]\n",
      "\n",
      "Purity score for 89% variance is 0.886\n",
      "Purity score for 99% variance is 0.890\n"
     ]
    },
    {
     "data": {
      "image/png": "[encoded data removed]",
      "text/plain": [
       "<Figure size 864x576 with 1 Axes>"
      ]
     },
     "metadata": {
      "needs_background": "light"
     },
     "output_type": "display_data"
    }
   ],
   "source": [
    "# Plot a line graph of the purity scores against the captured variances.\n",
    "'''\n",
    "Assumption\n",
    "- captured variances refer to all the captured variances (not just 89% and 99%)\n",
    "- we have seen k=3 as optimal value of Kmeans clustering.\n",
    "'''\n",
    "# kmeans and purity function\n",
    "def pca_and_kmeans(n_component):\n",
    "    # perform pca\n",
    "    pca  = PCA(n_components=n_component)\n",
    "    pca = pca.fit_transform(features,target)\n",
    "    # name columns\n",
    "    cols = ['component_'+ str(i) for i in range(1, n_component+1)]\n",
    "    pca_data = pd.DataFrame(pca, columns=cols) # create dataframe from components\n",
    "    #print(f'PCA dataframe for {n_component} components:\\n{pca_data}')\n",
    "\n",
    "    # perform kmeans with cluster 3\n",
    "    kmeans = KMeans(n_clusters=3, init='random', n_init=10, max_iter=300, random_state=100)\n",
    "    kmeans.fit(pca_data)\n",
    "    cluster = kmeans.labels_\n",
    "    # purity evaluation\n",
    "    confusion_matrix = metrics.cluster.contingency_matrix(target, cluster)\n",
    "    # return purity\n",
    "    purity = np.sum(np.amax(confusion_matrix, axis=0)) / np.sum(confusion_matrix)\n",
    "    return purity\n",
    "\n",
    "# store purity for every variance\n",
    "purity_var_score = []\n",
    "\n",
    "# all variances\n",
    "'''\n",
    ":var all_variances has all the variances from previous step\n",
    "'''\n",
    "for variance in all_variances:\n",
    "    purity = pca_and_kmeans(variance[0])\n",
    "    purity_var_score.append((variance[1], purity))\n",
    "    \n",
    "# print purity scores for each variance\n",
    "print(f'(Variance, Purity_score) --> {purity_var_score}')\n",
    "print()\n",
    "\n",
    "# print purity scores for 89% and 99% variance\n",
    "print(f'Purity score for 89% variance is {purity_var_score[1][1]:.3f}')\n",
    "print(f'Purity score for 99% variance is {purity_var_score[3][1]:.3f}')\n",
    "\n",
    "# plot graph for purity against variance\n",
    "plt.figure(figsize=(12,8))\n",
    "plt.title('Purity Score against the captured variances', fontsize=18, fontweight='bold')\n",
    "plt.xlabel('Variance', fontsize=15, fontweight='bold')\n",
    "plt.ylabel('Purity', fontsize=15, fontweight='bold')\n",
    "plt.plot([i[0] for i in purity_var_score], [i[1] for i in purity_var_score], marker='*', color='b', linestyle='--')\n",
    "plt.show()"
   ]
  },
  {
   "cell_type": "markdown",
   "metadata": {},
   "source": [
    "**Observation:**<br>\n",
    "As the first principal component accounts for as much of the variability in the data as possible, and each succeeding component accounts for as much of the remaining variability as possible, similarly Purity is increased as the variance increased. However, from the above graph we can see that there were variances where it was constant for few variances and then it started increase again and become stationary again.\n",
    "\n",
    "We can also conclude that the lower variance has lower purity score and the higher variance has higher purity score which can be said to have linear relationship or highly correlated.\n",
    "\n",
    "If we just consider variances of 89% and 99%, we can say that there is a difference in purity score as 99% variance has larger purity score compared to 89%. The purity score for 89% variance with 2 components is 88.6% and for 99% variance with 4 components, the purity score is 0.89."
   ]
  },
  {
   "cell_type": "markdown",
   "metadata": {
    "colab_type": "text",
    "id": "8RmhzV_MK-ia"
   },
   "source": [
    "3. Let's assume you have two datasets one is linear and another is curved structural data.\n",
    "    - Can we apply PCA on these datasets? Justify your answer. __(3 marks)__ "
   ]
  },
  {
   "cell_type": "markdown",
   "metadata": {
    "colab": {},
    "colab_type": "code",
    "id": "_9NpVDBwKqD-",
    "pycharm": {
     "name": "#%% md\n"
    }
   },
   "source": [
    "We can apply PCA only on linear dataset as PCA is simple linear transformation on the input space to directions of maximum variations. In addition, it creates a linear map and for this reason it is limited to learning linear relationships between features.'\n",
    "      For curved structural data, we can not apply PCA because data is not linear. Techniques'\n",
    "      such as AutoEncoder can be applied for complex and non linear data.\n",
    "Some recommended approches for curved structural data:\n",
    "<li>Kernel Principal Component Analysis\n",
    "<li>Isometric feature mapping (ISOMAP)\n",
    "<li>Local linear embedding\n",
    "<li>Local Multi-Dimensional Scaling (MDS)"
   ]
  }
 ],
 "metadata": {
  "colab": {
   "collapsed_sections": [],
   "name": "A2.ipynb",
   "provenance": []
  },
  "kernelspec": {
   "display_name": "Python 3",
   "language": "python",
   "name": "python3"
  },
  "language_info": {
   "codemirror_mode": {
    "name": "ipython",
    "version": 3
   },
   "file_extension": ".py",
   "mimetype": "text/x-python",
   "name": "python",
   "nbconvert_exporter": "python",
   "pygments_lexer": "ipython3",
   "version": "3.8.4rc1"
  }
 },
 "nbformat": 4,
 "nbformat_minor": 1
}