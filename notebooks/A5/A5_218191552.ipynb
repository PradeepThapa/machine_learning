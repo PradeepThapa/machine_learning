{
 "cells": [
  {
   "cell_type": "markdown",
   "metadata": {},
   "source": [
    "# SIT 720 - Machine Learning\n",
    "\n",
    "Lecturer: Chandan Karmakar | karmakar@deakin.edu.au\n",
    "\n",
    "School of Information Technology,\n",
    "<br/>Deakin University, VIC 3125, Australia."
   ]
  },
  {
   "cell_type": "markdown",
   "metadata": {},
   "source": [
    "## Assessment Task 5 (35 marks)\n",
    "\n",
    "In this assignment, you will use a lot of concepts learnt in this course to come up with a good solution for a given chronic kidney disease prediction problem.\n",
    "\n",
    "## Submission Instruction\n",
    "1.  Student should insert Python code or text responses into the cell followed by the question.\n",
    "\n",
    "2.  For answers regarding discussion or explanation, **maximum ten sentences are suggested**.\n",
    "\n",
    "3.  Rename this notebook file appending your student ID. For example, for student ID 1234, the submitted file name should be A5_1234.ipynb.\n",
    "\n",
    "4.  Insert your student ID and name in the following cell."
   ]
  },
  {
   "cell_type": "code",
   "execution_count": 4,
   "metadata": {
    "pycharm": {
     "name": "#%%\n"
    }
   },
   "outputs": [],
   "source": [
    "# Student ID: 218191552\n",
    "\n",
    "# Student name: Pradeep Thapa"
   ]
  },
  {
   "cell_type": "markdown",
   "metadata": {},
   "source": [
    "##The dataset\n",
    "\n",
    "**Dataset file name:** chronic_kidney_disease.csv\n",
    "\n",
    "**Attribute Information:** \n",
    "\n",
    "There are 24 features + class = 25 attributes\n",
    "1.  Age(numerical): age in years\n",
    "2.Blood Pressure(numerical): bp in mm/Hg\n",
    "3.Specific Gravity(nominal): sg - (1.005,1.010,1.015,1.020,1.025)\n",
    "4.Albumin(nominal): al - (0,1,2,3,4,5)\n",
    "5.Sugar(nominal): su - (0,1,2,3,4,5)\n",
    "6.Red Blood Cells(nominal): rbc - (normal,abnormal)\n",
    "7.Pus Cell (nominal): pc - (normal,abnormal)\n",
    "8.Pus Cell clumps(nominal): pcc - (present,notpresent)\n",
    "9.Bacteria(nominal): ba - (present,notpresent)\n",
    "10.Blood Glucose Random(numerical): bgr in mgs/dl\n",
    "11.Blood Urea(numerical): bu in mgs/dl\n",
    "12.Serum Creatinine(numerical): sc in mgs/dl\n",
    "13.Sodium(numerical): sod in mEq/L\n",
    "14.Potassium(numerical): pot in mEq/L\n",
    "15.Hemoglobin(numerical): hemo in gms\n",
    "16.Packed Cell Volume(numerical)\n",
    "17.White Blood Cell Count(numerical): wc in cells/cumm\n",
    "18.Red Blood Cell Count(numerical): rc in millions/cmm\n",
    "19.Hypertension(nominal): htn - (yes,no)\n",
    "20.Diabetes Mellitus(nominal): dm - (yes,no)\n",
    "21.Coronary Artery Disease(nominal): cad - (yes,no)\n",
    "22.Appetite(nominal): appet - (good,poor)\n",
    "23.Pedal Edema(nominal): pe - (yes,no)\n",
    "24.Anemia(nominal): ane - (yes,no)\n",
    "25.Class (nominal): class - (ckd, notckd)\n"
   ]
  },
  {
   "cell_type": "markdown",
   "metadata": {},
   "source": [
    "## Part 1: Short questions: **(6 marks)**\n",
    "\n",
    "\n"
   ]
  },
  {
   "cell_type": "markdown",
   "metadata": {},
   "source": [
    "![image.png](data:image/png;base64,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)"
   ]
  },
  {
   "cell_type": "markdown",
   "metadata": {},
   "source": [
    "\n",
    "1.  For the above figure, what value of k in KNN method will give the best accuracy for leave-one-out cross-validation. Report accuracy and k value. **(3 marks)**"
   ]
  },
  {
   "cell_type": "markdown",
   "metadata": {
    "pycharm": {
     "name": "#%% md\n"
    }
   },
   "source": [
    "**Answer**\n",
    "\n",
    "**5-NN method will give higher accuracy for leave-one-out cross validation. It is difficult to choose the perfect value of k in KNN. However, it is common to choose an odd number\n",
    "when the problem is binary classification and other approach is to use square root of n where n is the number of data points in training data.\n",
    "Lets split our data points into training and testing, we have total of 36 data points and if we do 70-30 split, around 26 data points can be\n",
    "used for training and 10 for testing. Using sqrt(n) formula, we get around 5. So we can say that 5-KNN will give the best accuracy for leave-one-out\n",
    "as it is odd number as well which suits the binary classification. In addition, higher k value has higher computational cost so it is better to use smaller value.**\n",
    "\n",
    "\n",
    "**The accuracy is 28/36 which is 77.8%. 28 is the total number of points that are correctly classified\n",
    "and 36 is the total number of data points.**"
   ]
  },
  {
   "cell_type": "markdown",
   "metadata": {},
   "source": [
    "2.  In classification, overfitting and underfitting is a big problem. Does it happen in Random Forest or not? Why? **(3 marks)**"
   ]
  },
  {
   "cell_type": "markdown",
   "metadata": {
    "pycharm": {
     "name": "#%% md\n"
    }
   },
   "source": [
    "**Answer**\n",
    "\n",
    "**When we have more (enough) trees in forest, random forest won't overfit the model.\n",
    "The performance of Random Forest model does not impact due to overfitting problem as the number of trees increase.\n",
    "However, a Random Forest with few trees is quite prone to overfit to noise. As more trees are added, the tendency to overfit generally decreases.\n",
    "However, it is never completely free from overfit as no number of trees will ever remove overfit.**\n",
    "\n",
    "**Underfitting can happen in random forest if we do not have enough depth as increasing depth can help to reduce underfitting.\n",
    "Random Forest model can fail to capture important patterns in data which leads to underfit the model.**"
   ]
  },
  {
   "cell_type": "markdown",
   "metadata": {},
   "source": [
    "## Part 2: **(24 marks = 4 methods x 6)**\n",
    "\n",
    "Using the following four supervised machine learning methods, answer questions(A-D).\n",
    "1.   Support vector machine\n",
    "2.   K-Nearest Neighbour\n",
    "3.   Decision tree, and\n",
    "4.   Random forest\n",
    "\n",
    "**A.**  Build optimised classification model to predict the chronic kidney disease from the dataset. **(1 marks)**\n",
    "\n",
    "**B.** For each optimised model, answer the followings -  **(3 marks)**\n",
    "\n",
    "*  which hyperparameters were optimised? [Hint: For SVM, kernel can be considered as one of the hyperparameters.]\n",
    "\n",
    "*  what set or range of values were used for each hyperparameter?\n",
    "\n",
    "*  which metric was used to measure the performance?\n",
    "\n",
    "*  justify your design decisions.\n",
    "\n",
    "**C.**  Plot the prediction performance against hyperparameter values to visualise the optimisation process and mark the optimal value. **(1 marks)**\n",
    "\n",
    "**D.** Evaluate the model (obtained from A) performance on the test set. Report the confusion matrix, F1-score and accuracy. **(1 marks)**"
   ]
  },
  {
   "cell_type": "markdown",
   "metadata": {},
   "source": [
    "**Import required libraries**"
   ]
  },
  {
   "cell_type": "code",
   "execution_count": 5,
   "metadata": {
    "pycharm": {
     "name": "#%%\n"
    }
   },
   "outputs": [],
   "source": [
    "# imports\n",
    "import numpy as np\n",
    "import pandas as pd\n",
    "import matplotlib.pyplot as plt\n",
    "from sklearn.impute import SimpleImputer\n",
    "from sklearn.model_selection import train_test_split\n",
    "from sklearn.compose import ColumnTransformer\n",
    "from sklearn.pipeline import Pipeline\n",
    "from sklearn.preprocessing import StandardScaler\n",
    "from sklearn.model_selection import GridSearchCV\n",
    "from sklearn.metrics import accuracy_score, confusion_matrix, classification_report, ConfusionMatrixDisplay, f1_score\n",
    "from sklearn.svm import SVC\n",
    "from sklearn.neighbors import KNeighborsClassifier\n",
    "from sklearn.tree import DecisionTreeClassifier\n",
    "from sklearn.ensemble import RandomForestClassifier\n",
    "import warnings\n",
    "warnings.filterwarnings('ignore')"
   ]
  },
  {
   "cell_type": "markdown",
   "metadata": {},
   "source": [
    "**Load Chronic Kidney Disease csv file**"
   ]
  },
  {
   "cell_type": "code",
   "execution_count": 6,
   "metadata": {
    "pycharm": {
     "name": "#%%\n"
    }
   },
   "outputs": [
    {
     "data": {
      "text/plain": "    age    bp     sg   al   su  rbc  pc  pcc  ba    bgr  ...  pcv  wbcc  rbcc  \\\n0  48.0  80.0  1.020  1.0  0.0    0   0    1   1  121.0  ...   44  7800   5.2   \n1   7.0  50.0  1.020  4.0  0.0    0   0    1   1    NaN  ...   38  6000   0.0   \n2  62.0  80.0  1.010  2.0  3.0    0   0    1   1  423.0  ...   31  7500   0.0   \n3  48.0  70.0  1.005  4.0  0.0    0   1    0   1  117.0  ...   32  6700   3.9   \n4  51.0  80.0  1.010  2.0  0.0    0   0    1   1  106.0  ...   35  7300   4.6   \n\n   htn  dm  cad  appet  pe  ane  class  \n0    0   0    1      1   1    1    ckd  \n1    1   1    1      1   1    1    ckd  \n2    1   0    1      0   1    0    ckd  \n3    0   1    1      0   0    0    ckd  \n4    1   1    1      1   1    1    ckd  \n\n[5 rows x 25 columns]",
      "text/html": "<div>\n<style scoped>\n    .dataframe tbody tr th:only-of-type {\n        vertical-align: middle;\n    }\n\n    .dataframe tbody tr th {\n        vertical-align: top;\n    }\n\n    .dataframe thead th {\n        text-align: right;\n    }\n</style>\n<table border=\"1\" class=\"dataframe\">\n  <thead>\n    <tr style=\"text-align: right;\">\n      <th></th>\n      <th>age</th>\n      <th>bp</th>\n      <th>sg</th>\n      <th>al</th>\n      <th>su</th>\n      <th>rbc</th>\n      <th>pc</th>\n      <th>pcc</th>\n      <th>ba</th>\n      <th>bgr</th>\n      <th>...</th>\n      <th>pcv</th>\n      <th>wbcc</th>\n      <th>rbcc</th>\n      <th>htn</th>\n      <th>dm</th>\n      <th>cad</th>\n      <th>appet</th>\n      <th>pe</th>\n      <th>ane</th>\n      <th>class</th>\n    </tr>\n  </thead>\n  <tbody>\n    <tr>\n      <th>0</th>\n      <td>48.0</td>\n      <td>80.0</td>\n      <td>1.020</td>\n      <td>1.0</td>\n      <td>0.0</td>\n      <td>0</td>\n      <td>0</td>\n      <td>1</td>\n      <td>1</td>\n      <td>121.0</td>\n      <td>...</td>\n      <td>44</td>\n      <td>7800</td>\n      <td>5.2</td>\n      <td>0</td>\n      <td>0</td>\n      <td>1</td>\n      <td>1</td>\n      <td>1</td>\n      <td>1</td>\n      <td>ckd</td>\n    </tr>\n    <tr>\n      <th>1</th>\n      <td>7.0</td>\n      <td>50.0</td>\n      <td>1.020</td>\n      <td>4.0</td>\n      <td>0.0</td>\n      <td>0</td>\n      <td>0</td>\n      <td>1</td>\n      <td>1</td>\n      <td>NaN</td>\n      <td>...</td>\n      <td>38</td>\n      <td>6000</td>\n      <td>0.0</td>\n      <td>1</td>\n      <td>1</td>\n      <td>1</td>\n      <td>1</td>\n      <td>1</td>\n      <td>1</td>\n      <td>ckd</td>\n    </tr>\n    <tr>\n      <th>2</th>\n      <td>62.0</td>\n      <td>80.0</td>\n      <td>1.010</td>\n      <td>2.0</td>\n      <td>3.0</td>\n      <td>0</td>\n      <td>0</td>\n      <td>1</td>\n      <td>1</td>\n      <td>423.0</td>\n      <td>...</td>\n      <td>31</td>\n      <td>7500</td>\n      <td>0.0</td>\n      <td>1</td>\n      <td>0</td>\n      <td>1</td>\n      <td>0</td>\n      <td>1</td>\n      <td>0</td>\n      <td>ckd</td>\n    </tr>\n    <tr>\n      <th>3</th>\n      <td>48.0</td>\n      <td>70.0</td>\n      <td>1.005</td>\n      <td>4.0</td>\n      <td>0.0</td>\n      <td>0</td>\n      <td>1</td>\n      <td>0</td>\n      <td>1</td>\n      <td>117.0</td>\n      <td>...</td>\n      <td>32</td>\n      <td>6700</td>\n      <td>3.9</td>\n      <td>0</td>\n      <td>1</td>\n      <td>1</td>\n      <td>0</td>\n      <td>0</td>\n      <td>0</td>\n      <td>ckd</td>\n    </tr>\n    <tr>\n      <th>4</th>\n      <td>51.0</td>\n      <td>80.0</td>\n      <td>1.010</td>\n      <td>2.0</td>\n      <td>0.0</td>\n      <td>0</td>\n      <td>0</td>\n      <td>1</td>\n      <td>1</td>\n      <td>106.0</td>\n      <td>...</td>\n      <td>35</td>\n      <td>7300</td>\n      <td>4.6</td>\n      <td>1</td>\n      <td>1</td>\n      <td>1</td>\n      <td>1</td>\n      <td>1</td>\n      <td>1</td>\n      <td>ckd</td>\n    </tr>\n  </tbody>\n</table>\n<p>5 rows × 25 columns</p>\n</div>"
     },
     "execution_count": 6,
     "metadata": {},
     "output_type": "execute_result"
    }
   ],
   "source": [
    "# load data\n",
    "df = pd.read_csv('chronic_kidney_disease.csv',na_values='?')\n",
    "df.head()"
   ]
  },
  {
   "cell_type": "markdown",
   "metadata": {},
   "source": [
    "**Exploratory Data Analysis**"
   ]
  },
  {
   "cell_type": "code",
   "execution_count": 7,
   "metadata": {
    "pycharm": {
     "name": "#%%\n"
    }
   },
   "outputs": [
    {
     "data": {
      "text/plain": "age       9\nbp       12\nsg       47\nal       46\nsu       49\nrbc       0\npc        0\npcc       0\nba        0\nbgr      44\nbu       19\nsc       17\nsod      87\npot      88\nhemo     52\npcv       0\nwbcc      0\nrbcc      0\nhtn       0\ndm        0\ncad       0\nappet     0\npe        0\nane       0\nclass     0\ndtype: int64"
     },
     "execution_count": 7,
     "metadata": {},
     "output_type": "execute_result"
    }
   ],
   "source": [
    "# check for missing values\n",
    "df.isna().sum()"
   ]
  },
  {
   "cell_type": "markdown",
   "metadata": {},
   "source": [
    "**Train Test Split**\n",
    "\n",
    "**In order to avoid data leakage, split train and test data before imputing missing value**"
   ]
  },
  {
   "cell_type": "code",
   "execution_count": 8,
   "metadata": {
    "collapsed": false,
    "jupyter": {
     "outputs_hidden": false
    },
    "pycharm": {
     "name": "#%%\n"
    }
   },
   "outputs": [
    {
     "data": {
      "text/plain": "((320, 25), (80, 25))"
     },
     "execution_count": 8,
     "metadata": {},
     "output_type": "execute_result"
    }
   ],
   "source": [
    "train, test = train_test_split(df, test_size=0.2, shuffle=True, random_state=45, stratify=df['class'])\n",
    "train.shape, test.shape"
   ]
  },
  {
   "cell_type": "markdown",
   "metadata": {},
   "source": [
    "**We know that the class is categorical, so we need to convert into numerical so we are going to map the numerical values.**"
   ]
  },
  {
   "cell_type": "code",
   "execution_count": 9,
   "metadata": {
    "collapsed": false,
    "jupyter": {
     "outputs_hidden": false
    },
    "pycharm": {
     "name": "#%%\n"
    }
   },
   "outputs": [],
   "source": [
    "# number to map\n",
    "mapper = {'ckd':0, 'notckd':1}\n",
    "\n",
    "# map numerical values\n",
    "train['class'] = train['class'].map(mapper)\n",
    "test['class'] = test['class'].map(mapper)"
   ]
  },
  {
   "cell_type": "markdown",
   "metadata": {},
   "source": [
    "**Features and Target separation**"
   ]
  },
  {
   "cell_type": "code",
   "execution_count": 10,
   "metadata": {
    "collapsed": false,
    "jupyter": {
     "outputs_hidden": false
    },
    "pycharm": {
     "name": "#%%\n"
    }
   },
   "outputs": [
    {
     "data": {
      "text/plain": "((320, 24), (320,), (80, 24), (80,))"
     },
     "execution_count": 10,
     "metadata": {},
     "output_type": "execute_result"
    }
   ],
   "source": [
    "# features\n",
    "x_train = train.iloc[:, :24]\n",
    "x_test = test.iloc[:, :24]\n",
    "\n",
    "# target\n",
    "y_train = train.iloc[:, 24]\n",
    "y_test = test.iloc[:, 24]\n",
    "\n",
    "# shape\n",
    "x_train.shape, y_train.shape, x_test.shape, y_test.shape"
   ]
  },
  {
   "cell_type": "markdown",
   "metadata": {},
   "source": [
    "**We can see we have some missing values in the csv.**\n",
    "As we have less data, we cannot drop the missing data, instead we need to fill the missing values.\n",
    "\n",
    "**Impute missing value for 'age' column in Train and Test data**"
   ]
  },
  {
   "cell_type": "code",
   "execution_count": 11,
   "metadata": {
    "pycharm": {
     "name": "#%%\n"
    }
   },
   "outputs": [
    {
     "data": {
      "text/plain": "<Figure size 432x288 with 1 Axes>",
      "image/png": "[encoded data removed]"
     },
     "metadata": {
      "needs_background": "light"
     },
     "output_type": "display_data"
    },
    {
     "data": {
      "text/plain": "<Figure size 432x288 with 1 Axes>",
      "image/png": "[encoded data removed]"
     },
     "metadata": {
      "needs_background": "light"
     },
     "output_type": "display_data"
    }
   ],
   "source": [
    "# plot histogram for train\n",
    "plt.hist(x_train.age)\n",
    "plt.title('Train - Age')\n",
    "plt.show()\n",
    "\n",
    "# plot histogram for test\n",
    "plt.hist(x_test.age)\n",
    "plt.title('Test - Age')\n",
    "plt.show()"
   ]
  },
  {
   "cell_type": "markdown",
   "metadata": {},
   "source": [
    "**We can see that the both train and test histograms are left skew. For this reason, median is better choice.**"
   ]
  },
  {
   "cell_type": "code",
   "execution_count": 12,
   "metadata": {
    "pycharm": {
     "name": "#%%\n"
    }
   },
   "outputs": [],
   "source": [
    "# fill missing age values with median\n",
    "impute_median = SimpleImputer(missing_values=np.nan, strategy='median')\n",
    "x_train['age'] = impute_median.fit_transform(x_train['age'].values.reshape(-1,1))\n",
    "x_test['age'] = impute_median.fit_transform(x_test['age'].values.reshape(-1,1))"
   ]
  },
  {
   "cell_type": "markdown",
   "metadata": {},
   "source": [
    "**Impute missing value for 'bp' column**"
   ]
  },
  {
   "cell_type": "code",
   "execution_count": 13,
   "metadata": {
    "pycharm": {
     "name": "#%%\n"
    }
   },
   "outputs": [
    {
     "data": {
      "text/plain": "<Figure size 432x288 with 1 Axes>",
      "image/png": "[encoded data removed]"
     },
     "metadata": {
      "needs_background": "light"
     },
     "output_type": "display_data"
    },
    {
     "data": {
      "text/plain": "<Figure size 432x288 with 1 Axes>",
      "image/png": "[encoded data removed]"
     },
     "metadata": {
      "needs_background": "light"
     },
     "output_type": "display_data"
    }
   ],
   "source": [
    "# bp train histogram\n",
    "plt.hist(x_train['bp'])\n",
    "plt.title('Train - bp')\n",
    "plt.show()\n",
    "\n",
    "# bp test histogram\n",
    "plt.hist(x_test['bp'])\n",
    "plt.title('test - bp')\n",
    "plt.show()"
   ]
  },
  {
   "cell_type": "markdown",
   "metadata": {},
   "source": [
    "**As we can see the most of the values are between 50-100, it is better to use median to impute missing\n",
    "values so that outliers do not affect.**"
   ]
  },
  {
   "cell_type": "code",
   "execution_count": 14,
   "metadata": {
    "pycharm": {
     "name": "#%%\n"
    }
   },
   "outputs": [],
   "source": [
    "# impute missing values with median\n",
    "x_train['bp'] = impute_median.fit_transform(x_train['bp'].values.reshape(-1,1))\n",
    "x_test['bp'] = impute_median.fit_transform(x_test['bp'].values.reshape(-1,1))"
   ]
  },
  {
   "cell_type": "markdown",
   "metadata": {},
   "source": [
    "**Impute missing value for 'sg' column**\n",
    "\n",
    "Column 'sg' is categorical value, so it is better to impute with mode for missing values"
   ]
  },
  {
   "cell_type": "code",
   "execution_count": 15,
   "metadata": {
    "pycharm": {
     "name": "#%%\n"
    }
   },
   "outputs": [],
   "source": [
    "# mode imputer\n",
    "mode_impute = SimpleImputer(strategy='most_frequent')\n",
    "\n",
    "# impute 'sg' with most frequent\n",
    "x_train['sg'] = mode_impute.fit_transform(x_train['sg'].values.reshape(-1,1))\n",
    "x_test['sg'] = mode_impute.fit_transform(x_test['sg'].values.reshape(-1,1))"
   ]
  },
  {
   "cell_type": "markdown",
   "metadata": {},
   "source": [
    "**Impute missing value for 'al' column**\n",
    "\n",
    "Column 'al' is categorical value, so it is better to impute with mode for missing values"
   ]
  },
  {
   "cell_type": "code",
   "execution_count": 16,
   "metadata": {
    "pycharm": {
     "name": "#%%\n"
    }
   },
   "outputs": [],
   "source": [
    "# impute 'al' with most frequent\n",
    "x_train['al'] = mode_impute.fit_transform(x_train['al'].values.reshape(-1,1))\n",
    "x_test['al'] = mode_impute.fit_transform(x_test['al'].values.reshape(-1,1))"
   ]
  },
  {
   "cell_type": "markdown",
   "metadata": {
    "pycharm": {
     "name": "#%% md\n"
    }
   },
   "source": [
    "**Impute missing value for 'su' column**\n",
    "\n",
    "Column 'su' is categorical value so it is better to impute with mode for missing values"
   ]
  },
  {
   "cell_type": "code",
   "execution_count": 17,
   "metadata": {
    "pycharm": {
     "name": "#%%\n"
    }
   },
   "outputs": [],
   "source": [
    "# impute 'al' with most frequent\n",
    "x_train['su'] = mode_impute.fit_transform(x_train['su'].values.reshape(-1,1))\n",
    "x_test['su'] = mode_impute.fit_transform(x_test['su'].values.reshape(-1,1))"
   ]
  },
  {
   "cell_type": "markdown",
   "metadata": {
    "pycharm": {
     "name": "#%% md\n"
    }
   },
   "source": [
    "**Impute missing value for 'bgr' column**"
   ]
  },
  {
   "cell_type": "code",
   "execution_count": 18,
   "metadata": {
    "pycharm": {
     "name": "#%%\n"
    }
   },
   "outputs": [
    {
     "data": {
      "text/plain": "<Figure size 432x288 with 1 Axes>",
      "image/png": "[encoded data removed]"
     },
     "metadata": {
      "needs_background": "light"
     },
     "output_type": "display_data"
    },
    {
     "data": {
      "text/plain": "<Figure size 432x288 with 1 Axes>",
      "image/png": "[encoded data removed]"
     },
     "metadata": {
      "needs_background": "light"
     },
     "output_type": "display_data"
    }
   ],
   "source": [
    "# bgr train histogram\n",
    "plt.hist(x_train['bgr'])\n",
    "plt.title('Train - bgr')\n",
    "plt.show()\n",
    "\n",
    "# bgr test histogram\n",
    "plt.hist(x_test['bgr'])\n",
    "plt.title('Test - bgr')\n",
    "plt.show()"
   ]
  },
  {
   "cell_type": "code",
   "execution_count": 19,
   "metadata": {
    "pycharm": {
     "name": "#%%\n"
    }
   },
   "outputs": [
    {
     "name": "stdout",
     "output_type": "stream",
     "text": [
      "Train:\n",
      " count    282.000000\n",
      "mean     148.429078\n",
      "std       78.994686\n",
      "min       22.000000\n",
      "25%      100.000000\n",
      "50%      121.000000\n",
      "75%      164.500000\n",
      "max      490.000000\n",
      "Name: bgr, dtype: float64\n",
      "\n",
      "\n",
      "Test:\n",
      " count     74.000000\n",
      "mean     146.540541\n",
      "std       80.893163\n",
      "min       70.000000\n",
      "25%       97.500000\n",
      "50%      120.000000\n",
      "75%      158.500000\n",
      "max      424.000000\n",
      "Name: bgr, dtype: float64\n"
     ]
    }
   ],
   "source": [
    "# check statistics for 'bgr'\n",
    "print('Train:\\n', x_train['bgr'].describe())\n",
    "print('\\n\\nTest:\\n', x_test['bgr'].describe())"
   ]
  },
  {
   "cell_type": "markdown",
   "metadata": {
    "pycharm": {
     "name": "#%% md\n"
    }
   },
   "source": [
    "**Most of the values are between 100 to 200 in training data and 80 to 170 in test data so the mean seems better option to impute the missing values.**"
   ]
  },
  {
   "cell_type": "code",
   "execution_count": 20,
   "metadata": {
    "pycharm": {
     "name": "#%%\n"
    }
   },
   "outputs": [],
   "source": [
    "# mean imputer\n",
    "mean_impute = SimpleImputer()\n",
    "\n",
    "# impute missing values with mean\n",
    "x_train['bgr'] = mean_impute.fit_transform(x_train['bgr'].values.reshape(-1,1))\n",
    "x_test['bgr'] = mean_impute.fit_transform(x_test['bgr'].values.reshape(-1,1))"
   ]
  },
  {
   "cell_type": "markdown",
   "metadata": {
    "pycharm": {
     "name": "#%% md\n"
    }
   },
   "source": [
    "**Impute missing value for 'bu' column**"
   ]
  },
  {
   "cell_type": "code",
   "execution_count": 21,
   "metadata": {
    "pycharm": {
     "name": "#%%\n"
    }
   },
   "outputs": [
    {
     "data": {
      "text/plain": "<Figure size 432x288 with 1 Axes>",
      "image/png": "[encoded data removed]"
     },
     "metadata": {
      "needs_background": "light"
     },
     "output_type": "display_data"
    },
    {
     "data": {
      "text/plain": "<Figure size 432x288 with 1 Axes>",
      "image/png": "[encoded data removed]"
     },
     "metadata": {
      "needs_background": "light"
     },
     "output_type": "display_data"
    },
    {
     "name": "stdout",
     "output_type": "stream",
     "text": [
      "Train:\n",
      " count    302.000000\n",
      "mean      57.811921\n",
      "std       50.718274\n",
      "min        1.500000\n",
      "25%       27.000000\n",
      "50%       41.500000\n",
      "75%       66.000000\n",
      "max      391.000000\n",
      "Name: bu, dtype: float64\n",
      "Test:\n",
      "\n",
      " count     79.000000\n",
      "mean      55.949367\n",
      "std       49.963807\n",
      "min       15.000000\n",
      "25%       25.000000\n",
      "50%       46.000000\n",
      "75%       59.000000\n",
      "max      322.000000\n",
      "Name: bu, dtype: float64\n"
     ]
    }
   ],
   "source": [
    "# 'bu' train histogram\n",
    "plt.hist(x_train['bu'])\n",
    "plt.title('Train - bu')\n",
    "plt.show()\n",
    "\n",
    "# 'bu' test histogram\n",
    "plt.hist(x_test['bu'])\n",
    "plt.title('Test - bu')\n",
    "plt.show()\n",
    "\n",
    "# check statistics\n",
    "print('Train:\\n' , x_train['bu'].describe())\n",
    "print('Test:\\n\\n' , x_test['bu'].describe())"
   ]
  },
  {
   "cell_type": "markdown",
   "metadata": {
    "pycharm": {
     "name": "#%% md\n"
    }
   },
   "source": [
    "**Most of the values are between 1 to 80 and the mean seems better option to impute the missing values.**"
   ]
  },
  {
   "cell_type": "code",
   "execution_count": 22,
   "metadata": {
    "pycharm": {
     "name": "#%%\n"
    }
   },
   "outputs": [],
   "source": [
    "# impute missing values with mean\n",
    "x_train['bu'] = mean_impute.fit_transform(x_train['bu'].values.reshape(-1,1))\n",
    "x_test['bu'] = mean_impute.fit_transform(x_test['bu'].values.reshape(-1,1))"
   ]
  },
  {
   "cell_type": "markdown",
   "metadata": {
    "pycharm": {
     "name": "#%% md\n"
    }
   },
   "source": [
    "**Impute missing value for 'sc' column**"
   ]
  },
  {
   "cell_type": "code",
   "execution_count": 23,
   "metadata": {
    "pycharm": {
     "name": "#%%\n"
    }
   },
   "outputs": [
    {
     "data": {
      "text/plain": "<Figure size 432x288 with 1 Axes>",
      "image/png": "[encoded data removed]"
     },
     "metadata": {
      "needs_background": "light"
     },
     "output_type": "display_data"
    },
    {
     "data": {
      "text/plain": "<Figure size 432x288 with 1 Axes>",
      "image/png": "[encoded data removed]"
     },
     "metadata": {
      "needs_background": "light"
     },
     "output_type": "display_data"
    },
    {
     "name": "stdout",
     "output_type": "stream",
     "text": [
      "Train\n",
      ": count    304.000000\n",
      "mean       3.165954\n",
      "std        6.149875\n",
      "min        0.400000\n",
      "25%        0.900000\n",
      "50%        1.300000\n",
      "75%        2.800000\n",
      "max       76.000000\n",
      "Name: sc, dtype: float64\n",
      "Test\n",
      "\n",
      ": count    79.000000\n",
      "mean      2.712658\n",
      "std       3.786425\n",
      "min       0.500000\n",
      "25%       0.950000\n",
      "50%       1.200000\n",
      "75%       2.600000\n",
      "max      24.000000\n",
      "Name: sc, dtype: float64\n"
     ]
    }
   ],
   "source": [
    "# 'sc' train histogram\n",
    "plt.hist(x_train['sc'])\n",
    "plt.title('Train - sc')\n",
    "plt.show()\n",
    "\n",
    "# 'sc' test histogram\n",
    "plt.hist(x_train['sc'])\n",
    "plt.title('Test - sc')\n",
    "plt.show()\n",
    "\n",
    "# check statistics\n",
    "print('Train\\n:', x_train['sc'].describe())\n",
    "print('Test\\n\\n:', x_test['sc'].describe())"
   ]
  },
  {
   "cell_type": "markdown",
   "metadata": {
    "pycharm": {
     "name": "#%% md\n"
    }
   },
   "source": [
    "**Most of the values are between 1 to 8 and the mean seems better option to impute the missing values.**"
   ]
  },
  {
   "cell_type": "code",
   "execution_count": 24,
   "metadata": {
    "pycharm": {
     "name": "#%%\n"
    }
   },
   "outputs": [],
   "source": [
    "# impute missing values with mean\n",
    "x_train['sc'] = mean_impute.fit_transform(x_train['sc'].values.reshape(-1,1))\n",
    "x_test['sc'] = mean_impute.fit_transform(x_test['sc'].values.reshape(-1,1))"
   ]
  },
  {
   "cell_type": "markdown",
   "metadata": {
    "pycharm": {
     "name": "#%% md\n"
    }
   },
   "source": [
    "**Impute missing value for 'sod' column**"
   ]
  },
  {
   "cell_type": "code",
   "execution_count": 25,
   "metadata": {
    "pycharm": {
     "name": "#%%\n"
    }
   },
   "outputs": [
    {
     "data": {
      "text/plain": "<Figure size 432x288 with 1 Axes>",
      "image/png": "[encoded data removed]"
     },
     "metadata": {
      "needs_background": "light"
     },
     "output_type": "display_data"
    },
    {
     "data": {
      "text/plain": "<Figure size 432x288 with 1 Axes>",
      "image/png": "[encoded data removed]"
     },
     "metadata": {
      "needs_background": "light"
     },
     "output_type": "display_data"
    },
    {
     "name": "stdout",
     "output_type": "stream",
     "text": [
      "Train:\n",
      "\n",
      " count    245.000000\n",
      "mean     137.573469\n",
      "std       11.136021\n",
      "min        4.500000\n",
      "25%      135.000000\n",
      "50%      138.000000\n",
      "75%      142.000000\n",
      "max      163.000000\n",
      "Name: sod, dtype: float64\n",
      "Test:\n",
      "\n",
      " count     68.000000\n",
      "mean     137.367647\n",
      "std        7.270682\n",
      "min      104.000000\n",
      "25%      135.000000\n",
      "50%      138.000000\n",
      "75%      141.250000\n",
      "max      150.000000\n",
      "Name: sod, dtype: float64\n"
     ]
    }
   ],
   "source": [
    "# 'sod' train histogram\n",
    "plt.hist(x_train['sod'])\n",
    "plt.title('Train - sod')\n",
    "plt.show()\n",
    "\n",
    "# 'sod' test histogram\n",
    "plt.hist(x_test['sod'])\n",
    "plt.title('Test - sod')\n",
    "plt.show()\n",
    "\n",
    "# check statistics\n",
    "print('Train:\\n\\n', x_train['sod'].describe())\n",
    "print('Test:\\n\\n', x_test['sod'].describe())"
   ]
  },
  {
   "cell_type": "markdown",
   "metadata": {
    "pycharm": {
     "name": "#%% md\n"
    }
   },
   "source": [
    "**From above histogram, we can see that 'sod' has outliers. As we have limited data, I am going to convert into missing values (nan).**"
   ]
  },
  {
   "cell_type": "code",
   "execution_count": 26,
   "metadata": {
    "pycharm": {
     "name": "#%%\n"
    }
   },
   "outputs": [
    {
     "data": {
      "text/plain": "<Figure size 432x288 with 1 Axes>",
      "image/png": "[encoded data removed]"
     },
     "metadata": {
      "needs_background": "light"
     },
     "output_type": "display_data"
    },
    {
     "data": {
      "text/plain": "<Figure size 432x288 with 1 Axes>",
      "image/png": "[encoded data removed]"
     },
     "metadata": {
      "needs_background": "light"
     },
     "output_type": "display_data"
    },
    {
     "name": "stdout",
     "output_type": "stream",
     "text": [
      "Train:\n",
      "\n",
      " count    239.000000\n",
      "mean     138.644351\n",
      "std        6.234483\n",
      "min      115.000000\n",
      "25%      135.000000\n",
      "50%      139.000000\n",
      "75%      142.000000\n",
      "max      163.000000\n",
      "Name: sod, dtype: float64\n",
      "Test:\n",
      "\n",
      " count     67.000000\n",
      "mean     137.865672\n",
      "std        6.045022\n",
      "min      120.000000\n",
      "25%      135.000000\n",
      "50%      138.000000\n",
      "75%      141.500000\n",
      "max      150.000000\n",
      "Name: sod, dtype: float64\n"
     ]
    }
   ],
   "source": [
    "# set outlier to nan value\n",
    "x_train['sod'] = x_train['sod'].apply(lambda x: np.nan if x<115 else x)\n",
    "x_test['sod'] = x_test['sod'].apply(lambda x: np.nan if x<115 else x)\n",
    "\n",
    "# 'sod' train histogram\n",
    "plt.hist(x_train['sod'])\n",
    "plt.title('Train - sod')\n",
    "plt.show()\n",
    "\n",
    "# 'sod' test histogram\n",
    "plt.hist(x_test['sod'])\n",
    "plt.title('Test - sod')\n",
    "plt.show()\n",
    "\n",
    "# check statistics\n",
    "print('Train:\\n\\n', x_train['sod'].describe())\n",
    "print('Test:\\n\\n', x_test['sod'].describe())"
   ]
  },
  {
   "cell_type": "markdown",
   "metadata": {
    "pycharm": {
     "name": "#%% md\n"
    }
   },
   "source": [
    "**Most of the values are between 110 to 160 and the mean seems better option to impute the missing values.**"
   ]
  },
  {
   "cell_type": "code",
   "execution_count": 27,
   "metadata": {
    "pycharm": {
     "name": "#%%\n"
    }
   },
   "outputs": [],
   "source": [
    "# impute missing values with mean\n",
    "x_train['sod'] = mean_impute.fit_transform(x_train['sod'].values.reshape(-1,1))\n",
    "x_test['sod'] = mean_impute.fit_transform(x_test['sod'].values.reshape(-1,1))"
   ]
  },
  {
   "cell_type": "markdown",
   "metadata": {
    "pycharm": {
     "name": "#%% md\n"
    }
   },
   "source": [
    "**Impute missing value for 'pot' column**"
   ]
  },
  {
   "cell_type": "code",
   "execution_count": 28,
   "metadata": {
    "pycharm": {
     "name": "#%%\n"
    }
   },
   "outputs": [
    {
     "data": {
      "text/plain": "<Figure size 432x288 with 1 Axes>",
      "image/png": "[encoded data removed]"
     },
     "metadata": {
      "needs_background": "light"
     },
     "output_type": "display_data"
    },
    {
     "data": {
      "text/plain": "<Figure size 432x288 with 1 Axes>",
      "image/png": "[encoded data removed]"
     },
     "metadata": {
      "needs_background": "light"
     },
     "output_type": "display_data"
    },
    {
     "name": "stdout",
     "output_type": "stream",
     "text": [
      "Train:\n",
      "\n",
      " count    244.000000\n",
      "mean       4.679918\n",
      "std        3.590598\n",
      "min        2.500000\n",
      "25%        3.800000\n",
      "50%        4.400000\n",
      "75%        4.900000\n",
      "max       47.000000\n",
      "Name: pot, dtype: float64\n",
      "Test:\n",
      "\n",
      " count    68.000000\n",
      "mean      4.438235\n",
      "std       0.738702\n",
      "min       2.900000\n",
      "25%       3.875000\n",
      "50%       4.400000\n",
      "75%       4.900000\n",
      "max       6.400000\n",
      "Name: pot, dtype: float64\n"
     ]
    }
   ],
   "source": [
    "# 'pot' train histogram\n",
    "plt.hist(x_train['pot'])\n",
    "plt.title('Train - pot')\n",
    "plt.show()\n",
    "\n",
    "# 'pot' test histogram\n",
    "plt.hist(x_test['pot'])\n",
    "plt.title('Test - pot')\n",
    "plt.show()\n",
    "\n",
    "# check statistics\n",
    "print('Train:\\n\\n', x_train['pot'].describe())\n",
    "print('Test:\\n\\n', x_test['pot'].describe())"
   ]
  },
  {
   "cell_type": "markdown",
   "metadata": {
    "pycharm": {
     "name": "#%% md\n"
    }
   },
   "source": [
    "**From above histogram, we can see that 'sod' has outliers. As we have limited data, I am going to convert into missing values (nan).**"
   ]
  },
  {
   "cell_type": "code",
   "execution_count": 29,
   "metadata": {
    "pycharm": {
     "name": "#%%\n"
    }
   },
   "outputs": [
    {
     "data": {
      "text/plain": "<Figure size 432x288 with 1 Axes>",
      "image/png": "[encoded data removed]"
     },
     "metadata": {
      "needs_background": "light"
     },
     "output_type": "display_data"
    },
    {
     "data": {
      "text/plain": "<Figure size 432x288 with 1 Axes>",
      "image/png": "[encoded data removed]"
     },
     "metadata": {
      "needs_background": "light"
     },
     "output_type": "display_data"
    },
    {
     "name": "stdout",
     "output_type": "stream",
     "text": [
      "Train:\n",
      "\n",
      " count    242.000000\n",
      "mean       4.363223\n",
      "std        0.761421\n",
      "min        2.500000\n",
      "25%        3.800000\n",
      "50%        4.400000\n",
      "75%        4.900000\n",
      "max        7.600000\n",
      "Name: pot, dtype: float64\n",
      "Test:\n",
      "\n",
      " count    68.000000\n",
      "mean      4.438235\n",
      "std       0.738702\n",
      "min       2.900000\n",
      "25%       3.875000\n",
      "50%       4.400000\n",
      "75%       4.900000\n",
      "max       6.400000\n",
      "Name: pot, dtype: float64\n"
     ]
    }
   ],
   "source": [
    "# set outlier to nan value\n",
    "x_train['pot'] = x_train['pot'].apply(lambda x: np.nan if x>9 else x)\n",
    "x_test['pot'] = x_test['pot'].apply(lambda x: np.nan if x>9 else x)\n",
    "\n",
    "# 'pot' train histogram\n",
    "plt.hist(x_train['pot'])\n",
    "plt.title('Train - pot')\n",
    "plt.show()\n",
    "\n",
    "# 'pot' test histogram\n",
    "plt.hist(x_test['pot'])\n",
    "plt.title('Test - pot')\n",
    "plt.show()\n",
    "\n",
    "# check statistics\n",
    "print('Train:\\n\\n', x_train['pot'].describe())\n",
    "print('Test:\\n\\n', x_test['pot'].describe())"
   ]
  },
  {
   "cell_type": "markdown",
   "metadata": {
    "pycharm": {
     "name": "#%% md\n"
    }
   },
   "source": [
    "**Most of the values are between 3 to 6 and the mean seems better option to impute the missing values.**"
   ]
  },
  {
   "cell_type": "code",
   "execution_count": 30,
   "metadata": {
    "pycharm": {
     "name": "#%%\n"
    }
   },
   "outputs": [],
   "source": [
    "# impute missing values with mean\n",
    "x_train['pot'] = mean_impute.fit_transform(x_train['pot'].values.reshape(-1,1))\n",
    "x_test['pot'] = mean_impute.fit_transform(x_test['pot'].values.reshape(-1,1))"
   ]
  },
  {
   "cell_type": "markdown",
   "metadata": {
    "pycharm": {
     "name": "#%% md\n"
    }
   },
   "source": [
    "**Impute missing value for 'hemo' column**"
   ]
  },
  {
   "cell_type": "code",
   "execution_count": 31,
   "metadata": {
    "pycharm": {
     "name": "#%%\n"
    }
   },
   "outputs": [
    {
     "data": {
      "text/plain": "<Figure size 432x288 with 1 Axes>",
      "image/png": "[encoded data removed]"
     },
     "metadata": {
      "needs_background": "light"
     },
     "output_type": "display_data"
    },
    {
     "data": {
      "text/plain": "<Figure size 432x288 with 1 Axes>",
      "image/png": "[encoded data removed]"
     },
     "metadata": {
      "needs_background": "light"
     },
     "output_type": "display_data"
    },
    {
     "name": "stdout",
     "output_type": "stream",
     "text": [
      "Train:\n",
      "\n",
      " count    277.000000\n",
      "mean      12.522022\n",
      "std        2.951391\n",
      "min        3.100000\n",
      "25%       10.300000\n",
      "50%       12.800000\n",
      "75%       15.000000\n",
      "max       17.800000\n",
      "Name: hemo, dtype: float64\n",
      "Test:\n",
      "\n",
      " count    71.000000\n",
      "mean     12.543662\n",
      "std       2.776109\n",
      "min       5.600000\n",
      "25%      10.550000\n",
      "50%      12.400000\n",
      "75%      14.800000\n",
      "max      17.800000\n",
      "Name: hemo, dtype: float64\n"
     ]
    }
   ],
   "source": [
    "# 'hemo' train histogram\n",
    "plt.hist(x_train['hemo'])\n",
    "plt.title('Train - hemo')\n",
    "plt.show()\n",
    "\n",
    "# 'hemo' test histogram\n",
    "plt.hist(x_test['hemo'])\n",
    "plt.title('Test - hemo')\n",
    "plt.show()\n",
    "\n",
    "# check statistics\n",
    "print('Train:\\n\\n', x_train['hemo'].describe())\n",
    "print('Test:\\n\\n', x_test['hemo'].describe())"
   ]
  },
  {
   "cell_type": "markdown",
   "metadata": {
    "pycharm": {
     "name": "#%% md\n"
    }
   },
   "source": [
    "**Most of the values are between 4 to 17 and the mean seems better option to impute the missing values.**"
   ]
  },
  {
   "cell_type": "code",
   "execution_count": 32,
   "metadata": {
    "pycharm": {
     "name": "#%%\n"
    }
   },
   "outputs": [],
   "source": [
    "# impute missing values with mean\n",
    "x_train['hemo'] = mean_impute.fit_transform(x_train['hemo'].values.reshape(-1,1))\n",
    "x_test['hemo'] = mean_impute.fit_transform(x_test['hemo'].values.reshape(-1,1))"
   ]
  },
  {
   "cell_type": "markdown",
   "metadata": {
    "pycharm": {
     "name": "#%% md\n"
    }
   },
   "source": [
    "**Check for missing values**"
   ]
  },
  {
   "cell_type": "code",
   "execution_count": 33,
   "metadata": {
    "pycharm": {
     "name": "#%%\n"
    }
   },
   "outputs": [
    {
     "name": "stdout",
     "output_type": "stream",
     "text": [
      "Train:\n",
      "\n",
      " age      0\n",
      "bp       0\n",
      "sg       0\n",
      "al       0\n",
      "su       0\n",
      "rbc      0\n",
      "pc       0\n",
      "pcc      0\n",
      "ba       0\n",
      "bgr      0\n",
      "bu       0\n",
      "sc       0\n",
      "sod      0\n",
      "pot      0\n",
      "hemo     0\n",
      "pcv      0\n",
      "wbcc     0\n",
      "rbcc     0\n",
      "htn      0\n",
      "dm       0\n",
      "cad      0\n",
      "appet    0\n",
      "pe       0\n",
      "ane      0\n",
      "dtype: int64\n",
      "Test:\n",
      "\n",
      " age      0\n",
      "bp       0\n",
      "sg       0\n",
      "al       0\n",
      "su       0\n",
      "rbc      0\n",
      "pc       0\n",
      "pcc      0\n",
      "ba       0\n",
      "bgr      0\n",
      "bu       0\n",
      "sc       0\n",
      "sod      0\n",
      "pot      0\n",
      "hemo     0\n",
      "pcv      0\n",
      "wbcc     0\n",
      "rbcc     0\n",
      "htn      0\n",
      "dm       0\n",
      "cad      0\n",
      "appet    0\n",
      "pe       0\n",
      "ane      0\n",
      "dtype: int64\n"
     ]
    }
   ],
   "source": [
    "print('Train:\\n\\n', x_train.isna().sum())\n",
    "print('Test:\\n\\n', x_test.isna().sum())"
   ]
  },
  {
   "cell_type": "markdown",
   "metadata": {
    "pycharm": {
     "name": "#%% md\n"
    }
   },
   "source": [
    "**Separate Categorical and Numerical features**"
   ]
  },
  {
   "cell_type": "code",
   "execution_count": 34,
   "metadata": {
    "collapsed": false,
    "jupyter": {
     "outputs_hidden": false
    },
    "pycharm": {
     "name": "#%%\n"
    }
   },
   "outputs": [],
   "source": [
    "# numerical features\n",
    "num_features = ['age', 'bp', 'bgr', 'bu', 'sc', 'sod', 'pot', 'hemo', 'pcv', 'wbcc', 'rbcc']\n",
    "\n",
    "# categroical features\n",
    "cat_features = ['sg', 'al', 'su', 'rbc', 'pc', 'pcc', 'ba', 'htn', 'dm', 'cad', 'appet', 'pe', 'ane']"
   ]
  },
  {
   "cell_type": "markdown",
   "metadata": {},
   "source": [
    "**Standard Scaler for Numerical Features**"
   ]
  },
  {
   "cell_type": "code",
   "execution_count": 35,
   "metadata": {
    "pycharm": {
     "name": "#%%\n"
    }
   },
   "outputs": [],
   "source": [
    "# standard scaler\n",
    "num_transform = ColumnTransformer([\n",
    "    ('scale', StandardScaler(), num_features)\n",
    "], remainder='passthrough', n_jobs=-1)"
   ]
  },
  {
   "cell_type": "markdown",
   "metadata": {
    "pycharm": {
     "name": "#%% md\n"
    }
   },
   "source": [
    "**Store model's accuracy to plot later**"
   ]
  },
  {
   "cell_type": "code",
   "execution_count": 36,
   "metadata": {
    "pycharm": {
     "name": "#%%\n"
    }
   },
   "outputs": [],
   "source": [
    "model_performance = []"
   ]
  },
  {
   "cell_type": "markdown",
   "metadata": {},
   "source": [
    "**Support Vector Machine**"
   ]
  },
  {
   "cell_type": "code",
   "execution_count": 37,
   "metadata": {
    "pycharm": {
     "name": "#%%\n"
    }
   },
   "outputs": [
    {
     "name": "stdout",
     "output_type": "stream",
     "text": [
      "The SVM accuracy is 93.75%\n",
      "The SVM F1 Score is 91.53%\n",
      "Classification Report:\n",
      "              precision    recall  f1-score   support\n",
      "\n",
      "         ckd       0.94      0.96      0.95        50\n",
      "      notckd       0.93      0.90      0.92        30\n",
      "\n",
      "    accuracy                           0.94        80\n",
      "   macro avg       0.94      0.93      0.93        80\n",
      "weighted avg       0.94      0.94      0.94        80\n",
      "\n"
     ]
    },
    {
     "data": {
      "text/plain": "<Figure size 432x288 with 2 Axes>",
      "image/png": "[encoded data removed]"
     },
     "metadata": {
      "needs_background": "light"
     },
     "output_type": "display_data"
    }
   ],
   "source": [
    "# svm clasifier\n",
    "svm_clf = SVC(random_state=11)\n",
    "\n",
    "# build pipeline\n",
    "svm_pipeline = Pipeline([\n",
    "    ('numerical scaling', num_transform),\n",
    "    ('svm', svm_clf)\n",
    "])\n",
    "\n",
    "# fit\n",
    "svm_pipeline.fit(x_train, y_train)\n",
    "\n",
    "# predict\n",
    "y_pred = svm_pipeline.predict(x_test)\n",
    "\n",
    "# accuracy score\n",
    "print(f'The SVM accuracy is {accuracy_score(y_test, y_pred)*100:.2f}%')\n",
    "\n",
    "# F1 score\n",
    "print(f'The SVM F1 Score is {f1_score(y_test, y_pred)*100:.2f}%')\n",
    "\n",
    "# confusion matrix\n",
    "confusion_mtx = confusion_matrix(y_test, y_pred)\n",
    "\n",
    "# display confusion matrix\n",
    "ConfusionMatrixDisplay(confusion_mtx, display_labels=['ckd', 'notckd']).plot()\n",
    "\n",
    "# classification report\n",
    "print(f\"Classification Report:\\n{classification_report(y_test, y_pred, target_names=['ckd', 'notckd'])}\")"
   ]
  },
  {
   "cell_type": "markdown",
   "metadata": {},
   "source": [
    "**Gridsearch SVM Classifier**"
   ]
  },
  {
   "cell_type": "code",
   "execution_count": 38,
   "metadata": {
    "pycharm": {
     "name": "#%%\n"
    }
   },
   "outputs": [
    {
     "name": "stdout",
     "output_type": "stream",
     "text": [
      "Best parameters: {'svm__C': 10}\n",
      "Best score: 0.975\n"
     ]
    }
   ],
   "source": [
    "# parameters to Gridsearch\n",
    "svm_params = [\n",
    "    {'svm__C':[5,10,15,20,25,30,35]},\n",
    "    {'svm__C':[5,10,15,30,50,60,70,100], 'svm__kernel':['Polynomial', 'RBF', 'Sigmoid', 'Linear']}\n",
    "]\n",
    "\n",
    "# grid search\n",
    "svm_gs = GridSearchCV(svm_pipeline, param_grid=svm_params, scoring='recall', cv=5, n_jobs=-1)\n",
    "\n",
    "# fit\n",
    "svm_gs.fit(x_train, y_train)\n",
    "\n",
    "# best parameters\n",
    "print(f'Best parameters: {svm_gs.best_params_}')\n",
    "\n",
    "# best score\n",
    "print(f'Best score: {svm_gs.best_score_}')\n",
    "\n",
    "# sotre cv results\n",
    "cv_results = svm_gs.cv_results_"
   ]
  },
  {
   "cell_type": "markdown",
   "metadata": {},
   "source": [
    "**A. Build optimised classification model to predict the chronic kidney disease from the dataset.**"
   ]
  },
  {
   "cell_type": "code",
   "execution_count": 39,
   "metadata": {
    "pycharm": {
     "name": "#%%\n"
    }
   },
   "outputs": [
    {
     "data": {
      "text/plain": "Pipeline(steps=[('numerical scaling',\n                 ColumnTransformer(n_jobs=-1, remainder='passthrough',\n                                   transformers=[('scale', StandardScaler(),\n                                                  ['age', 'bp', 'bgr', 'bu',\n                                                   'sc', 'sod', 'pot', 'hemo',\n                                                   'pcv', 'wbcc', 'rbcc'])])),\n                ('svm', SVC(C=10, random_state=11))])"
     },
     "execution_count": 39,
     "metadata": {},
     "output_type": "execute_result"
    }
   ],
   "source": [
    "# optimised svm clasifier\n",
    "svm_optimised = SVC(C=10, random_state=11)\n",
    "\n",
    "# build pipeline\n",
    "svm_opt_pipeline = Pipeline([\n",
    "    ('numerical scaling', num_transform),\n",
    "    ('svm', svm_optimised)\n",
    "])\n",
    "\n",
    "# train the model\n",
    "svm_opt_pipeline.fit(x_train, y_train)"
   ]
  },
  {
   "cell_type": "markdown",
   "metadata": {},
   "source": [
    "**B. For each optimised model, answer the followings - (3 marks)**\n",
    "- **which hyperparameters were optimised? [Hint: For SVM, kernel can be considered as one of the hyperparameters.]**\n",
    "> 'C' hyperparameter was optimised with deafult kernel 'rbf' and\n",
    ">'C' parameter with different kernel such as rbf, linear, etc.\n",
    "\n",
    "\n",
    "- **what set or range of values were used for each hyperparameter?**\n",
    "> For hyperparameter 'C', I used the values of [5,10,15,20,25,30,35].\n",
    "> For hyperparameter 'Kernel', I used the values of ['Polynomial', 'RBF', 'Sigmoid', 'Linear'].\n",
    "\n",
    "\n",
    "- **which metric was used to measure the performance?**\n",
    "> I used recall to measure the performance because\n",
    ">it is important to make sure all the patients with disease are identified regardless of\n",
    ">raising a false alarm. This metrics helps to make sure that the actual positive cases are detected, in other word, the actual positive cases should\n",
    ">not go undetected.\n",
    "\n",
    "\n",
    "- **justify your design decisions.**\n",
    "> Penalty parameter C is the error term. It also controls the trade-off between smooth decision boundaries and classifying the training points correctly so\n",
    ">it is important to find the optimal value. Similarly, Kernel parameters also have a significant effect on the decision boundary so it is\n",
    ">important to find the right kernel.\n"
   ]
  },
  {
   "cell_type": "markdown",
   "metadata": {},
   "source": [
    "**C. Plot the prediction performance against hyperparameter values to visualise the optimisation\n",
    "process and mark the optimal value.**"
   ]
  },
  {
   "cell_type": "code",
   "execution_count": 40,
   "metadata": {
    "pycharm": {
     "name": "#%%\n"
    }
   },
   "outputs": [
    {
     "data": {
      "text/plain": "    mean_fit_time  std_fit_time  mean_score_time  std_score_time param_svm__C  \\\n0        0.032396      0.017207         0.016401        0.006999            5   \n1        0.033268      0.012254         0.015097        0.004147           10   \n2        0.035529      0.010812         0.017500        0.003727           15   \n3        0.021053      0.003256         0.014052        0.001178           20   \n4        0.030072      0.012410         0.019295        0.004592           25   \n5        0.019815      0.002207         0.013468        0.001035           30   \n6        0.020172      0.001962         0.013939        0.001892           35   \n7        0.017754      0.001830         0.000000        0.000000            5   \n8        0.016623      0.000386         0.000000        0.000000            5   \n9        0.016737      0.000271         0.000000        0.000000            5   \n10       0.016942      0.000383         0.000000        0.000000            5   \n11       0.018779      0.004233         0.000000        0.000000           10   \n12       0.016652      0.000335         0.000000        0.000000           10   \n13       0.016613      0.000227         0.000000        0.000000           10   \n14       0.017326      0.000603         0.000000        0.000000           10   \n15       0.017806      0.001871         0.000000        0.000000           15   \n16       0.017759      0.001462         0.000000        0.000000           15   \n17       0.016399      0.000286         0.000000        0.000000           15   \n18       0.016444      0.000629         0.000000        0.000000           15   \n19       0.018224      0.000784         0.000000        0.000000           30   \n20       0.025756      0.016685         0.000000        0.000000           30   \n21       0.018051      0.000822         0.000000        0.000000           30   \n22       0.018177      0.001322         0.000000        0.000000           30   \n23       0.021131      0.005375         0.000000        0.000000           50   \n24       0.024638      0.006591         0.000000        0.000000           50   \n25       0.034600      0.013471         0.000000        0.000000           50   \n26       0.021188      0.003391         0.000000        0.000000           50   \n27       0.018858      0.000590         0.000000        0.000000           60   \n28       0.026225      0.007676         0.000000        0.000000           60   \n29       0.021632      0.002671         0.000000        0.000000           60   \n30       0.021359      0.000910         0.000000        0.000000           60   \n31       0.022772      0.004620         0.000000        0.000000           70   \n32       0.024132      0.008413         0.000000        0.000000           70   \n33       0.019305      0.003278         0.000000        0.000000           70   \n34       0.022133      0.004532         0.000000        0.000000           70   \n35       0.025918      0.011585         0.000000        0.000000          100   \n36       0.018580      0.000710         0.000000        0.000000          100   \n37       0.024256      0.009027         0.000000        0.000000          100   \n38       0.019701      0.002258         0.000000        0.000000          100   \n\n   param_svm__kernel                                        params  \\\n0                NaN                                 {'svm__C': 5}   \n1                NaN                                {'svm__C': 10}   \n2                NaN                                {'svm__C': 15}   \n3                NaN                                {'svm__C': 20}   \n4                NaN                                {'svm__C': 25}   \n5                NaN                                {'svm__C': 30}   \n6                NaN                                {'svm__C': 35}   \n7         Polynomial    {'svm__C': 5, 'svm__kernel': 'Polynomial'}   \n8                RBF           {'svm__C': 5, 'svm__kernel': 'RBF'}   \n9            Sigmoid       {'svm__C': 5, 'svm__kernel': 'Sigmoid'}   \n10            Linear        {'svm__C': 5, 'svm__kernel': 'Linear'}   \n11        Polynomial   {'svm__C': 10, 'svm__kernel': 'Polynomial'}   \n12               RBF          {'svm__C': 10, 'svm__kernel': 'RBF'}   \n13           Sigmoid      {'svm__C': 10, 'svm__kernel': 'Sigmoid'}   \n14            Linear       {'svm__C': 10, 'svm__kernel': 'Linear'}   \n15        Polynomial   {'svm__C': 15, 'svm__kernel': 'Polynomial'}   \n16               RBF          {'svm__C': 15, 'svm__kernel': 'RBF'}   \n17           Sigmoid      {'svm__C': 15, 'svm__kernel': 'Sigmoid'}   \n18            Linear       {'svm__C': 15, 'svm__kernel': 'Linear'}   \n19        Polynomial   {'svm__C': 30, 'svm__kernel': 'Polynomial'}   \n20               RBF          {'svm__C': 30, 'svm__kernel': 'RBF'}   \n21           Sigmoid      {'svm__C': 30, 'svm__kernel': 'Sigmoid'}   \n22            Linear       {'svm__C': 30, 'svm__kernel': 'Linear'}   \n23        Polynomial   {'svm__C': 50, 'svm__kernel': 'Polynomial'}   \n24               RBF          {'svm__C': 50, 'svm__kernel': 'RBF'}   \n25           Sigmoid      {'svm__C': 50, 'svm__kernel': 'Sigmoid'}   \n26            Linear       {'svm__C': 50, 'svm__kernel': 'Linear'}   \n27        Polynomial   {'svm__C': 60, 'svm__kernel': 'Polynomial'}   \n28               RBF          {'svm__C': 60, 'svm__kernel': 'RBF'}   \n29           Sigmoid      {'svm__C': 60, 'svm__kernel': 'Sigmoid'}   \n30            Linear       {'svm__C': 60, 'svm__kernel': 'Linear'}   \n31        Polynomial   {'svm__C': 70, 'svm__kernel': 'Polynomial'}   \n32               RBF          {'svm__C': 70, 'svm__kernel': 'RBF'}   \n33           Sigmoid      {'svm__C': 70, 'svm__kernel': 'Sigmoid'}   \n34            Linear       {'svm__C': 70, 'svm__kernel': 'Linear'}   \n35        Polynomial  {'svm__C': 100, 'svm__kernel': 'Polynomial'}   \n36               RBF         {'svm__C': 100, 'svm__kernel': 'RBF'}   \n37           Sigmoid     {'svm__C': 100, 'svm__kernel': 'Sigmoid'}   \n38            Linear      {'svm__C': 100, 'svm__kernel': 'Linear'}   \n\n    split0_test_score  split1_test_score  split2_test_score  \\\n0            0.958333           0.958333           0.875000   \n1            0.958333           1.000000           0.916667   \n2            0.958333           0.958333           0.916667   \n3            0.958333           0.958333           0.958333   \n4            0.958333           0.958333           0.958333   \n5            0.958333           0.958333           0.958333   \n6            0.958333           0.958333           0.958333   \n7                 NaN                NaN                NaN   \n8                 NaN                NaN                NaN   \n9                 NaN                NaN                NaN   \n10                NaN                NaN                NaN   \n11                NaN                NaN                NaN   \n12                NaN                NaN                NaN   \n13                NaN                NaN                NaN   \n14                NaN                NaN                NaN   \n15                NaN                NaN                NaN   \n16                NaN                NaN                NaN   \n17                NaN                NaN                NaN   \n18                NaN                NaN                NaN   \n19                NaN                NaN                NaN   \n20                NaN                NaN                NaN   \n21                NaN                NaN                NaN   \n22                NaN                NaN                NaN   \n23                NaN                NaN                NaN   \n24                NaN                NaN                NaN   \n25                NaN                NaN                NaN   \n26                NaN                NaN                NaN   \n27                NaN                NaN                NaN   \n28                NaN                NaN                NaN   \n29                NaN                NaN                NaN   \n30                NaN                NaN                NaN   \n31                NaN                NaN                NaN   \n32                NaN                NaN                NaN   \n33                NaN                NaN                NaN   \n34                NaN                NaN                NaN   \n35                NaN                NaN                NaN   \n36                NaN                NaN                NaN   \n37                NaN                NaN                NaN   \n38                NaN                NaN                NaN   \n\n    split3_test_score  split4_test_score  mean_test_score  std_test_score  \\\n0                 1.0                1.0         0.958333        0.045644   \n1                 1.0                1.0         0.975000        0.033333   \n2                 1.0                1.0         0.966667        0.031180   \n3                 1.0                1.0         0.975000        0.020412   \n4                 1.0                1.0         0.975000        0.020412   \n5                 1.0                1.0         0.975000        0.020412   \n6                 1.0                1.0         0.975000        0.020412   \n7                 NaN                NaN              NaN             NaN   \n8                 NaN                NaN              NaN             NaN   \n9                 NaN                NaN              NaN             NaN   \n10                NaN                NaN              NaN             NaN   \n11                NaN                NaN              NaN             NaN   \n12                NaN                NaN              NaN             NaN   \n13                NaN                NaN              NaN             NaN   \n14                NaN                NaN              NaN             NaN   \n15                NaN                NaN              NaN             NaN   \n16                NaN                NaN              NaN             NaN   \n17                NaN                NaN              NaN             NaN   \n18                NaN                NaN              NaN             NaN   \n19                NaN                NaN              NaN             NaN   \n20                NaN                NaN              NaN             NaN   \n21                NaN                NaN              NaN             NaN   \n22                NaN                NaN              NaN             NaN   \n23                NaN                NaN              NaN             NaN   \n24                NaN                NaN              NaN             NaN   \n25                NaN                NaN              NaN             NaN   \n26                NaN                NaN              NaN             NaN   \n27                NaN                NaN              NaN             NaN   \n28                NaN                NaN              NaN             NaN   \n29                NaN                NaN              NaN             NaN   \n30                NaN                NaN              NaN             NaN   \n31                NaN                NaN              NaN             NaN   \n32                NaN                NaN              NaN             NaN   \n33                NaN                NaN              NaN             NaN   \n34                NaN                NaN              NaN             NaN   \n35                NaN                NaN              NaN             NaN   \n36                NaN                NaN              NaN             NaN   \n37                NaN                NaN              NaN             NaN   \n38                NaN                NaN              NaN             NaN   \n\n    rank_test_score  \n0                 7  \n1                 1  \n2                 6  \n3                 1  \n4                 1  \n5                 1  \n6                 1  \n7                37  \n8                36  \n9                35  \n10               34  \n11               33  \n12               32  \n13               31  \n14               30  \n15               29  \n16               28  \n17               27  \n18               26  \n19               23  \n20               24  \n21               38  \n22               22  \n23               17  \n24                8  \n25                9  \n26               10  \n27               11  \n28               12  \n29               13  \n30               21  \n31               15  \n32               16  \n33               14  \n34               18  \n35               19  \n36               20  \n37               25  \n38               39  ",
      "text/html": "<div>\n<style scoped>\n    .dataframe tbody tr th:only-of-type {\n        vertical-align: middle;\n    }\n\n    .dataframe tbody tr th {\n        vertical-align: top;\n    }\n\n    .dataframe thead th {\n        text-align: right;\n    }\n</style>\n<table border=\"1\" class=\"dataframe\">\n  <thead>\n    <tr style=\"text-align: right;\">\n      <th></th>\n      <th>mean_fit_time</th>\n      <th>std_fit_time</th>\n      <th>mean_score_time</th>\n      <th>std_score_time</th>\n      <th>param_svm__C</th>\n      <th>param_svm__kernel</th>\n      <th>params</th>\n      <th>split0_test_score</th>\n      <th>split1_test_score</th>\n      <th>split2_test_score</th>\n      <th>split3_test_score</th>\n      <th>split4_test_score</th>\n      <th>mean_test_score</th>\n      <th>std_test_score</th>\n      <th>rank_test_score</th>\n    </tr>\n  </thead>\n  <tbody>\n    <tr>\n      <th>0</th>\n      <td>0.032396</td>\n      <td>0.017207</td>\n      <td>0.016401</td>\n      <td>0.006999</td>\n      <td>5</td>\n      <td>NaN</td>\n      <td>{'svm__C': 5}</td>\n      <td>0.958333</td>\n      <td>0.958333</td>\n      <td>0.875000</td>\n      <td>1.0</td>\n      <td>1.0</td>\n      <td>0.958333</td>\n      <td>0.045644</td>\n      <td>7</td>\n    </tr>\n    <tr>\n      <th>1</th>\n      <td>0.033268</td>\n      <td>0.012254</td>\n      <td>0.015097</td>\n      <td>0.004147</td>\n      <td>10</td>\n      <td>NaN</td>\n      <td>{'svm__C': 10}</td>\n      <td>0.958333</td>\n      <td>1.000000</td>\n      <td>0.916667</td>\n      <td>1.0</td>\n      <td>1.0</td>\n      <td>0.975000</td>\n      <td>0.033333</td>\n      <td>1</td>\n    </tr>\n    <tr>\n      <th>2</th>\n      <td>0.035529</td>\n      <td>0.010812</td>\n      <td>0.017500</td>\n      <td>0.003727</td>\n      <td>15</td>\n      <td>NaN</td>\n      <td>{'svm__C': 15}</td>\n      <td>0.958333</td>\n      <td>0.958333</td>\n      <td>0.916667</td>\n      <td>1.0</td>\n      <td>1.0</td>\n      <td>0.966667</td>\n      <td>0.031180</td>\n      <td>6</td>\n    </tr>\n    <tr>\n      <th>3</th>\n      <td>0.021053</td>\n      <td>0.003256</td>\n      <td>0.014052</td>\n      <td>0.001178</td>\n      <td>20</td>\n      <td>NaN</td>\n      <td>{'svm__C': 20}</td>\n      <td>0.958333</td>\n      <td>0.958333</td>\n      <td>0.958333</td>\n      <td>1.0</td>\n      <td>1.0</td>\n      <td>0.975000</td>\n      <td>0.020412</td>\n      <td>1</td>\n    </tr>\n    <tr>\n      <th>4</th>\n      <td>0.030072</td>\n      <td>0.012410</td>\n      <td>0.019295</td>\n      <td>0.004592</td>\n      <td>25</td>\n      <td>NaN</td>\n      <td>{'svm__C': 25}</td>\n      <td>0.958333</td>\n      <td>0.958333</td>\n      <td>0.958333</td>\n      <td>1.0</td>\n      <td>1.0</td>\n      <td>0.975000</td>\n      <td>0.020412</td>\n      <td>1</td>\n    </tr>\n    <tr>\n      <th>5</th>\n      <td>0.019815</td>\n      <td>0.002207</td>\n      <td>0.013468</td>\n      <td>0.001035</td>\n      <td>30</td>\n      <td>NaN</td>\n      <td>{'svm__C': 30}</td>\n      <td>0.958333</td>\n      <td>0.958333</td>\n      <td>0.958333</td>\n      <td>1.0</td>\n      <td>1.0</td>\n      <td>0.975000</td>\n      <td>0.020412</td>\n      <td>1</td>\n    </tr>\n    <tr>\n      <th>6</th>\n      <td>0.020172</td>\n      <td>0.001962</td>\n      <td>0.013939</td>\n      <td>0.001892</td>\n      <td>35</td>\n      <td>NaN</td>\n      <td>{'svm__C': 35}</td>\n      <td>0.958333</td>\n      <td>0.958333</td>\n      <td>0.958333</td>\n      <td>1.0</td>\n      <td>1.0</td>\n      <td>0.975000</td>\n      <td>0.020412</td>\n      <td>1</td>\n    </tr>\n    <tr>\n      <th>7</th>\n      <td>0.017754</td>\n      <td>0.001830</td>\n      <td>0.000000</td>\n      <td>0.000000</td>\n      <td>5</td>\n      <td>Polynomial</td>\n      <td>{'svm__C': 5, 'svm__kernel': 'Polynomial'}</td>\n      <td>NaN</td>\n      <td>NaN</td>\n      <td>NaN</td>\n      <td>NaN</td>\n      <td>NaN</td>\n      <td>NaN</td>\n      <td>NaN</td>\n      <td>37</td>\n    </tr>\n    <tr>\n      <th>8</th>\n      <td>0.016623</td>\n      <td>0.000386</td>\n      <td>0.000000</td>\n      <td>0.000000</td>\n      <td>5</td>\n      <td>RBF</td>\n      <td>{'svm__C': 5, 'svm__kernel': 'RBF'}</td>\n      <td>NaN</td>\n      <td>NaN</td>\n      <td>NaN</td>\n      <td>NaN</td>\n      <td>NaN</td>\n      <td>NaN</td>\n      <td>NaN</td>\n      <td>36</td>\n    </tr>\n    <tr>\n      <th>9</th>\n      <td>0.016737</td>\n      <td>0.000271</td>\n      <td>0.000000</td>\n      <td>0.000000</td>\n      <td>5</td>\n      <td>Sigmoid</td>\n      <td>{'svm__C': 5, 'svm__kernel': 'Sigmoid'}</td>\n      <td>NaN</td>\n      <td>NaN</td>\n      <td>NaN</td>\n      <td>NaN</td>\n      <td>NaN</td>\n      <td>NaN</td>\n      <td>NaN</td>\n      <td>35</td>\n    </tr>\n    <tr>\n      <th>10</th>\n      <td>0.016942</td>\n      <td>0.000383</td>\n      <td>0.000000</td>\n      <td>0.000000</td>\n      <td>5</td>\n      <td>Linear</td>\n      <td>{'svm__C': 5, 'svm__kernel': 'Linear'}</td>\n      <td>NaN</td>\n      <td>NaN</td>\n      <td>NaN</td>\n      <td>NaN</td>\n      <td>NaN</td>\n      <td>NaN</td>\n      <td>NaN</td>\n      <td>34</td>\n    </tr>\n    <tr>\n      <th>11</th>\n      <td>0.018779</td>\n      <td>0.004233</td>\n      <td>0.000000</td>\n      <td>0.000000</td>\n      <td>10</td>\n      <td>Polynomial</td>\n      <td>{'svm__C': 10, 'svm__kernel': 'Polynomial'}</td>\n      <td>NaN</td>\n      <td>NaN</td>\n      <td>NaN</td>\n      <td>NaN</td>\n      <td>NaN</td>\n      <td>NaN</td>\n      <td>NaN</td>\n      <td>33</td>\n    </tr>\n    <tr>\n      <th>12</th>\n      <td>0.016652</td>\n      <td>0.000335</td>\n      <td>0.000000</td>\n      <td>0.000000</td>\n      <td>10</td>\n      <td>RBF</td>\n      <td>{'svm__C': 10, 'svm__kernel': 'RBF'}</td>\n      <td>NaN</td>\n      <td>NaN</td>\n      <td>NaN</td>\n      <td>NaN</td>\n      <td>NaN</td>\n      <td>NaN</td>\n      <td>NaN</td>\n      <td>32</td>\n    </tr>\n    <tr>\n      <th>13</th>\n      <td>0.016613</td>\n      <td>0.000227</td>\n      <td>0.000000</td>\n      <td>0.000000</td>\n      <td>10</td>\n      <td>Sigmoid</td>\n      <td>{'svm__C': 10, 'svm__kernel': 'Sigmoid'}</td>\n      <td>NaN</td>\n      <td>NaN</td>\n      <td>NaN</td>\n      <td>NaN</td>\n      <td>NaN</td>\n      <td>NaN</td>\n      <td>NaN</td>\n      <td>31</td>\n    </tr>\n    <tr>\n      <th>14</th>\n      <td>0.017326</td>\n      <td>0.000603</td>\n      <td>0.000000</td>\n      <td>0.000000</td>\n      <td>10</td>\n      <td>Linear</td>\n      <td>{'svm__C': 10, 'svm__kernel': 'Linear'}</td>\n      <td>NaN</td>\n      <td>NaN</td>\n      <td>NaN</td>\n      <td>NaN</td>\n      <td>NaN</td>\n      <td>NaN</td>\n      <td>NaN</td>\n      <td>30</td>\n    </tr>\n    <tr>\n      <th>15</th>\n      <td>0.017806</td>\n      <td>0.001871</td>\n      <td>0.000000</td>\n      <td>0.000000</td>\n      <td>15</td>\n      <td>Polynomial</td>\n      <td>{'svm__C': 15, 'svm__kernel': 'Polynomial'}</td>\n      <td>NaN</td>\n      <td>NaN</td>\n      <td>NaN</td>\n      <td>NaN</td>\n      <td>NaN</td>\n      <td>NaN</td>\n      <td>NaN</td>\n      <td>29</td>\n    </tr>\n    <tr>\n      <th>16</th>\n      <td>0.017759</td>\n      <td>0.001462</td>\n      <td>0.000000</td>\n      <td>0.000000</td>\n      <td>15</td>\n      <td>RBF</td>\n      <td>{'svm__C': 15, 'svm__kernel': 'RBF'}</td>\n      <td>NaN</td>\n      <td>NaN</td>\n      <td>NaN</td>\n      <td>NaN</td>\n      <td>NaN</td>\n      <td>NaN</td>\n      <td>NaN</td>\n      <td>28</td>\n    </tr>\n    <tr>\n      <th>17</th>\n      <td>0.016399</td>\n      <td>0.000286</td>\n      <td>0.000000</td>\n      <td>0.000000</td>\n      <td>15</td>\n      <td>Sigmoid</td>\n      <td>{'svm__C': 15, 'svm__kernel': 'Sigmoid'}</td>\n      <td>NaN</td>\n      <td>NaN</td>\n      <td>NaN</td>\n      <td>NaN</td>\n      <td>NaN</td>\n      <td>NaN</td>\n      <td>NaN</td>\n      <td>27</td>\n    </tr>\n    <tr>\n      <th>18</th>\n      <td>0.016444</td>\n      <td>0.000629</td>\n      <td>0.000000</td>\n      <td>0.000000</td>\n      <td>15</td>\n      <td>Linear</td>\n      <td>{'svm__C': 15, 'svm__kernel': 'Linear'}</td>\n      <td>NaN</td>\n      <td>NaN</td>\n      <td>NaN</td>\n      <td>NaN</td>\n      <td>NaN</td>\n      <td>NaN</td>\n      <td>NaN</td>\n      <td>26</td>\n    </tr>\n    <tr>\n      <th>19</th>\n      <td>0.018224</td>\n      <td>0.000784</td>\n      <td>0.000000</td>\n      <td>0.000000</td>\n      <td>30</td>\n      <td>Polynomial</td>\n      <td>{'svm__C': 30, 'svm__kernel': 'Polynomial'}</td>\n      <td>NaN</td>\n      <td>NaN</td>\n      <td>NaN</td>\n      <td>NaN</td>\n      <td>NaN</td>\n      <td>NaN</td>\n      <td>NaN</td>\n      <td>23</td>\n    </tr>\n    <tr>\n      <th>20</th>\n      <td>0.025756</td>\n      <td>0.016685</td>\n      <td>0.000000</td>\n      <td>0.000000</td>\n      <td>30</td>\n      <td>RBF</td>\n      <td>{'svm__C': 30, 'svm__kernel': 'RBF'}</td>\n      <td>NaN</td>\n      <td>NaN</td>\n      <td>NaN</td>\n      <td>NaN</td>\n      <td>NaN</td>\n      <td>NaN</td>\n      <td>NaN</td>\n      <td>24</td>\n    </tr>\n    <tr>\n      <th>21</th>\n      <td>0.018051</td>\n      <td>0.000822</td>\n      <td>0.000000</td>\n      <td>0.000000</td>\n      <td>30</td>\n      <td>Sigmoid</td>\n      <td>{'svm__C': 30, 'svm__kernel': 'Sigmoid'}</td>\n      <td>NaN</td>\n      <td>NaN</td>\n      <td>NaN</td>\n      <td>NaN</td>\n      <td>NaN</td>\n      <td>NaN</td>\n      <td>NaN</td>\n      <td>38</td>\n    </tr>\n    <tr>\n      <th>22</th>\n      <td>0.018177</td>\n      <td>0.001322</td>\n      <td>0.000000</td>\n      <td>0.000000</td>\n      <td>30</td>\n      <td>Linear</td>\n      <td>{'svm__C': 30, 'svm__kernel': 'Linear'}</td>\n      <td>NaN</td>\n      <td>NaN</td>\n      <td>NaN</td>\n      <td>NaN</td>\n      <td>NaN</td>\n      <td>NaN</td>\n      <td>NaN</td>\n      <td>22</td>\n    </tr>\n    <tr>\n      <th>23</th>\n      <td>0.021131</td>\n      <td>0.005375</td>\n      <td>0.000000</td>\n      <td>0.000000</td>\n      <td>50</td>\n      <td>Polynomial</td>\n      <td>{'svm__C': 50, 'svm__kernel': 'Polynomial'}</td>\n      <td>NaN</td>\n      <td>NaN</td>\n      <td>NaN</td>\n      <td>NaN</td>\n      <td>NaN</td>\n      <td>NaN</td>\n      <td>NaN</td>\n      <td>17</td>\n    </tr>\n    <tr>\n      <th>24</th>\n      <td>0.024638</td>\n      <td>0.006591</td>\n      <td>0.000000</td>\n      <td>0.000000</td>\n      <td>50</td>\n      <td>RBF</td>\n      <td>{'svm__C': 50, 'svm__kernel': 'RBF'}</td>\n      <td>NaN</td>\n      <td>NaN</td>\n      <td>NaN</td>\n      <td>NaN</td>\n      <td>NaN</td>\n      <td>NaN</td>\n      <td>NaN</td>\n      <td>8</td>\n    </tr>\n    <tr>\n      <th>25</th>\n      <td>0.034600</td>\n      <td>0.013471</td>\n      <td>0.000000</td>\n      <td>0.000000</td>\n      <td>50</td>\n      <td>Sigmoid</td>\n      <td>{'svm__C': 50, 'svm__kernel': 'Sigmoid'}</td>\n      <td>NaN</td>\n      <td>NaN</td>\n      <td>NaN</td>\n      <td>NaN</td>\n      <td>NaN</td>\n      <td>NaN</td>\n      <td>NaN</td>\n      <td>9</td>\n    </tr>\n    <tr>\n      <th>26</th>\n      <td>0.021188</td>\n      <td>0.003391</td>\n      <td>0.000000</td>\n      <td>0.000000</td>\n      <td>50</td>\n      <td>Linear</td>\n      <td>{'svm__C': 50, 'svm__kernel': 'Linear'}</td>\n      <td>NaN</td>\n      <td>NaN</td>\n      <td>NaN</td>\n      <td>NaN</td>\n      <td>NaN</td>\n      <td>NaN</td>\n      <td>NaN</td>\n      <td>10</td>\n    </tr>\n    <tr>\n      <th>27</th>\n      <td>0.018858</td>\n      <td>0.000590</td>\n      <td>0.000000</td>\n      <td>0.000000</td>\n      <td>60</td>\n      <td>Polynomial</td>\n      <td>{'svm__C': 60, 'svm__kernel': 'Polynomial'}</td>\n      <td>NaN</td>\n      <td>NaN</td>\n      <td>NaN</td>\n      <td>NaN</td>\n      <td>NaN</td>\n      <td>NaN</td>\n      <td>NaN</td>\n      <td>11</td>\n    </tr>\n    <tr>\n      <th>28</th>\n      <td>0.026225</td>\n      <td>0.007676</td>\n      <td>0.000000</td>\n      <td>0.000000</td>\n      <td>60</td>\n      <td>RBF</td>\n      <td>{'svm__C': 60, 'svm__kernel': 'RBF'}</td>\n      <td>NaN</td>\n      <td>NaN</td>\n      <td>NaN</td>\n      <td>NaN</td>\n      <td>NaN</td>\n      <td>NaN</td>\n      <td>NaN</td>\n      <td>12</td>\n    </tr>\n    <tr>\n      <th>29</th>\n      <td>0.021632</td>\n      <td>0.002671</td>\n      <td>0.000000</td>\n      <td>0.000000</td>\n      <td>60</td>\n      <td>Sigmoid</td>\n      <td>{'svm__C': 60, 'svm__kernel': 'Sigmoid'}</td>\n      <td>NaN</td>\n      <td>NaN</td>\n      <td>NaN</td>\n      <td>NaN</td>\n      <td>NaN</td>\n      <td>NaN</td>\n      <td>NaN</td>\n      <td>13</td>\n    </tr>\n    <tr>\n      <th>30</th>\n      <td>0.021359</td>\n      <td>0.000910</td>\n      <td>0.000000</td>\n      <td>0.000000</td>\n      <td>60</td>\n      <td>Linear</td>\n      <td>{'svm__C': 60, 'svm__kernel': 'Linear'}</td>\n      <td>NaN</td>\n      <td>NaN</td>\n      <td>NaN</td>\n      <td>NaN</td>\n      <td>NaN</td>\n      <td>NaN</td>\n      <td>NaN</td>\n      <td>21</td>\n    </tr>\n    <tr>\n      <th>31</th>\n      <td>0.022772</td>\n      <td>0.004620</td>\n      <td>0.000000</td>\n      <td>0.000000</td>\n      <td>70</td>\n      <td>Polynomial</td>\n      <td>{'svm__C': 70, 'svm__kernel': 'Polynomial'}</td>\n      <td>NaN</td>\n      <td>NaN</td>\n      <td>NaN</td>\n      <td>NaN</td>\n      <td>NaN</td>\n      <td>NaN</td>\n      <td>NaN</td>\n      <td>15</td>\n    </tr>\n    <tr>\n      <th>32</th>\n      <td>0.024132</td>\n      <td>0.008413</td>\n      <td>0.000000</td>\n      <td>0.000000</td>\n      <td>70</td>\n      <td>RBF</td>\n      <td>{'svm__C': 70, 'svm__kernel': 'RBF'}</td>\n      <td>NaN</td>\n      <td>NaN</td>\n      <td>NaN</td>\n      <td>NaN</td>\n      <td>NaN</td>\n      <td>NaN</td>\n      <td>NaN</td>\n      <td>16</td>\n    </tr>\n    <tr>\n      <th>33</th>\n      <td>0.019305</td>\n      <td>0.003278</td>\n      <td>0.000000</td>\n      <td>0.000000</td>\n      <td>70</td>\n      <td>Sigmoid</td>\n      <td>{'svm__C': 70, 'svm__kernel': 'Sigmoid'}</td>\n      <td>NaN</td>\n      <td>NaN</td>\n      <td>NaN</td>\n      <td>NaN</td>\n      <td>NaN</td>\n      <td>NaN</td>\n      <td>NaN</td>\n      <td>14</td>\n    </tr>\n    <tr>\n      <th>34</th>\n      <td>0.022133</td>\n      <td>0.004532</td>\n      <td>0.000000</td>\n      <td>0.000000</td>\n      <td>70</td>\n      <td>Linear</td>\n      <td>{'svm__C': 70, 'svm__kernel': 'Linear'}</td>\n      <td>NaN</td>\n      <td>NaN</td>\n      <td>NaN</td>\n      <td>NaN</td>\n      <td>NaN</td>\n      <td>NaN</td>\n      <td>NaN</td>\n      <td>18</td>\n    </tr>\n    <tr>\n      <th>35</th>\n      <td>0.025918</td>\n      <td>0.011585</td>\n      <td>0.000000</td>\n      <td>0.000000</td>\n      <td>100</td>\n      <td>Polynomial</td>\n      <td>{'svm__C': 100, 'svm__kernel': 'Polynomial'}</td>\n      <td>NaN</td>\n      <td>NaN</td>\n      <td>NaN</td>\n      <td>NaN</td>\n      <td>NaN</td>\n      <td>NaN</td>\n      <td>NaN</td>\n      <td>19</td>\n    </tr>\n    <tr>\n      <th>36</th>\n      <td>0.018580</td>\n      <td>0.000710</td>\n      <td>0.000000</td>\n      <td>0.000000</td>\n      <td>100</td>\n      <td>RBF</td>\n      <td>{'svm__C': 100, 'svm__kernel': 'RBF'}</td>\n      <td>NaN</td>\n      <td>NaN</td>\n      <td>NaN</td>\n      <td>NaN</td>\n      <td>NaN</td>\n      <td>NaN</td>\n      <td>NaN</td>\n      <td>20</td>\n    </tr>\n    <tr>\n      <th>37</th>\n      <td>0.024256</td>\n      <td>0.009027</td>\n      <td>0.000000</td>\n      <td>0.000000</td>\n      <td>100</td>\n      <td>Sigmoid</td>\n      <td>{'svm__C': 100, 'svm__kernel': 'Sigmoid'}</td>\n      <td>NaN</td>\n      <td>NaN</td>\n      <td>NaN</td>\n      <td>NaN</td>\n      <td>NaN</td>\n      <td>NaN</td>\n      <td>NaN</td>\n      <td>25</td>\n    </tr>\n    <tr>\n      <th>38</th>\n      <td>0.019701</td>\n      <td>0.002258</td>\n      <td>0.000000</td>\n      <td>0.000000</td>\n      <td>100</td>\n      <td>Linear</td>\n      <td>{'svm__C': 100, 'svm__kernel': 'Linear'}</td>\n      <td>NaN</td>\n      <td>NaN</td>\n      <td>NaN</td>\n      <td>NaN</td>\n      <td>NaN</td>\n      <td>NaN</td>\n      <td>NaN</td>\n      <td>39</td>\n    </tr>\n  </tbody>\n</table>\n</div>"
     },
     "execution_count": 40,
     "metadata": {},
     "output_type": "execute_result"
    }
   ],
   "source": [
    "# put cv_results into dataframe\n",
    "cv_df = pd.DataFrame(cv_results)\n",
    "cv_df"
   ]
  },
  {
   "cell_type": "markdown",
   "metadata": {
    "pycharm": {
     "name": "#%% md\n"
    }
   },
   "source": [
    "**Visualise the Optimization process**\n",
    "\n",
    "I ran two sets of hyperparmeter tuning and first set has the optimal value so I will be only plotting first set of hyperparemeter\n",
    "which is hyperparameter 'C', other parameters are defalut such as 'Kernel' is 'rbf'."
   ]
  },
  {
   "cell_type": "code",
   "execution_count": 41,
   "metadata": {
    "pycharm": {
     "name": "#%%\n"
    }
   },
   "outputs": [
    {
     "data": {
      "text/plain": "<Figure size 1080x720 with 1 Axes>",
      "image/png": "[encoded data removed]"
     },
     "metadata": {
      "needs_background": "light"
     },
     "output_type": "display_data"
    }
   ],
   "source": [
    "# select columns to plot\n",
    "X = cv_df[['param_svm__C', 'mean_test_score']]\n",
    "\n",
    "# plot graph\n",
    "plt.figure(figsize=(15,10))\n",
    "plt.title('Prediction performance against hyperparameter values', fontdict={'fontsize':18, 'fontweight':'bold'})\n",
    "plt.plot(X.iloc[:, 0], X.iloc[:, 1], linestyle='--', marker='*', markersize=12, color='green')\n",
    "plt.axhline(np.max(X.iloc[:, 1]), linestyle=':', color='red')\n",
    "plt.xlabel('Parameter C', fontdict={'fontsize':15, 'fontweight':'bold'})\n",
    "plt.ylabel('Mean Test Score', fontdict={'fontsize':15, 'fontweight':'bold'})\n",
    "plt.show()"
   ]
  },
  {
   "cell_type": "markdown",
   "metadata": {
    "pycharm": {
     "name": "#%% md\n"
    }
   },
   "source": [
    "**NOTE: Horizontal lines represent the best/optimal values of parameter C. The *First* point of\n",
    "touch in the horizontal line is optimal value (C=10), however other points on that line can also be considered optimal values.**"
   ]
  },
  {
   "cell_type": "markdown",
   "metadata": {},
   "source": [
    "**D. Evaluate the model (obtained from A) performance on the test set. Report the confusion\n",
    "matrix, F1-score and accuracy.**"
   ]
  },
  {
   "cell_type": "code",
   "execution_count": 42,
   "metadata": {
    "pycharm": {
     "name": "#%%\n"
    }
   },
   "outputs": [
    {
     "name": "stdout",
     "output_type": "stream",
     "text": [
      "The SVM accuracy is 97.50%\n",
      "The SVM F1 Score is 96.55%\n",
      "Classification Report:\n",
      "              precision    recall  f1-score   support\n",
      "\n",
      "         ckd       0.96      1.00      0.98        50\n",
      "      notckd       1.00      0.93      0.97        30\n",
      "\n",
      "    accuracy                           0.97        80\n",
      "   macro avg       0.98      0.97      0.97        80\n",
      "weighted avg       0.98      0.97      0.97        80\n",
      "\n"
     ]
    },
    {
     "data": {
      "text/plain": "<Figure size 432x288 with 2 Axes>",
      "image/png": "[encoded data removed]"
     },
     "metadata": {
      "needs_background": "light"
     },
     "output_type": "display_data"
    }
   ],
   "source": [
    "# predict\n",
    "y_pred = svm_opt_pipeline.predict(x_test)\n",
    "\n",
    "# accuracy score\n",
    "acc = f'{accuracy_score(y_test, y_pred)*100:.2f}%'\n",
    "print(f'The SVM accuracy is {acc}')\n",
    "\n",
    "# store for plotting\n",
    "model_performance.append(('SVM', f1_score(y_test, y_pred)))\n",
    "\n",
    "# F1 score\n",
    "print(f'The SVM F1 Score is {f1_score(y_test, y_pred)*100:.2f}%')\n",
    "\n",
    "# confusion matrix\n",
    "confusion_mtx = confusion_matrix(y_test, y_pred)\n",
    "\n",
    "# display confusion matrix\n",
    "ConfusionMatrixDisplay(confusion_mtx, display_labels=['ckd', 'notckd']).plot()\n",
    "\n",
    "# classification report\n",
    "print(f\"Classification Report:\\n{classification_report(y_test, y_pred, target_names=['ckd', 'notckd'])}\")"
   ]
  },
  {
   "cell_type": "markdown",
   "metadata": {},
   "source": [
    "**K-Nearest Neighbour**"
   ]
  },
  {
   "cell_type": "code",
   "execution_count": 43,
   "metadata": {
    "pycharm": {
     "name": "#%%\n"
    }
   },
   "outputs": [
    {
     "name": "stdout",
     "output_type": "stream",
     "text": [
      "The KNN accuracy is 92.50%\n",
      "The KNN F1 Score is 90.32%\n",
      "Classification Report:\n",
      "              precision    recall  f1-score   support\n",
      "\n",
      "         ckd       0.96      0.92      0.94        50\n",
      "      notckd       0.88      0.93      0.90        30\n",
      "\n",
      "    accuracy                           0.93        80\n",
      "   macro avg       0.92      0.93      0.92        80\n",
      "weighted avg       0.93      0.93      0.93        80\n",
      "\n"
     ]
    },
    {
     "data": {
      "text/plain": "<Figure size 432x288 with 2 Axes>",
      "image/png": "[encoded data removed]"
     },
     "metadata": {
      "needs_background": "light"
     },
     "output_type": "display_data"
    }
   ],
   "source": [
    "# svm clasifier\n",
    "knn_clf = KNeighborsClassifier()\n",
    "\n",
    "# build pipeline\n",
    "knn_pipeline = Pipeline([\n",
    "    ('numerical scaling', num_transform),\n",
    "    ('knn', knn_clf)\n",
    "])\n",
    "\n",
    "# fit\n",
    "knn_pipeline.fit(x_train, y_train)\n",
    "\n",
    "# predict\n",
    "y_pred = knn_pipeline.predict(x_test)\n",
    "\n",
    "# accuracy score\n",
    "print(f'The KNN accuracy is {accuracy_score(y_test, y_pred)*100:.2f}%')\n",
    "\n",
    "# F1 score\n",
    "print(f'The KNN F1 Score is {f1_score(y_test, y_pred)*100:.2f}%')\n",
    "\n",
    "# confusion matrix\n",
    "confusion_mtx = confusion_matrix(y_test, y_pred)\n",
    "\n",
    "# display confusion matrix\n",
    "ConfusionMatrixDisplay(confusion_mtx, display_labels=['ckd', 'notckd']).plot()\n",
    "\n",
    "# classification report\n",
    "print(f\"Classification Report:\\n{classification_report(y_test, y_pred, target_names=['ckd', 'notckd'])}\")"
   ]
  },
  {
   "cell_type": "markdown",
   "metadata": {},
   "source": [
    "**Gridsearch KNN Classifier**"
   ]
  },
  {
   "cell_type": "code",
   "execution_count": 44,
   "metadata": {
    "pycharm": {
     "name": "#%%\n"
    }
   },
   "outputs": [
    {
     "name": "stdout",
     "output_type": "stream",
     "text": [
      "Best parameters: {'knn__n_neighbors': 1}\n",
      "Best score: 0.9666666666666668\n"
     ]
    }
   ],
   "source": [
    "# parameters to Gridsearch\n",
    "knn_params = [\n",
    "    {'knn__n_neighbors':[x for x in range(1,11)]},\n",
    "]\n",
    "\n",
    "# grid search\n",
    "knn_gs = GridSearchCV(knn_pipeline, param_grid=knn_params, scoring='recall', cv=5, n_jobs=-1)\n",
    "\n",
    "# fit\n",
    "knn_gs.fit(x_train, y_train)\n",
    "\n",
    "# best parameters\n",
    "print(f'Best parameters: {knn_gs.best_params_}')\n",
    "\n",
    "# best score\n",
    "print(f'Best score: {knn_gs.best_score_}')\n",
    "\n",
    "# sotre cv results\n",
    "cv_results = knn_gs.cv_results_"
   ]
  },
  {
   "cell_type": "markdown",
   "metadata": {},
   "source": [
    "**A. Build optimised classification model to predict the chronic kidney disease from the dataset.**"
   ]
  },
  {
   "cell_type": "code",
   "execution_count": 45,
   "metadata": {
    "pycharm": {
     "name": "#%%\n"
    }
   },
   "outputs": [
    {
     "data": {
      "text/plain": "Pipeline(steps=[('numerical scaling',\n                 ColumnTransformer(n_jobs=-1, remainder='passthrough',\n                                   transformers=[('scale', StandardScaler(),\n                                                  ['age', 'bp', 'bgr', 'bu',\n                                                   'sc', 'sod', 'pot', 'hemo',\n                                                   'pcv', 'wbcc', 'rbcc'])])),\n                ('knn', KNeighborsClassifier(n_neighbors=1))])"
     },
     "execution_count": 45,
     "metadata": {},
     "output_type": "execute_result"
    }
   ],
   "source": [
    "# optimised KNN clasifier\n",
    "knn_optimised = KNeighborsClassifier(n_neighbors=1)\n",
    "\n",
    "# build pipeline\n",
    "knn_opt_pipeline = Pipeline([\n",
    "    ('numerical scaling', num_transform),\n",
    "    ('knn', knn_optimised)\n",
    "])\n",
    "\n",
    "# train the model\n",
    "knn_opt_pipeline.fit(x_train, y_train)"
   ]
  },
  {
   "cell_type": "markdown",
   "metadata": {},
   "source": [
    "**B. For each optimised model, answer the followings - (3 marks)**\n",
    "- **which hyperparameters were optimised? [Hint: For SVM, kernel can be considered as one of the hyperparameters.]**\n",
    "> 'n_neighbors' (K) hyperparameter was optimised. n_neighbours is the number of neighbors to get.\n",
    "\n",
    "\n",
    "- **what set or range of values were used for each hyperparameter?**\n",
    "> For hyperparameter 'n_neighbors', I used the values between 1 to 10.\n",
    "\n",
    "\n",
    "- **which metric was used to measure the performance?**\n",
    "> I used recall to measure the performance because\n",
    ">it is important to make sure all the patients with disease are identified regardless of\n",
    ">raising a false alarm. This metrics helps to make sure that the actual positive cases are detected, in other word, the actual positive cases should\n",
    ">not go undetected.\n",
    "\n",
    "\n",
    "\n",
    "- **justify your design decisions.**\n",
    "K in KNN or n_neighbors has significant influence in the KNN algorithm. K value is used to make boundary\n",
    "for each class so it is important find out the optimal value of k and its effect on class boundaries.\n"
   ]
  },
  {
   "cell_type": "markdown",
   "metadata": {},
   "source": [
    "**C. Plot the prediction performance against hyperparameter values to visualise the optimisation\n",
    "process and mark the optimal value.**"
   ]
  },
  {
   "cell_type": "code",
   "execution_count": 46,
   "metadata": {
    "pycharm": {
     "name": "#%%\n"
    }
   },
   "outputs": [
    {
     "data": {
      "text/plain": "   mean_fit_time  std_fit_time  mean_score_time  std_score_time  \\\n0       0.029540      0.002432         0.038733        0.003717   \n1       0.035869      0.007891         0.025849        0.005938   \n2       0.023916      0.004065         0.021945        0.002294   \n3       0.035066      0.009083         0.023428        0.000926   \n4       0.042565      0.016129         0.022962        0.003251   \n5       0.039869      0.012170         0.029206        0.009184   \n6       0.027903      0.005774         0.037251        0.013977   \n7       0.035398      0.015303         0.033377        0.010353   \n8       0.029182      0.012481         0.035035        0.022428   \n9       0.048912      0.017428         0.028172        0.004258   \n\n  param_knn__n_neighbors                    params  split0_test_score  \\\n0                      1   {'knn__n_neighbors': 1}           0.958333   \n1                      2   {'knn__n_neighbors': 2}           0.958333   \n2                      3   {'knn__n_neighbors': 3}           0.958333   \n3                      4   {'knn__n_neighbors': 4}           0.958333   \n4                      5   {'knn__n_neighbors': 5}           0.958333   \n5                      6   {'knn__n_neighbors': 6}           0.958333   \n6                      7   {'knn__n_neighbors': 7}           0.958333   \n7                      8   {'knn__n_neighbors': 8}           0.958333   \n8                      9   {'knn__n_neighbors': 9}           0.958333   \n9                     10  {'knn__n_neighbors': 10}           0.958333   \n\n   split1_test_score  split2_test_score  split3_test_score  split4_test_score  \\\n0           0.958333           0.916667                1.0                1.0   \n1           0.958333           0.875000                1.0                1.0   \n2           0.958333           0.875000                1.0                1.0   \n3           0.958333           0.875000                1.0                1.0   \n4           0.958333           0.875000                1.0                1.0   \n5           0.958333           0.875000                1.0                1.0   \n6           0.958333           0.916667                1.0                1.0   \n7           0.958333           0.916667                1.0                1.0   \n8           0.958333           0.916667                1.0                1.0   \n9           0.958333           0.916667                1.0                1.0   \n\n   mean_test_score  std_test_score  rank_test_score  \n0         0.966667        0.031180                1  \n1         0.958333        0.045644                6  \n2         0.958333        0.045644                6  \n3         0.958333        0.045644                6  \n4         0.958333        0.045644                6  \n5         0.958333        0.045644                6  \n6         0.966667        0.031180                1  \n7         0.966667        0.031180                1  \n8         0.966667        0.031180                1  \n9         0.966667        0.031180                1  ",
      "text/html": "<div>\n<style scoped>\n    .dataframe tbody tr th:only-of-type {\n        vertical-align: middle;\n    }\n\n    .dataframe tbody tr th {\n        vertical-align: top;\n    }\n\n    .dataframe thead th {\n        text-align: right;\n    }\n</style>\n<table border=\"1\" class=\"dataframe\">\n  <thead>\n    <tr style=\"text-align: right;\">\n      <th></th>\n      <th>mean_fit_time</th>\n      <th>std_fit_time</th>\n      <th>mean_score_time</th>\n      <th>std_score_time</th>\n      <th>param_knn__n_neighbors</th>\n      <th>params</th>\n      <th>split0_test_score</th>\n      <th>split1_test_score</th>\n      <th>split2_test_score</th>\n      <th>split3_test_score</th>\n      <th>split4_test_score</th>\n      <th>mean_test_score</th>\n      <th>std_test_score</th>\n      <th>rank_test_score</th>\n    </tr>\n  </thead>\n  <tbody>\n    <tr>\n      <th>0</th>\n      <td>0.029540</td>\n      <td>0.002432</td>\n      <td>0.038733</td>\n      <td>0.003717</td>\n      <td>1</td>\n      <td>{'knn__n_neighbors': 1}</td>\n      <td>0.958333</td>\n      <td>0.958333</td>\n      <td>0.916667</td>\n      <td>1.0</td>\n      <td>1.0</td>\n      <td>0.966667</td>\n      <td>0.031180</td>\n      <td>1</td>\n    </tr>\n    <tr>\n      <th>1</th>\n      <td>0.035869</td>\n      <td>0.007891</td>\n      <td>0.025849</td>\n      <td>0.005938</td>\n      <td>2</td>\n      <td>{'knn__n_neighbors': 2}</td>\n      <td>0.958333</td>\n      <td>0.958333</td>\n      <td>0.875000</td>\n      <td>1.0</td>\n      <td>1.0</td>\n      <td>0.958333</td>\n      <td>0.045644</td>\n      <td>6</td>\n    </tr>\n    <tr>\n      <th>2</th>\n      <td>0.023916</td>\n      <td>0.004065</td>\n      <td>0.021945</td>\n      <td>0.002294</td>\n      <td>3</td>\n      <td>{'knn__n_neighbors': 3}</td>\n      <td>0.958333</td>\n      <td>0.958333</td>\n      <td>0.875000</td>\n      <td>1.0</td>\n      <td>1.0</td>\n      <td>0.958333</td>\n      <td>0.045644</td>\n      <td>6</td>\n    </tr>\n    <tr>\n      <th>3</th>\n      <td>0.035066</td>\n      <td>0.009083</td>\n      <td>0.023428</td>\n      <td>0.000926</td>\n      <td>4</td>\n      <td>{'knn__n_neighbors': 4}</td>\n      <td>0.958333</td>\n      <td>0.958333</td>\n      <td>0.875000</td>\n      <td>1.0</td>\n      <td>1.0</td>\n      <td>0.958333</td>\n      <td>0.045644</td>\n      <td>6</td>\n    </tr>\n    <tr>\n      <th>4</th>\n      <td>0.042565</td>\n      <td>0.016129</td>\n      <td>0.022962</td>\n      <td>0.003251</td>\n      <td>5</td>\n      <td>{'knn__n_neighbors': 5}</td>\n      <td>0.958333</td>\n      <td>0.958333</td>\n      <td>0.875000</td>\n      <td>1.0</td>\n      <td>1.0</td>\n      <td>0.958333</td>\n      <td>0.045644</td>\n      <td>6</td>\n    </tr>\n    <tr>\n      <th>5</th>\n      <td>0.039869</td>\n      <td>0.012170</td>\n      <td>0.029206</td>\n      <td>0.009184</td>\n      <td>6</td>\n      <td>{'knn__n_neighbors': 6}</td>\n      <td>0.958333</td>\n      <td>0.958333</td>\n      <td>0.875000</td>\n      <td>1.0</td>\n      <td>1.0</td>\n      <td>0.958333</td>\n      <td>0.045644</td>\n      <td>6</td>\n    </tr>\n    <tr>\n      <th>6</th>\n      <td>0.027903</td>\n      <td>0.005774</td>\n      <td>0.037251</td>\n      <td>0.013977</td>\n      <td>7</td>\n      <td>{'knn__n_neighbors': 7}</td>\n      <td>0.958333</td>\n      <td>0.958333</td>\n      <td>0.916667</td>\n      <td>1.0</td>\n      <td>1.0</td>\n      <td>0.966667</td>\n      <td>0.031180</td>\n      <td>1</td>\n    </tr>\n    <tr>\n      <th>7</th>\n      <td>0.035398</td>\n      <td>0.015303</td>\n      <td>0.033377</td>\n      <td>0.010353</td>\n      <td>8</td>\n      <td>{'knn__n_neighbors': 8}</td>\n      <td>0.958333</td>\n      <td>0.958333</td>\n      <td>0.916667</td>\n      <td>1.0</td>\n      <td>1.0</td>\n      <td>0.966667</td>\n      <td>0.031180</td>\n      <td>1</td>\n    </tr>\n    <tr>\n      <th>8</th>\n      <td>0.029182</td>\n      <td>0.012481</td>\n      <td>0.035035</td>\n      <td>0.022428</td>\n      <td>9</td>\n      <td>{'knn__n_neighbors': 9}</td>\n      <td>0.958333</td>\n      <td>0.958333</td>\n      <td>0.916667</td>\n      <td>1.0</td>\n      <td>1.0</td>\n      <td>0.966667</td>\n      <td>0.031180</td>\n      <td>1</td>\n    </tr>\n    <tr>\n      <th>9</th>\n      <td>0.048912</td>\n      <td>0.017428</td>\n      <td>0.028172</td>\n      <td>0.004258</td>\n      <td>10</td>\n      <td>{'knn__n_neighbors': 10}</td>\n      <td>0.958333</td>\n      <td>0.958333</td>\n      <td>0.916667</td>\n      <td>1.0</td>\n      <td>1.0</td>\n      <td>0.966667</td>\n      <td>0.031180</td>\n      <td>1</td>\n    </tr>\n  </tbody>\n</table>\n</div>"
     },
     "execution_count": 46,
     "metadata": {},
     "output_type": "execute_result"
    }
   ],
   "source": [
    "# put cv_results into dataframe\n",
    "cv_df = pd.DataFrame(cv_results)\n",
    "cv_df"
   ]
  },
  {
   "cell_type": "code",
   "execution_count": 47,
   "metadata": {
    "pycharm": {
     "name": "#%%\n"
    }
   },
   "outputs": [
    {
     "data": {
      "text/plain": "<Figure size 1080x720 with 1 Axes>",
      "image/png": "[encoded data removed]"
     },
     "metadata": {
      "needs_background": "light"
     },
     "output_type": "display_data"
    }
   ],
   "source": [
    "# select columns to plot\n",
    "X = cv_df[['param_knn__n_neighbors', 'mean_test_score']]\n",
    "\n",
    "# plot graph\n",
    "plt.figure(figsize=(15,10))\n",
    "plt.title('Prediction performance against hyperparameter values', fontdict={'fontsize':18, 'fontweight':'bold'})\n",
    "plt.plot(X.iloc[:, 0], X.iloc[:, 1], linestyle='--', marker='*', markersize=12, color='green')\n",
    "plt.axhline(np.max(X.iloc[:, 1]), linestyle=':', color='red')\n",
    "plt.xlabel('n_neighbors (K)', fontdict={'fontsize':15, 'fontweight':'bold'})\n",
    "plt.ylabel('Mean Test Score', fontdict={'fontsize':15, 'fontweight':'bold'})\n",
    "plt.show()"
   ]
  },
  {
   "cell_type": "markdown",
   "metadata": {
    "pycharm": {
     "name": "#%% md\n"
    }
   },
   "source": [
    "**NOTE: Horizontal lines represent the best/optimal values of parameter (K). The *First* point of\n",
    "touch in the horizontal line is optimal value (K=1), however other points on that line can also be considered optimal value.**"
   ]
  },
  {
   "cell_type": "markdown",
   "metadata": {},
   "source": [
    "**D. Evaluate the model (obtained from A) performance on the test set. Report the confusion\n",
    "matrix, F1-score and accuracy.**"
   ]
  },
  {
   "cell_type": "code",
   "execution_count": 48,
   "metadata": {
    "pycharm": {
     "name": "#%%\n"
    }
   },
   "outputs": [
    {
     "name": "stdout",
     "output_type": "stream",
     "text": [
      "The KNN accuracy is 96.25%\n",
      "The KNN F1 Score is 95.24%\n",
      "Classification Report:\n",
      "              precision    recall  f1-score   support\n",
      "\n",
      "         ckd       1.00      0.94      0.97        50\n",
      "      notckd       0.91      1.00      0.95        30\n",
      "\n",
      "    accuracy                           0.96        80\n",
      "   macro avg       0.95      0.97      0.96        80\n",
      "weighted avg       0.97      0.96      0.96        80\n",
      "\n"
     ]
    },
    {
     "data": {
      "text/plain": "<Figure size 432x288 with 2 Axes>",
      "image/png": "[encoded data removed]"
     },
     "metadata": {
      "needs_background": "light"
     },
     "output_type": "display_data"
    }
   ],
   "source": [
    "# predict\n",
    "y_pred = knn_opt_pipeline.predict(x_test)\n",
    "\n",
    "# accuracy\n",
    "acc = f'{accuracy_score(y_test, y_pred)*100:.2f}%'\n",
    "print(f'The KNN accuracy is {acc}')\n",
    "\n",
    "# store for plotting\n",
    "model_performance.append(('KNN', f1_score(y_test, y_pred)))\n",
    "\n",
    "# F1 score\n",
    "print(f'The KNN F1 Score is {f1_score(y_test, y_pred)*100:.2f}%')\n",
    "\n",
    "# confusion matrix\n",
    "confusion_mtx = confusion_matrix(y_test, y_pred)\n",
    "\n",
    "# display confusion matrix\n",
    "ConfusionMatrixDisplay(confusion_mtx, display_labels=['ckd', 'notckd']).plot()\n",
    "\n",
    "# classification report\n",
    "print(f\"Classification Report:\\n{classification_report(y_test, y_pred, target_names=['ckd', 'notckd'])}\")\n"
   ]
  },
  {
   "cell_type": "markdown",
   "metadata": {},
   "source": [
    "**Decision Tree**"
   ]
  },
  {
   "cell_type": "code",
   "execution_count": 49,
   "metadata": {
    "pycharm": {
     "name": "#%%\n"
    }
   },
   "outputs": [
    {
     "name": "stdout",
     "output_type": "stream",
     "text": [
      "The Decision Tree accuracy is 93.75%\n",
      "The Decision Tree F1 Score is 90.91%\n",
      "Classification Report:\n",
      "              precision    recall  f1-score   support\n",
      "\n",
      "         ckd       0.91      1.00      0.95        50\n",
      "      notckd       1.00      0.83      0.91        30\n",
      "\n",
      "    accuracy                           0.94        80\n",
      "   macro avg       0.95      0.92      0.93        80\n",
      "weighted avg       0.94      0.94      0.94        80\n",
      "\n"
     ]
    },
    {
     "data": {
      "text/plain": "<Figure size 432x288 with 2 Axes>",
      "image/png": "[encoded data removed]"
     },
     "metadata": {
      "needs_background": "light"
     },
     "output_type": "display_data"
    }
   ],
   "source": [
    "# decision tree clasifier\n",
    "dt_clf = DecisionTreeClassifier(random_state=11)\n",
    "\n",
    "# build pipeline\n",
    "dt_pipeline = Pipeline([\n",
    "    ('numerical scaling', num_transform),\n",
    "    ('decision_tree', dt_clf)\n",
    "])\n",
    "\n",
    "# fit\n",
    "dt_pipeline.fit(x_train, y_train)\n",
    "\n",
    "# predict\n",
    "y_pred = dt_pipeline.predict(x_test)\n",
    "\n",
    "# accuracy score\n",
    "print(f'The Decision Tree accuracy is {accuracy_score(y_test, y_pred)*100:.2f}%')\n",
    "\n",
    "# F1 score\n",
    "print(f'The Decision Tree F1 Score is {f1_score(y_test, y_pred)*100:.2f}%')\n",
    "\n",
    "# confusion matrix\n",
    "confusion_mtx = confusion_matrix(y_test, y_pred)\n",
    "\n",
    "# display confusion matrix\n",
    "ConfusionMatrixDisplay(confusion_mtx, display_labels=['ckd', 'notckd']).plot()\n",
    "\n",
    "# classification report\n",
    "print(f\"Classification Report:\\n{classification_report(y_test, y_pred, target_names=['ckd', 'notckd'])}\")"
   ]
  },
  {
   "cell_type": "markdown",
   "metadata": {},
   "source": [
    "**Gridsearch Decision Tree Classifier**"
   ]
  },
  {
   "cell_type": "code",
   "execution_count": 50,
   "metadata": {
    "pycharm": {
     "name": "#%%\n"
    }
   },
   "outputs": [
    {
     "name": "stdout",
     "output_type": "stream",
     "text": [
      "Best parameters: {'decision_tree__criterion': 'gini', 'decision_tree__max_depth': 5}\n",
      "Best score: 0.9833333333333334\n"
     ]
    }
   ],
   "source": [
    "# parameters to Gridsearch\n",
    "dt_params = [\n",
    "    {'decision_tree__criterion':['entropy', 'gini'],\n",
    "     'decision_tree__max_depth':[x for x in range(1,11)]}\n",
    "]\n",
    "\n",
    "# grid search\n",
    "dt_gs = GridSearchCV(dt_pipeline, param_grid=dt_params, scoring='recall', cv=5, n_jobs=-1)\n",
    "\n",
    "# fit\n",
    "dt_gs.fit(x_train, y_train)\n",
    "\n",
    "# best parameters\n",
    "print(f'Best parameters: {dt_gs.best_params_}')\n",
    "\n",
    "# best score\n",
    "print(f'Best score: {dt_gs.best_score_}')\n",
    "\n",
    "# store cv results\n",
    "cv_results = dt_gs.cv_results_"
   ]
  },
  {
   "cell_type": "markdown",
   "metadata": {},
   "source": [
    "**A. Build optimised classification model to predict the chronic kidney disease from the dataset.**"
   ]
  },
  {
   "cell_type": "code",
   "execution_count": 51,
   "metadata": {
    "pycharm": {
     "name": "#%%\n"
    }
   },
   "outputs": [
    {
     "data": {
      "text/plain": "Pipeline(steps=[('numerical scaling',\n                 ColumnTransformer(n_jobs=-1, remainder='passthrough',\n                                   transformers=[('scale', StandardScaler(),\n                                                  ['age', 'bp', 'bgr', 'bu',\n                                                   'sc', 'sod', 'pot', 'hemo',\n                                                   'pcv', 'wbcc', 'rbcc'])])),\n                ('decision_tree', DecisionTreeClassifier(max_depth=5))])"
     },
     "execution_count": 51,
     "metadata": {},
     "output_type": "execute_result"
    }
   ],
   "source": [
    "# optimised Decision Tree clasifier\n",
    "dt_optimised = DecisionTreeClassifier(criterion='gini', max_depth=5)\n",
    "\n",
    "# build pipeline\n",
    "dt_opt_pipeline = Pipeline([\n",
    "    ('numerical scaling', num_transform),\n",
    "    ('decision_tree', dt_optimised)\n",
    "])\n",
    "\n",
    "# train the model\n",
    "dt_opt_pipeline.fit(x_train, y_train)"
   ]
  },
  {
   "cell_type": "markdown",
   "metadata": {},
   "source": [
    "**B. For each optimised model, answer the followings - (3 marks)**\n",
    "- **which hyperparameters were optimised? [Hint: For SVM, kernel can be considered as one of the hyperparameters.]**\n",
    "> 'criterion' and 'max_depth' were optimised.\n",
    ">The criterion is the function to measure the quality of a split.\n",
    ">'max_depth' is the maximum number of children nodes that can grow out from the decision tree until the tree is cut off.\n",
    "\n",
    "\n",
    "- **what set or range of values were used for each hyperparameter?**\n",
    "> For hyperparameter 'criterion', I used ['entropy', 'gini'] and\n",
    ">for 'max_depth', I used number between 1 to 10.\n",
    "\n",
    "\n",
    "- **which metric was used to measure the performance?**\n",
    "> I used recall to measure the performance because\n",
    ">it is important to make sure all the patients with disease are identified regardless of\n",
    ">raising a false alarm. This metrics helps to make sure that the actual positive cases are detected, in other word, the actual positive cases should\n",
    ">not go undetected.\n",
    "\n",
    "\n",
    "- **justify your design decisions.**\n",
    "> The default parameters for Decision Tree classifier lead to fully grown and unpruned trees which can potentially be very\n",
    ">large on some data sets. In order to reduce memory consumption, complexity and size of the trees, it is important to find the\n",
    ">optimal value for such parameters. The criterion and max_depth parameters have a significant impact on the performance of the model.\n"
   ]
  },
  {
   "cell_type": "markdown",
   "metadata": {},
   "source": [
    "**C. Plot the prediction performance against hyperparameter values to visualise the optimisation\n",
    "process and mark the optimal value.**"
   ]
  },
  {
   "cell_type": "code",
   "execution_count": 52,
   "metadata": {
    "pycharm": {
     "name": "#%%\n"
    }
   },
   "outputs": [
    {
     "data": {
      "text/plain": "    mean_fit_time  std_fit_time  mean_score_time  std_score_time  \\\n0        0.026071      0.005883         0.034776        0.015390   \n1        0.043127      0.009872         0.021432        0.002642   \n2        0.033286      0.012509         0.015957        0.002561   \n3        0.021818      0.002711         0.020062        0.008877   \n4        0.034437      0.011275         0.021975        0.006265   \n5        0.043524      0.028267         0.018892        0.005751   \n6        0.024933      0.004266         0.014601        0.000676   \n7        0.027238      0.005319         0.015015        0.001024   \n8        0.044624      0.027449         0.017035        0.002953   \n9        0.028516      0.012042         0.016906        0.004794   \n10       0.034985      0.018666         0.014866        0.001586   \n11       0.028921      0.018221         0.018120        0.008038   \n12       0.025768      0.005732         0.016772        0.003259   \n13       0.022610      0.002318         0.022950        0.011307   \n14       0.032986      0.026823         0.016810        0.006543   \n15       0.022144      0.004787         0.019571        0.011856   \n16       0.031499      0.011880         0.022429        0.007268   \n17       0.023906      0.004682         0.014946        0.001908   \n18       0.025153      0.004813         0.014583        0.001746   \n19       0.021289      0.001090         0.014445        0.001338   \n\n   param_decision_tree__criterion param_decision_tree__max_depth  \\\n0                         entropy                              1   \n1                         entropy                              2   \n2                         entropy                              3   \n3                         entropy                              4   \n4                         entropy                              5   \n5                         entropy                              6   \n6                         entropy                              7   \n7                         entropy                              8   \n8                         entropy                              9   \n9                         entropy                             10   \n10                           gini                              1   \n11                           gini                              2   \n12                           gini                              3   \n13                           gini                              4   \n14                           gini                              5   \n15                           gini                              6   \n16                           gini                              7   \n17                           gini                              8   \n18                           gini                              9   \n19                           gini                             10   \n\n                                               params  split0_test_score  \\\n0   {'decision_tree__criterion': 'entropy', 'decis...           0.916667   \n1   {'decision_tree__criterion': 'entropy', 'decis...           0.958333   \n2   {'decision_tree__criterion': 'entropy', 'decis...           0.958333   \n3   {'decision_tree__criterion': 'entropy', 'decis...           0.958333   \n4   {'decision_tree__criterion': 'entropy', 'decis...           0.958333   \n5   {'decision_tree__criterion': 'entropy', 'decis...           0.958333   \n6   {'decision_tree__criterion': 'entropy', 'decis...           0.958333   \n7   {'decision_tree__criterion': 'entropy', 'decis...           0.958333   \n8   {'decision_tree__criterion': 'entropy', 'decis...           0.958333   \n9   {'decision_tree__criterion': 'entropy', 'decis...           0.958333   \n10  {'decision_tree__criterion': 'gini', 'decision...           0.916667   \n11  {'decision_tree__criterion': 'gini', 'decision...           0.958333   \n12  {'decision_tree__criterion': 'gini', 'decision...           0.958333   \n13  {'decision_tree__criterion': 'gini', 'decision...           0.958333   \n14  {'decision_tree__criterion': 'gini', 'decision...           0.958333   \n15  {'decision_tree__criterion': 'gini', 'decision...           0.958333   \n16  {'decision_tree__criterion': 'gini', 'decision...           0.958333   \n17  {'decision_tree__criterion': 'gini', 'decision...           0.958333   \n18  {'decision_tree__criterion': 'gini', 'decision...           0.958333   \n19  {'decision_tree__criterion': 'gini', 'decision...           0.958333   \n\n    split1_test_score  split2_test_score  split3_test_score  \\\n0            0.916667           0.958333                1.0   \n1            0.916667           0.958333                1.0   \n2            0.916667           0.958333                1.0   \n3            0.916667           0.958333                1.0   \n4            0.916667           0.958333                1.0   \n5            0.916667           0.958333                1.0   \n6            0.916667           0.958333                1.0   \n7            0.916667           0.958333                1.0   \n8            0.916667           0.958333                1.0   \n9            0.916667           0.958333                1.0   \n10           0.916667           0.958333                1.0   \n11           0.958333           0.958333                1.0   \n12           0.958333           0.958333                1.0   \n13           0.958333           0.958333                1.0   \n14           1.000000           0.958333                1.0   \n15           1.000000           0.958333                1.0   \n16           1.000000           0.958333                1.0   \n17           1.000000           0.958333                1.0   \n18           1.000000           0.958333                1.0   \n19           1.000000           0.958333                1.0   \n\n    split4_test_score  mean_test_score  std_test_score  rank_test_score  \n0            0.958333         0.950000        0.031180               19  \n1            1.000000         0.966667        0.031180               10  \n2            1.000000         0.966667        0.031180               10  \n3            1.000000         0.966667        0.031180               10  \n4            1.000000         0.966667        0.031180               10  \n5            1.000000         0.966667        0.031180               10  \n6            1.000000         0.966667        0.031180               10  \n7            1.000000         0.966667        0.031180               10  \n8            1.000000         0.966667        0.031180               10  \n9            1.000000         0.966667        0.031180               10  \n10           0.958333         0.950000        0.031180               19  \n11           1.000000         0.975000        0.020412                7  \n12           1.000000         0.975000        0.020412                7  \n13           1.000000         0.975000        0.020412                7  \n14           1.000000         0.983333        0.020412                1  \n15           1.000000         0.983333        0.020412                1  \n16           1.000000         0.983333        0.020412                1  \n17           1.000000         0.983333        0.020412                1  \n18           1.000000         0.983333        0.020412                1  \n19           1.000000         0.983333        0.020412                1  ",
      "text/html": "<div>\n<style scoped>\n    .dataframe tbody tr th:only-of-type {\n        vertical-align: middle;\n    }\n\n    .dataframe tbody tr th {\n        vertical-align: top;\n    }\n\n    .dataframe thead th {\n        text-align: right;\n    }\n</style>\n<table border=\"1\" class=\"dataframe\">\n  <thead>\n    <tr style=\"text-align: right;\">\n      <th></th>\n      <th>mean_fit_time</th>\n      <th>std_fit_time</th>\n      <th>mean_score_time</th>\n      <th>std_score_time</th>\n      <th>param_decision_tree__criterion</th>\n      <th>param_decision_tree__max_depth</th>\n      <th>params</th>\n      <th>split0_test_score</th>\n      <th>split1_test_score</th>\n      <th>split2_test_score</th>\n      <th>split3_test_score</th>\n      <th>split4_test_score</th>\n      <th>mean_test_score</th>\n      <th>std_test_score</th>\n      <th>rank_test_score</th>\n    </tr>\n  </thead>\n  <tbody>\n    <tr>\n      <th>0</th>\n      <td>0.026071</td>\n      <td>0.005883</td>\n      <td>0.034776</td>\n      <td>0.015390</td>\n      <td>entropy</td>\n      <td>1</td>\n      <td>{'decision_tree__criterion': 'entropy', 'decis...</td>\n      <td>0.916667</td>\n      <td>0.916667</td>\n      <td>0.958333</td>\n      <td>1.0</td>\n      <td>0.958333</td>\n      <td>0.950000</td>\n      <td>0.031180</td>\n      <td>19</td>\n    </tr>\n    <tr>\n      <th>1</th>\n      <td>0.043127</td>\n      <td>0.009872</td>\n      <td>0.021432</td>\n      <td>0.002642</td>\n      <td>entropy</td>\n      <td>2</td>\n      <td>{'decision_tree__criterion': 'entropy', 'decis...</td>\n      <td>0.958333</td>\n      <td>0.916667</td>\n      <td>0.958333</td>\n      <td>1.0</td>\n      <td>1.000000</td>\n      <td>0.966667</td>\n      <td>0.031180</td>\n      <td>10</td>\n    </tr>\n    <tr>\n      <th>2</th>\n      <td>0.033286</td>\n      <td>0.012509</td>\n      <td>0.015957</td>\n      <td>0.002561</td>\n      <td>entropy</td>\n      <td>3</td>\n      <td>{'decision_tree__criterion': 'entropy', 'decis...</td>\n      <td>0.958333</td>\n      <td>0.916667</td>\n      <td>0.958333</td>\n      <td>1.0</td>\n      <td>1.000000</td>\n      <td>0.966667</td>\n      <td>0.031180</td>\n      <td>10</td>\n    </tr>\n    <tr>\n      <th>3</th>\n      <td>0.021818</td>\n      <td>0.002711</td>\n      <td>0.020062</td>\n      <td>0.008877</td>\n      <td>entropy</td>\n      <td>4</td>\n      <td>{'decision_tree__criterion': 'entropy', 'decis...</td>\n      <td>0.958333</td>\n      <td>0.916667</td>\n      <td>0.958333</td>\n      <td>1.0</td>\n      <td>1.000000</td>\n      <td>0.966667</td>\n      <td>0.031180</td>\n      <td>10</td>\n    </tr>\n    <tr>\n      <th>4</th>\n      <td>0.034437</td>\n      <td>0.011275</td>\n      <td>0.021975</td>\n      <td>0.006265</td>\n      <td>entropy</td>\n      <td>5</td>\n      <td>{'decision_tree__criterion': 'entropy', 'decis...</td>\n      <td>0.958333</td>\n      <td>0.916667</td>\n      <td>0.958333</td>\n      <td>1.0</td>\n      <td>1.000000</td>\n      <td>0.966667</td>\n      <td>0.031180</td>\n      <td>10</td>\n    </tr>\n    <tr>\n      <th>5</th>\n      <td>0.043524</td>\n      <td>0.028267</td>\n      <td>0.018892</td>\n      <td>0.005751</td>\n      <td>entropy</td>\n      <td>6</td>\n      <td>{'decision_tree__criterion': 'entropy', 'decis...</td>\n      <td>0.958333</td>\n      <td>0.916667</td>\n      <td>0.958333</td>\n      <td>1.0</td>\n      <td>1.000000</td>\n      <td>0.966667</td>\n      <td>0.031180</td>\n      <td>10</td>\n    </tr>\n    <tr>\n      <th>6</th>\n      <td>0.024933</td>\n      <td>0.004266</td>\n      <td>0.014601</td>\n      <td>0.000676</td>\n      <td>entropy</td>\n      <td>7</td>\n      <td>{'decision_tree__criterion': 'entropy', 'decis...</td>\n      <td>0.958333</td>\n      <td>0.916667</td>\n      <td>0.958333</td>\n      <td>1.0</td>\n      <td>1.000000</td>\n      <td>0.966667</td>\n      <td>0.031180</td>\n      <td>10</td>\n    </tr>\n    <tr>\n      <th>7</th>\n      <td>0.027238</td>\n      <td>0.005319</td>\n      <td>0.015015</td>\n      <td>0.001024</td>\n      <td>entropy</td>\n      <td>8</td>\n      <td>{'decision_tree__criterion': 'entropy', 'decis...</td>\n      <td>0.958333</td>\n      <td>0.916667</td>\n      <td>0.958333</td>\n      <td>1.0</td>\n      <td>1.000000</td>\n      <td>0.966667</td>\n      <td>0.031180</td>\n      <td>10</td>\n    </tr>\n    <tr>\n      <th>8</th>\n      <td>0.044624</td>\n      <td>0.027449</td>\n      <td>0.017035</td>\n      <td>0.002953</td>\n      <td>entropy</td>\n      <td>9</td>\n      <td>{'decision_tree__criterion': 'entropy', 'decis...</td>\n      <td>0.958333</td>\n      <td>0.916667</td>\n      <td>0.958333</td>\n      <td>1.0</td>\n      <td>1.000000</td>\n      <td>0.966667</td>\n      <td>0.031180</td>\n      <td>10</td>\n    </tr>\n    <tr>\n      <th>9</th>\n      <td>0.028516</td>\n      <td>0.012042</td>\n      <td>0.016906</td>\n      <td>0.004794</td>\n      <td>entropy</td>\n      <td>10</td>\n      <td>{'decision_tree__criterion': 'entropy', 'decis...</td>\n      <td>0.958333</td>\n      <td>0.916667</td>\n      <td>0.958333</td>\n      <td>1.0</td>\n      <td>1.000000</td>\n      <td>0.966667</td>\n      <td>0.031180</td>\n      <td>10</td>\n    </tr>\n    <tr>\n      <th>10</th>\n      <td>0.034985</td>\n      <td>0.018666</td>\n      <td>0.014866</td>\n      <td>0.001586</td>\n      <td>gini</td>\n      <td>1</td>\n      <td>{'decision_tree__criterion': 'gini', 'decision...</td>\n      <td>0.916667</td>\n      <td>0.916667</td>\n      <td>0.958333</td>\n      <td>1.0</td>\n      <td>0.958333</td>\n      <td>0.950000</td>\n      <td>0.031180</td>\n      <td>19</td>\n    </tr>\n    <tr>\n      <th>11</th>\n      <td>0.028921</td>\n      <td>0.018221</td>\n      <td>0.018120</td>\n      <td>0.008038</td>\n      <td>gini</td>\n      <td>2</td>\n      <td>{'decision_tree__criterion': 'gini', 'decision...</td>\n      <td>0.958333</td>\n      <td>0.958333</td>\n      <td>0.958333</td>\n      <td>1.0</td>\n      <td>1.000000</td>\n      <td>0.975000</td>\n      <td>0.020412</td>\n      <td>7</td>\n    </tr>\n    <tr>\n      <th>12</th>\n      <td>0.025768</td>\n      <td>0.005732</td>\n      <td>0.016772</td>\n      <td>0.003259</td>\n      <td>gini</td>\n      <td>3</td>\n      <td>{'decision_tree__criterion': 'gini', 'decision...</td>\n      <td>0.958333</td>\n      <td>0.958333</td>\n      <td>0.958333</td>\n      <td>1.0</td>\n      <td>1.000000</td>\n      <td>0.975000</td>\n      <td>0.020412</td>\n      <td>7</td>\n    </tr>\n    <tr>\n      <th>13</th>\n      <td>0.022610</td>\n      <td>0.002318</td>\n      <td>0.022950</td>\n      <td>0.011307</td>\n      <td>gini</td>\n      <td>4</td>\n      <td>{'decision_tree__criterion': 'gini', 'decision...</td>\n      <td>0.958333</td>\n      <td>0.958333</td>\n      <td>0.958333</td>\n      <td>1.0</td>\n      <td>1.000000</td>\n      <td>0.975000</td>\n      <td>0.020412</td>\n      <td>7</td>\n    </tr>\n    <tr>\n      <th>14</th>\n      <td>0.032986</td>\n      <td>0.026823</td>\n      <td>0.016810</td>\n      <td>0.006543</td>\n      <td>gini</td>\n      <td>5</td>\n      <td>{'decision_tree__criterion': 'gini', 'decision...</td>\n      <td>0.958333</td>\n      <td>1.000000</td>\n      <td>0.958333</td>\n      <td>1.0</td>\n      <td>1.000000</td>\n      <td>0.983333</td>\n      <td>0.020412</td>\n      <td>1</td>\n    </tr>\n    <tr>\n      <th>15</th>\n      <td>0.022144</td>\n      <td>0.004787</td>\n      <td>0.019571</td>\n      <td>0.011856</td>\n      <td>gini</td>\n      <td>6</td>\n      <td>{'decision_tree__criterion': 'gini', 'decision...</td>\n      <td>0.958333</td>\n      <td>1.000000</td>\n      <td>0.958333</td>\n      <td>1.0</td>\n      <td>1.000000</td>\n      <td>0.983333</td>\n      <td>0.020412</td>\n      <td>1</td>\n    </tr>\n    <tr>\n      <th>16</th>\n      <td>0.031499</td>\n      <td>0.011880</td>\n      <td>0.022429</td>\n      <td>0.007268</td>\n      <td>gini</td>\n      <td>7</td>\n      <td>{'decision_tree__criterion': 'gini', 'decision...</td>\n      <td>0.958333</td>\n      <td>1.000000</td>\n      <td>0.958333</td>\n      <td>1.0</td>\n      <td>1.000000</td>\n      <td>0.983333</td>\n      <td>0.020412</td>\n      <td>1</td>\n    </tr>\n    <tr>\n      <th>17</th>\n      <td>0.023906</td>\n      <td>0.004682</td>\n      <td>0.014946</td>\n      <td>0.001908</td>\n      <td>gini</td>\n      <td>8</td>\n      <td>{'decision_tree__criterion': 'gini', 'decision...</td>\n      <td>0.958333</td>\n      <td>1.000000</td>\n      <td>0.958333</td>\n      <td>1.0</td>\n      <td>1.000000</td>\n      <td>0.983333</td>\n      <td>0.020412</td>\n      <td>1</td>\n    </tr>\n    <tr>\n      <th>18</th>\n      <td>0.025153</td>\n      <td>0.004813</td>\n      <td>0.014583</td>\n      <td>0.001746</td>\n      <td>gini</td>\n      <td>9</td>\n      <td>{'decision_tree__criterion': 'gini', 'decision...</td>\n      <td>0.958333</td>\n      <td>1.000000</td>\n      <td>0.958333</td>\n      <td>1.0</td>\n      <td>1.000000</td>\n      <td>0.983333</td>\n      <td>0.020412</td>\n      <td>1</td>\n    </tr>\n    <tr>\n      <th>19</th>\n      <td>0.021289</td>\n      <td>0.001090</td>\n      <td>0.014445</td>\n      <td>0.001338</td>\n      <td>gini</td>\n      <td>10</td>\n      <td>{'decision_tree__criterion': 'gini', 'decision...</td>\n      <td>0.958333</td>\n      <td>1.000000</td>\n      <td>0.958333</td>\n      <td>1.0</td>\n      <td>1.000000</td>\n      <td>0.983333</td>\n      <td>0.020412</td>\n      <td>1</td>\n    </tr>\n  </tbody>\n</table>\n</div>"
     },
     "execution_count": 52,
     "metadata": {},
     "output_type": "execute_result"
    }
   ],
   "source": [
    "# put cv_results into dataframe\n",
    "cv_df = pd.DataFrame(cv_results)\n",
    "cv_df"
   ]
  },
  {
   "cell_type": "code",
   "execution_count": 53,
   "metadata": {
    "pycharm": {
     "name": "#%%\n"
    }
   },
   "outputs": [
    {
     "data": {
      "text/plain": "<Figure size 1080x720 with 1 Axes>",
      "image/png": "[encoded data removed]"
     },
     "metadata": {
      "needs_background": "light"
     },
     "output_type": "display_data"
    }
   ],
   "source": [
    "# select columns to plot\n",
    "X = cv_df[['param_decision_tree__criterion', 'param_decision_tree__max_depth', 'mean_test_score']]\n",
    "\n",
    "# combined\n",
    "X['combined_param'] = (X['param_decision_tree__criterion'].map(str) + ' and '+  X['param_decision_tree__max_depth'].values.astype(str))\n",
    "\n",
    "# plot graph\n",
    "plt.figure(figsize=(15,10))\n",
    "plt.title('Prediction performance against hyperparameter values', fontdict={'fontsize':18, 'fontweight':'bold'})\n",
    "plt.plot(X['combined_param'], X['mean_test_score'], linestyle='--', marker='*', markersize=12, color='green')\n",
    "plt.axhline(np.max(X['mean_test_score']), linestyle=':', color='red')\n",
    "plt.xlabel('Parameter - (Criterion and max_depth)', fontdict={'fontsize':15, 'fontweight':'bold'})\n",
    "plt.ylabel('Mean Test Score', fontdict={'fontsize':15, 'fontweight':'bold'})\n",
    "plt.xticks(rotation=45)\n",
    "plt.show()"
   ]
  },
  {
   "cell_type": "markdown",
   "metadata": {
    "pycharm": {
     "name": "#%% md\n"
    }
   },
   "source": [
    "**NOTE: Horizontal lines represent the best/optimal values of parameters (criterion and max_depth). The *First* point of\n",
    "touch in the horizontal line is optimal value (entropy and 10), however other points on that line can also be considered optimal value.**"
   ]
  },
  {
   "cell_type": "markdown",
   "metadata": {},
   "source": [
    "**D. Evaluate the model (obtained from A) performance on the test set. Report the confusion\n",
    "matrix, F1-score and accuracy.**"
   ]
  },
  {
   "cell_type": "code",
   "execution_count": 54,
   "metadata": {
    "pycharm": {
     "name": "#%%\n"
    }
   },
   "outputs": [
    {
     "name": "stdout",
     "output_type": "stream",
     "text": [
      "The Decision Tree accuracy is 95.00%\n",
      "The Decision Tree F1 Score is 92.86%\n",
      "Classification Report:\n",
      "              precision    recall  f1-score   support\n",
      "\n",
      "         ckd       0.93      1.00      0.96        50\n",
      "      notckd       1.00      0.87      0.93        30\n",
      "\n",
      "    accuracy                           0.95        80\n",
      "   macro avg       0.96      0.93      0.95        80\n",
      "weighted avg       0.95      0.95      0.95        80\n",
      "\n"
     ]
    },
    {
     "data": {
      "text/plain": "<Figure size 432x288 with 2 Axes>",
      "image/png": "[encoded data removed]"
     },
     "metadata": {
      "needs_background": "light"
     },
     "output_type": "display_data"
    }
   ],
   "source": [
    "# predict\n",
    "y_pred = dt_opt_pipeline.predict(x_test)\n",
    "\n",
    "# accuracy score\n",
    "acc = f'{accuracy_score(y_test, y_pred)*100:.2f}%'\n",
    "print(f'The Decision Tree accuracy is {acc}')\n",
    "\n",
    "# store for plotting\n",
    "model_performance.append(('Decision Tree', f1_score(y_test, y_pred)))\n",
    "\n",
    "# F1 score\n",
    "print(f'The Decision Tree F1 Score is {f1_score(y_test, y_pred)*100:.2f}%')\n",
    "\n",
    "# confusion matrix\n",
    "confusion_mtx = confusion_matrix(y_test, y_pred)\n",
    "\n",
    "# display confusion matrix\n",
    "ConfusionMatrixDisplay(confusion_mtx, display_labels=['ckd', 'notckd']).plot()\n",
    "\n",
    "# classification report\n",
    "print(f\"Classification Report:\\n{classification_report(y_test, y_pred, target_names=['ckd', 'notckd'])}\")"
   ]
  },
  {
   "cell_type": "markdown",
   "metadata": {
    "pycharm": {
     "name": "#%% md\n"
    }
   },
   "source": [
    "**Random Forest**"
   ]
  },
  {
   "cell_type": "code",
   "execution_count": 55,
   "metadata": {
    "pycharm": {
     "name": "#%%\n"
    }
   },
   "outputs": [
    {
     "name": "stdout",
     "output_type": "stream",
     "text": [
      "The Random Forest accuracy is 98.75%\n",
      "The Random Forest F1 Score is 98.31%\n",
      "Classification Report:\n",
      "              precision    recall  f1-score   support\n",
      "\n",
      "         ckd       0.98      1.00      0.99        50\n",
      "      notckd       1.00      0.97      0.98        30\n",
      "\n",
      "    accuracy                           0.99        80\n",
      "   macro avg       0.99      0.98      0.99        80\n",
      "weighted avg       0.99      0.99      0.99        80\n",
      "\n"
     ]
    },
    {
     "data": {
      "text/plain": "<Figure size 432x288 with 2 Axes>",
      "image/png": "[encoded data removed]"
     },
     "metadata": {
      "needs_background": "light"
     },
     "output_type": "display_data"
    }
   ],
   "source": [
    "# Random Forest Clasifier\n",
    "rf_clf = RandomForestClassifier(random_state=1)\n",
    "\n",
    "# build pipeline\n",
    "rf_pipeline = Pipeline([\n",
    "    ('numerical scaling', num_transform),\n",
    "    ('random_forest', rf_clf)\n",
    "])\n",
    "\n",
    "# fit\n",
    "rf_pipeline.fit(x_train, y_train)\n",
    "\n",
    "# predict\n",
    "y_pred = rf_pipeline.predict(x_test)\n",
    "\n",
    "# accuracy score\n",
    "print(f'The Random Forest accuracy is {accuracy_score(y_test, y_pred)*100:.2f}%')\n",
    "\n",
    "# F1 score\n",
    "print(f'The Random Forest F1 Score is {f1_score(y_test, y_pred)*100:.2f}%')\n",
    "\n",
    "# confusion matrix\n",
    "confusion_mtx = confusion_matrix(y_test, y_pred)\n",
    "\n",
    "# display confusion matrix\n",
    "ConfusionMatrixDisplay(confusion_mtx, display_labels=['ckd', 'notckd']).plot()\n",
    "\n",
    "# classification report\n",
    "print(f\"Classification Report:\\n{classification_report(y_test, y_pred, target_names=['ckd', 'notckd'])}\")"
   ]
  },
  {
   "cell_type": "markdown",
   "metadata": {},
   "source": [
    "**Gridsearch Random Forest Classifier**"
   ]
  },
  {
   "cell_type": "code",
   "execution_count": 56,
   "metadata": {
    "pycharm": {
     "name": "#%%\n"
    }
   },
   "outputs": [
    {
     "name": "stdout",
     "output_type": "stream",
     "text": [
      "Fitting 5 folds for each of 5 candidates, totalling 25 fits\n",
      "Best parameters: {'random_forest__criterion': 'gini', 'random_forest__n_estimators': 100}\n",
      "Best score: 0.9833333333333334\n"
     ]
    },
    {
     "name": "stderr",
     "output_type": "stream",
     "text": [
      "[Parallel(n_jobs=-1)]: Using backend LokyBackend with 8 concurrent workers.\n",
      "[Parallel(n_jobs=-1)]: Done  25 out of  25 | elapsed:    4.8s finished\n"
     ]
    }
   ],
   "source": [
    "# parameters to Gridsearch\n",
    "rf_params = [\n",
    "    {'random_forest__criterion':['gini'],\n",
    "     'random_forest__n_estimators':[x for x in range(100,200,20)]\n",
    "    }\n",
    "]\n",
    "\n",
    "# grid search\n",
    "rf_gs = GridSearchCV(rf_pipeline, param_grid=rf_params, scoring='recall', cv=5, n_jobs=-1, verbose=1)\n",
    "\n",
    "# fit\n",
    "rf_gs.fit(x_train, y_train)\n",
    "\n",
    "# best parameters\n",
    "print(f'Best parameters: {rf_gs.best_params_}')\n",
    "\n",
    "# best score\n",
    "print(f'Best score: {rf_gs.best_score_}')\n",
    "\n",
    "# store cv results\n",
    "cv_results = rf_gs.cv_results_"
   ]
  },
  {
   "cell_type": "markdown",
   "metadata": {},
   "source": [
    "**A. Build optimised classification model to predict the chronic kidney disease from the dataset.**"
   ]
  },
  {
   "cell_type": "code",
   "execution_count": 57,
   "metadata": {
    "pycharm": {
     "name": "#%%\n"
    }
   },
   "outputs": [
    {
     "data": {
      "text/plain": "Pipeline(steps=[('numerical scaling',\n                 ColumnTransformer(n_jobs=-1, remainder='passthrough',\n                                   transformers=[('scale', StandardScaler(),\n                                                  ['age', 'bp', 'bgr', 'bu',\n                                                   'sc', 'sod', 'pot', 'hemo',\n                                                   'pcv', 'wbcc', 'rbcc'])])),\n                ('random_forest', RandomForestClassifier(random_state=1))])"
     },
     "execution_count": 57,
     "metadata": {},
     "output_type": "execute_result"
    }
   ],
   "source": [
    "# optimised Random Forest clasifier\n",
    "rf_optimised = RandomForestClassifier(n_estimators=100, criterion='gini', random_state=1)\n",
    "\n",
    "# build pipeline\n",
    "rf_opt_pipeline = Pipeline([\n",
    "    ('numerical scaling', num_transform),\n",
    "    ('random_forest', rf_optimised)\n",
    "])\n",
    "\n",
    "# train the model\n",
    "rf_opt_pipeline.fit(x_train, y_train)"
   ]
  },
  {
   "cell_type": "markdown",
   "metadata": {},
   "source": [
    "**B. For each optimised model, answer the followings - (3 marks)**\n",
    "- **which hyperparameters were optimised? [Hint: For SVM, kernel can be considered as one of the hyperparameters.]**\n",
    "> 'n_estimators' and 'criterion'were optimised.\n",
    "> 'n_estimators' is the number of trees in the forest.\n",
    "> The criterion is the function to measure the quality of a split.\n",
    "\n",
    "- **what set or range of values were used for each hyperparameter?**\n",
    "> For hyperparameter 'n_estimators', I used values between 100 to 200 with the interval of 20.\n",
    ">For hyperparameter 'criterion', I used ['gini']\n",
    "\n",
    "\n",
    "- **which metric was used to measure the performance?**\n",
    "> I used recall to measure the performance because\n",
    ">it is important to make sure all the patients with disease are identified regardless of\n",
    ">raising a false alarm. This metrics helps to make sure that the actual positive cases are detected, in other word, the actual positive cases should\n",
    ">not go undetected.\n",
    "\n",
    "\n",
    "\n",
    "- **justify your design decisions.**\n",
    ">The default parameters of Random Forest classifier perfomed better so I planned to change few parameters and see if it improves. However,\n",
    ">there was no improvement.\n",
    ">Random Forest is collection of Decision Trees so hyperparameter tuning can improve the model performance.\n",
    ">The criterion gini performed better as it is the default criterion for Random Forest. So, it was not necessary to change it so I set it default so\n",
    ">that the hyperparameters are less which is computationally cheaper and time saving.\n",
    ">n_estimator is another important hyperparameter that impacts the performance of the model so it\n",
    ">is necessary to find the optimal value. In addition, this parameter has significant influence for making model underfit and overfit.\n",
    "\n"
   ]
  },
  {
   "cell_type": "markdown",
   "metadata": {},
   "source": [
    "**C. Plot the prediction performance against hyperparameter values to visualise the optimisation\n",
    "process and mark the optimal value.**"
   ]
  },
  {
   "cell_type": "code",
   "execution_count": 58,
   "metadata": {
    "pycharm": {
     "name": "#%%\n"
    }
   },
   "outputs": [
    {
     "data": {
      "text/plain": "   mean_fit_time  std_fit_time  mean_score_time  std_score_time  \\\n0       0.673041      0.010539         0.059621        0.007768   \n1       0.771942      0.022697         0.072748        0.011115   \n2       0.939395      0.053272         0.120748        0.033999   \n3       1.489791      0.158932         0.189848        0.051833   \n4       1.802514      0.323892         0.094654        0.042065   \n\n  param_random_forest__criterion param_random_forest__n_estimators  \\\n0                           gini                               100   \n1                           gini                               120   \n2                           gini                               140   \n3                           gini                               160   \n4                           gini                               180   \n\n                                              params  split0_test_score  \\\n0  {'random_forest__criterion': 'gini', 'random_f...           0.958333   \n1  {'random_forest__criterion': 'gini', 'random_f...           0.958333   \n2  {'random_forest__criterion': 'gini', 'random_f...           0.958333   \n3  {'random_forest__criterion': 'gini', 'random_f...           0.958333   \n4  {'random_forest__criterion': 'gini', 'random_f...           0.958333   \n\n   split1_test_score  split2_test_score  split3_test_score  split4_test_score  \\\n0                1.0           0.958333                1.0                1.0   \n1                1.0           0.958333                1.0                1.0   \n2                1.0           0.958333                1.0                1.0   \n3                1.0           0.958333                1.0                1.0   \n4                1.0           0.958333                1.0                1.0   \n\n   mean_test_score  std_test_score  rank_test_score  \n0         0.983333        0.020412                1  \n1         0.983333        0.020412                1  \n2         0.983333        0.020412                1  \n3         0.983333        0.020412                1  \n4         0.983333        0.020412                1  ",
      "text/html": "<div>\n<style scoped>\n    .dataframe tbody tr th:only-of-type {\n        vertical-align: middle;\n    }\n\n    .dataframe tbody tr th {\n        vertical-align: top;\n    }\n\n    .dataframe thead th {\n        text-align: right;\n    }\n</style>\n<table border=\"1\" class=\"dataframe\">\n  <thead>\n    <tr style=\"text-align: right;\">\n      <th></th>\n      <th>mean_fit_time</th>\n      <th>std_fit_time</th>\n      <th>mean_score_time</th>\n      <th>std_score_time</th>\n      <th>param_random_forest__criterion</th>\n      <th>param_random_forest__n_estimators</th>\n      <th>params</th>\n      <th>split0_test_score</th>\n      <th>split1_test_score</th>\n      <th>split2_test_score</th>\n      <th>split3_test_score</th>\n      <th>split4_test_score</th>\n      <th>mean_test_score</th>\n      <th>std_test_score</th>\n      <th>rank_test_score</th>\n    </tr>\n  </thead>\n  <tbody>\n    <tr>\n      <th>0</th>\n      <td>0.673041</td>\n      <td>0.010539</td>\n      <td>0.059621</td>\n      <td>0.007768</td>\n      <td>gini</td>\n      <td>100</td>\n      <td>{'random_forest__criterion': 'gini', 'random_f...</td>\n      <td>0.958333</td>\n      <td>1.0</td>\n      <td>0.958333</td>\n      <td>1.0</td>\n      <td>1.0</td>\n      <td>0.983333</td>\n      <td>0.020412</td>\n      <td>1</td>\n    </tr>\n    <tr>\n      <th>1</th>\n      <td>0.771942</td>\n      <td>0.022697</td>\n      <td>0.072748</td>\n      <td>0.011115</td>\n      <td>gini</td>\n      <td>120</td>\n      <td>{'random_forest__criterion': 'gini', 'random_f...</td>\n      <td>0.958333</td>\n      <td>1.0</td>\n      <td>0.958333</td>\n      <td>1.0</td>\n      <td>1.0</td>\n      <td>0.983333</td>\n      <td>0.020412</td>\n      <td>1</td>\n    </tr>\n    <tr>\n      <th>2</th>\n      <td>0.939395</td>\n      <td>0.053272</td>\n      <td>0.120748</td>\n      <td>0.033999</td>\n      <td>gini</td>\n      <td>140</td>\n      <td>{'random_forest__criterion': 'gini', 'random_f...</td>\n      <td>0.958333</td>\n      <td>1.0</td>\n      <td>0.958333</td>\n      <td>1.0</td>\n      <td>1.0</td>\n      <td>0.983333</td>\n      <td>0.020412</td>\n      <td>1</td>\n    </tr>\n    <tr>\n      <th>3</th>\n      <td>1.489791</td>\n      <td>0.158932</td>\n      <td>0.189848</td>\n      <td>0.051833</td>\n      <td>gini</td>\n      <td>160</td>\n      <td>{'random_forest__criterion': 'gini', 'random_f...</td>\n      <td>0.958333</td>\n      <td>1.0</td>\n      <td>0.958333</td>\n      <td>1.0</td>\n      <td>1.0</td>\n      <td>0.983333</td>\n      <td>0.020412</td>\n      <td>1</td>\n    </tr>\n    <tr>\n      <th>4</th>\n      <td>1.802514</td>\n      <td>0.323892</td>\n      <td>0.094654</td>\n      <td>0.042065</td>\n      <td>gini</td>\n      <td>180</td>\n      <td>{'random_forest__criterion': 'gini', 'random_f...</td>\n      <td>0.958333</td>\n      <td>1.0</td>\n      <td>0.958333</td>\n      <td>1.0</td>\n      <td>1.0</td>\n      <td>0.983333</td>\n      <td>0.020412</td>\n      <td>1</td>\n    </tr>\n  </tbody>\n</table>\n</div>"
     },
     "execution_count": 58,
     "metadata": {},
     "output_type": "execute_result"
    }
   ],
   "source": [
    "# put cv_results into dataframe\n",
    "cv_df = pd.DataFrame(cv_results)\n",
    "cv_df"
   ]
  },
  {
   "cell_type": "code",
   "execution_count": 59,
   "metadata": {
    "pycharm": {
     "name": "#%%\n"
    }
   },
   "outputs": [
    {
     "data": {
      "text/plain": "<Figure size 1800x720 with 1 Axes>",
      "image/png": "[encoded data removed]"
     },
     "metadata": {
      "needs_background": "light"
     },
     "output_type": "display_data"
    }
   ],
   "source": [
    "# select columns to plot\n",
    "X = cv_df[['param_random_forest__criterion', 'param_random_forest__n_estimators', 'mean_test_score']]\n",
    "\n",
    "# combined\n",
    "X['combined_param'] = (X['param_random_forest__criterion'].astype(str)+ ' and '+ X['param_random_forest__n_estimators'].astype(str))\n",
    "\n",
    "# plot graph\n",
    "plt.figure(figsize=(25,10))\n",
    "plt.title('Prediction performance against hyperparameter values', fontdict={'fontsize':18, 'fontweight':'bold'})\n",
    "plt.plot(X['combined_param'], X['mean_test_score'], linestyle='--', marker='*', markersize=12, color='green')\n",
    "plt.axhline(np.max(X['mean_test_score']), linestyle=':', color='red')\n",
    "plt.xlabel('Parameter - (criterion and n_estimators)', fontdict={'fontsize':15, 'fontweight':'bold'})\n",
    "plt.ylabel('Mean Test Score', fontdict={'fontsize':15, 'fontweight':'bold'})\n",
    "plt.xticks(rotation=45)\n",
    "plt.show()"
   ]
  },
  {
   "cell_type": "markdown",
   "metadata": {
    "pycharm": {
     "name": "#%% md\n"
    }
   },
   "source": [
    "**NOTE: Horizontal lines represent the best/optimal values of parameters. The *First* point of\n",
    "touch in the horizontal line is optimal value (gini and 100), however other points on that line can also be considered optimal value.**"
   ]
  },
  {
   "cell_type": "markdown",
   "metadata": {},
   "source": [
    "**D. Evaluate the model (obtained from A) performance on the test set. Report the confusion\n",
    "matrix, F1-score and accuracy.**"
   ]
  },
  {
   "cell_type": "code",
   "execution_count": 60,
   "metadata": {
    "pycharm": {
     "name": "#%%\n"
    }
   },
   "outputs": [
    {
     "name": "stdout",
     "output_type": "stream",
     "text": [
      "The Random Forest accuracy is 98.75%\n",
      "The Random Forest F1 Score is 98.31%\n",
      "Classification Report:\n",
      "              precision    recall  f1-score   support\n",
      "\n",
      "         ckd       0.98      1.00      0.99        50\n",
      "      notckd       1.00      0.97      0.98        30\n",
      "\n",
      "    accuracy                           0.99        80\n",
      "   macro avg       0.99      0.98      0.99        80\n",
      "weighted avg       0.99      0.99      0.99        80\n",
      "\n"
     ]
    },
    {
     "data": {
      "text/plain": "<Figure size 432x288 with 2 Axes>",
      "image/png": "[encoded data removed]"
     },
     "metadata": {
      "needs_background": "light"
     },
     "output_type": "display_data"
    }
   ],
   "source": [
    "# predict\n",
    "y_pred = rf_opt_pipeline.predict(x_test)\n",
    "\n",
    "# accuracy score\n",
    "acc = f'{accuracy_score(y_test, y_pred)*100:.2f}%'\n",
    "print(f'The Random Forest accuracy is {acc}')\n",
    "\n",
    "# store for plotting\n",
    "model_performance.append(('Random Forest', f1_score(y_test, y_pred)))\n",
    "\n",
    "# F1 score\n",
    "print(f'The Random Forest F1 Score is {f1_score(y_test, y_pred)*100:.2f}%')\n",
    "\n",
    "# confusion matrix\n",
    "confusion_mtx = confusion_matrix(y_test, y_pred)\n",
    "\n",
    "# display confusion matrix\n",
    "ConfusionMatrixDisplay(confusion_mtx, display_labels=['ckd', 'notckd']).plot()\n",
    "\n",
    "# classification report\n",
    "print(f\"Classification Report:\\n{classification_report(y_test, y_pred, target_names=['ckd', 'notckd'])}\")\n"
   ]
  },
  {
   "cell_type": "markdown",
   "metadata": {},
   "source": [
    "## Part 3: Discussion **(5 marks)**\n",
    "\n",
    "Based on the results obtained in Part-2, which classification method showed the best performance and why? Do you have any suggestions to further improve the model performances? **(5 marks)**"
   ]
  },
  {
   "cell_type": "markdown",
   "metadata": {
    "pycharm": {
     "name": "#%% md\n"
    }
   },
   "source": [
    "**Plot Accuracy Plot for all models**"
   ]
  },
  {
   "cell_type": "code",
   "execution_count": 61,
   "metadata": {
    "pycharm": {
     "name": "#%%\n"
    }
   },
   "outputs": [
    {
     "data": {
      "text/plain": "<Figure size 1080x720 with 1 Axes>",
      "image/png": "[encoded data removed]"
     },
     "metadata": {
      "needs_background": "light"
     },
     "output_type": "display_data"
    }
   ],
   "source": [
    "# plot\n",
    "model = [x for x, y in model_performance]\n",
    "acc = [y for x, y in model_performance]\n",
    "\n",
    "plt.figure(figsize=(15,10))\n",
    "plt.title('F1 Score against the classifiers', fontdict={'fontsize':18, 'fontweight':'bold'})\n",
    "plt.plot(model, acc, color='red', linestyle=':', marker='*')\n",
    "plt.xlabel('Classifiers', fontdict={'fontsize':15, 'fontweight':'bold'})\n",
    "plt.ylabel('F1 Score', fontdict={'fontsize':15, 'fontweight':'bold'})\n",
    "plt.show()"
   ]
  },
  {
   "cell_type": "markdown",
   "metadata": {
    "pycharm": {
     "name": "#%% md\n"
    }
   },
   "source": [
    "**which classification method showed the best performance and why?**\n",
    "\n",
    "**Answer:**\n",
    "\n",
    "**Random Forest** classifier showed the best performance. F1 Score combines precision and recall\n",
    "of the model. F1 score is better than accuracy in this dataset because firstly, our data is not\n",
    "balanced with classes (imbalance data). This metrics helps to make sure that the actual positive cases are detected, in other word, the actual positive cases should\n",
    "not go undetected.\n",
    "\n",
    "The reason for it are as follows:\n",
    "- The random forest classifier is ensemble method which is divide and conquer approach that is\n",
    "used to improve performance.\n",
    "- Random forest being ensemble model, it combines multiple decision tree models to improve the accuracy using bagging and boosting which improves the predictive performance more than any single model.\n",
    "- The random forest also use the random subspace method and bagging to prevent overfitting.\n",
    "- It has Automated feature selection built in.\n"
   ]
  },
  {
   "cell_type": "markdown",
   "metadata": {
    "pycharm": {
     "name": "#%% md\n"
    }
   },
   "source": [
    "**Do you have any suggestions to further improve the model performances?**\n",
    "\n",
    "**Answer:**\n",
    "\n",
    "Here are the suggestions to further improve the model performances:\n",
    "- Currently this dataset is small, so adding more data to train the model will help to make better and accurate models.\n",
    "- Feature selection can be used to select the useful features using techniques such as domain knowledge or correlation matrix.\n",
    "- Principal Component Analysis (PCA) can also be used to represent training data in lower dimension without loosing much information.\n",
    "- Treatment of missing values and outliers should be done with proper domain knowledge so that it prevents from inaccurate prediction.\n",
    "\n"
   ]
  }
 ],
 "metadata": {
  "colab": {
   "collapsed_sections": [],
   "name": "A4.ipynb",
   "provenance": []
  },
  "kernelspec": {
   "display_name": "Python 3",
   "language": "python",
   "name": "python3"
  },
  "language_info": {
   "codemirror_mode": {
    "name": "ipython",
    "version": 3
   },
   "file_extension": ".py",
   "mimetype": "text/x-python",
   "name": "python",
   "nbconvert_exporter": "python",
   "pygments_lexer": "ipython3",
   "version": "3.7.6"
  }
 },
 "nbformat": 4,
 "nbformat_minor": 4
}